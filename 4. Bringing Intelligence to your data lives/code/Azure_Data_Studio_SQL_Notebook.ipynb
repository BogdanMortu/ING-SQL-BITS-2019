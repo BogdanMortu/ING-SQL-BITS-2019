{
    "metadata": {
        "kernelspec": {
            "name": "SQL",
            "display_name": "SQL",
            "language": "sql"
        },
        "language_info": {
            "name": "sql",
            "version": ""
        }
    },
    "nbformat_minor": 2,
    "nbformat": 4,
    "cells": [
        {
            "cell_type": "markdown",
            "source": "Use a ML algorithm to predict the wine quality\r\n========================================\r\n\r\nThe dataset contains quality ratings (labels) for a *6497* wines samples. \r\n\r\nThe features are the wine's physical and chemical properties (11 features). \r\n\r\nWe want to use these properties to predict the quality of the wine (1 label)\r\n",
            "metadata": {}
        },
        {
            "cell_type": "code",
            "source": "DROP PROCEDURE IF EXISTS PyTrainTestSplit;\r\nGO\r\n\r\nCREATE PROCEDURE [dbo].[PyTrainTestSplit] (@pct int)\r\nAS\r\n\r\n--create the sample TRAINING table \r\nDROP TABLE IF EXISTS dbo.wine_sample_training\r\nSELECT \r\n\t* \r\ninto wine_sample_training \r\nFROM WineQuality.dbo.wine_data \r\nWHERE (ABS(CAST(BINARY_CHECKSUM(facidity)  as int)) % 100) < @pct\r\n\r\n--create the sample TESTING table \r\nDROP TABLE IF EXISTS dbo.wine_sample_testing\r\nSELECT \r\n\t* \r\ninto wine_sample_testing \r\nFROM WineQuality.dbo.wine_data\r\nWHERE (ABS(CAST(BINARY_CHECKSUM(facidity)  as int)) % 100) > @pct\r\n\r\nGO",
            "metadata": {},
            "outputs": [
                {
                    "output_type": "display_data",
                    "data": {
                        "text/html": "Commands completed successfully."
                    },
                    "metadata": {}
                },
                {
                    "output_type": "display_data",
                    "data": {
                        "text/html": "Total execution time: 00:00:00.0071822"
                    },
                    "metadata": {}
                },
                {
                    "output_type": "display_data",
                    "data": {
                        "text/html": "Commands completed successfully."
                    },
                    "metadata": {}
                },
                {
                    "output_type": "display_data",
                    "data": {
                        "text/html": "Total execution time: 00:00:00.0062005"
                    },
                    "metadata": {}
                }
            ],
            "execution_count": 1
        },
        {
            "cell_type": "markdown",
            "source": "Split the data\r\n========================================",
            "metadata": {}
        },
        {
            "cell_type": "code",
            "source": "EXEC PyTrainTestSplit 75\r\nGO",
            "metadata": {},
            "outputs": [
                {
                    "output_type": "display_data",
                    "data": {
                        "text/html": "(3775 rows affected)"
                    },
                    "metadata": {}
                },
                {
                    "output_type": "display_data",
                    "data": {
                        "text/html": "(2722 rows affected)"
                    },
                    "metadata": {}
                },
                {
                    "output_type": "display_data",
                    "data": {
                        "text/html": "Total execution time: 00:00:00.0463714"
                    },
                    "metadata": {}
                }
            ],
            "execution_count": 2
        },
        {
            "cell_type": "markdown",
            "source": "Create the Model\r\n================",
            "metadata": {}
        },
        {
            "cell_type": "code",
            "source": "DROP PROCEDURE IF EXISTS PyTrain;\r\nGO\r\n\r\nCREATE PROCEDURE [dbo].[PyTrain] (\r\n  @trained_model varbinary(max) OUTPUT\r\n)\r\nAS\r\nBEGIN\r\nEXEC sp_execute_external_script\r\n  @language = N'Python',\r\n  @script = N'\r\nimport numpy\r\nimport pickle\r\nfrom sklearn.linear_model import LogisticRegression\r\nfrom revoscalepy import RxLocalSeq, RxInSqlServer, rx_get_compute_context, rx_set_compute_context\r\nfrom revoscalepy import rx_exec, rx_data_step\r\nfrom microsoftml import rx_logistic_regression, rx_fast_trees\r\nimport pandas as pd\r\n\r\ncols = InputDataSet.columns.drop([\"quality\", \"color\"])\r\nds = InputDataSet.drop(\"color\",axis=1).apply(pd.to_numeric)\r\nmod = rx_fast_trees(\"quality ~\" + \"+\".join(cols), data=ds, method=\"regression\")\r\ntrained_model = pickle.dumps(mod)\r\n',\r\n@input_data_1 = N'SELECT * FROM [WineQuality].[dbo].[wine_sample_training]\r\n',\r\n@input_data_1_name = N'InputDataSet',\r\n@params = N'@trained_model varbinary(max) OUTPUT',\r\n@trained_model = @trained_model OUTPUT;\r\nEND;\r\nGO",
            "metadata": {},
            "outputs": [
                {
                    "output_type": "display_data",
                    "data": {
                        "text/html": "Commands completed successfully."
                    },
                    "metadata": {}
                },
                {
                    "output_type": "display_data",
                    "data": {
                        "text/html": "Total execution time: 00:00:00.0077219"
                    },
                    "metadata": {}
                },
                {
                    "output_type": "display_data",
                    "data": {
                        "text/html": "Commands completed successfully."
                    },
                    "metadata": {}
                },
                {
                    "output_type": "display_data",
                    "data": {
                        "text/html": "Total execution time: 00:00:00.0168187"
                    },
                    "metadata": {}
                }
            ],
            "execution_count": 4
        },
        {
            "cell_type": "markdown",
            "source": "Can we find a better model?\r\n--------------------\r\n\r\nAs is standard for creating and deploying machine learning models, it's important to try several algorithms before you deploy one, to make sure you're using a model that produces the most accurate results. Here are some other built-in packages that we could try:\r\n\r\n- rx_btrees\r\n- rx_fast_trees\r\n- rx_dforest\r\n\r\n\r\nFor the purpose of this exercise, we'll just assume this is the best model after our experimentation.",
            "metadata": {}
        },
        {
            "cell_type": "markdown",
            "source": "Train & store the model into a sql table\r\n====================",
            "metadata": {}
        },
        {
            "cell_type": "code",
            "source": "DROP TABLE IF EXISTS dbo.wine_quality_models;\r\nGO\r\n\r\nCREATE TABLE dbo.wine_quality_models (\r\n    model_name varchar(255),\r\n    model varbinary(max)\r\n);\r\nGO\r\n\r\n/* Train Model */\r\nDECLARE @model VARBINARY(MAX);\r\nEXEC PyTrain @model OUTPUT;\r\n\r\n/* Store the Model into a sql table */\r\nINSERT INTO dbo.wine_quality_models (model_name, model) \r\nVALUES('Pytrain_model', @model);\r\nGO",
            "metadata": {},
            "outputs": [
                {
                    "output_type": "display_data",
                    "data": {
                        "text/html": "Commands completed successfully."
                    },
                    "metadata": {}
                },
                {
                    "output_type": "display_data",
                    "data": {
                        "text/html": "Total execution time: 00:00:00.0077702"
                    },
                    "metadata": {}
                },
                {
                    "output_type": "display_data",
                    "data": {
                        "text/html": "Commands completed successfully."
                    },
                    "metadata": {}
                },
                {
                    "output_type": "display_data",
                    "data": {
                        "text/html": "Total execution time: 00:00:00.0069900"
                    },
                    "metadata": {}
                },
                {
                    "output_type": "display_data",
                    "data": {
                        "text/html": "STDOUT message(s) from external script: \n'unbalanced_sets' ignored for method 'regression'\r\nNot adding a normalizer.\r\nMaking per-feature arrays\r\nChanging data from row-wise to column-wise\r\nBeginning processing data.\r\nRows Read: 3775, Read Time: 0.005, Transform Time: 0\r\nBeginning processing data.\r\nProcessed 3775 instances\r\nBinning and forming Feature objects\r\nReserved memory for tree learner: 267384 bytes\r\nStarting to train ...\r\nNot training a calibrator because it is not needed.\r\nElapsed time: 00:00:02.6709488\r\nElapsed time: 00:00:00.3991028\r"
                    },
                    "metadata": {}
                },
                {
                    "output_type": "display_data",
                    "data": {
                        "text/html": "(1 row affected)"
                    },
                    "metadata": {}
                },
                {
                    "output_type": "display_data",
                    "data": {
                        "text/html": "Total execution time: 00:00:21.1852842"
                    },
                    "metadata": {}
                }
            ],
            "execution_count": 5
        },
        {
            "cell_type": "markdown",
            "source": "Predict the quality of the wine (using as parameters: @model and @input-data)\r\n====================",
            "metadata": {}
        },
        {
            "cell_type": "code",
            "source": "DROP PROCEDURE IF EXISTS dbo.PredictQuality;\r\nGO \r\n\r\nCREATE PROCEDURE [dbo].[PredictQuality] (@model varchar(50), @inquery nvarchar(max))\r\nAS\r\nBEGIN\r\nDECLARE @lmodel2 varbinary(max) = (select model from dbo.wine_quality_models where model_name = @model);\r\nEXEC sp_execute_external_script\r\n  @language = N'Python',\r\n  @script = N'\r\nimport pickle;\r\nimport numpy;\r\nimport pandas as pd\r\nfrom sklearn import metrics\r\nfrom microsoftml import rx_predict\r\nds = InputDataSet.drop(\"color\",axis=1).apply(pd.to_numeric)\r\nmod = pickle.loads(lmodel2)\r\nX = InputDataSet[[\"facidity\", \"vacidity\", \"citric\", \"sugar\", \"chlorides\", \"fsulfur\", \"tsulfur\", \"density\", \"pH\", \"sulphates\", \"alcohol\"]]\r\n#y = numpy.ravel(InputDataSet[[\"quality\"]])\r\npred_list = rx_predict(model = mod, data = X, extra_vars_to_write=[\"quality_Pred\"])\r\n\r\n#OutputDataSet = pd.DataFrame({\"quality\": InputDataSet[[\"quality\"]], \"quality_Pred\": round(pred_list,1)})\r\nOutputDataSet = round(pred_list,1)\r\n',\t\r\n  @input_data_1 = @inquery,\r\n  @input_data_1_name = N'InputDataSet',\r\n  @params = N'@lmodel2 varbinary(max)',\r\n  @lmodel2 = @lmodel2\r\nWITH RESULT SETS ((Score float));\r\nEND;",
            "metadata": {},
            "outputs": [
                {
                    "output_type": "display_data",
                    "data": {
                        "text/html": "Commands completed successfully."
                    },
                    "metadata": {}
                },
                {
                    "output_type": "display_data",
                    "data": {
                        "text/html": "Total execution time: 00:00:00.0152787"
                    },
                    "metadata": {}
                },
                {
                    "output_type": "display_data",
                    "data": {
                        "text/html": "Commands completed successfully."
                    },
                    "metadata": {}
                },
                {
                    "output_type": "display_data",
                    "data": {
                        "text/html": "Total execution time: 00:00:00.0077578"
                    },
                    "metadata": {}
                }
            ],
            "execution_count": 6
        },
        {
            "cell_type": "markdown",
            "source": "Execute Stored Procedure on unseen data (testing data set)\r\n====================",
            "metadata": {}
        },
        {
            "cell_type": "code",
            "source": "DECLARE @query_string nvarchar(max)\r\n  SET @query_string='\r\n  select * from dbo.wine_sample_testing'\r\nEXEC [dbo].[PredictQuality] 'Pytrain_model', @query_string;",
            "metadata": {},
            "outputs": [
                {
                    "output_type": "display_data",
                    "data": {
                        "text/html": "STDOUT message(s) from external script: \nBeginning processing data.\r\nRows Read: 2722, Read Time: 0.001, Transform Time: 0\r\nBeginning processing data.\r\nElapsed time: 00:00:01.5796885\r\nFinished writing 2722 rows.\r\nWriting completed.\r"
                    },
                    "metadata": {}
                },
                {
                    "output_type": "display_data",
                    "data": {
                        "text/html": "(2722 rows affected)"
                    },
                    "metadata": {}
                },
                {
                    "output_type": "display_data",
                    "data": {
                        "text/html": "Total execution time: 00:00:08.0770831"
                    },
                    "metadata": {}
                },
                {
                    "output_type": "execute_result",
                    "metadata": {},
                    "execution_count": 7,
                    "data": {
                        "application/vnd.dataresource+json": {
                            "schema": {
                                "fields": [
                                    {
                                        "name": "Score"
                                    }
                                ]
                            },
                            "data": [
                                {
                                    "0": "5.6"
                                },
                                {
                                    "0": "5.7"
                                },
                                {
                                    "0": "5.7"
                                },
                                {
                                    "0": "5.6"
                                },
                                {
                                    "0": "6"
                                },
                                {
                                    "0": "5.5"
                                },
                                {
                                    "0": "4.7"
                                },
                                {
                                    "0": "5.6"
                                },
                                {
                                    "0": "5.9"
                                },
                                {
                                    "0": "6.1"
                                },
                                {
                                    "0": "6.8"
                                },
                                {
                                    "0": "6"
                                },
                                {
                                    "0": "5.9"
                                },
                                {
                                    "0": "6.1"
                                },
                                {
                                    "0": "5.7"
                                },
                                {
                                    "0": "5.1"
                                },
                                {
                                    "0": "5.1"
                                },
                                {
                                    "0": "5.3"
                                },
                                {
                                    "0": "5.7"
                                },
                                {
                                    "0": "5.3"
                                },
                                {
                                    "0": "5.8"
                                },
                                {
                                    "0": "6"
                                },
                                {
                                    "0": "6.4"
                                },
                                {
                                    "0": "4.9"
                                },
                                {
                                    "0": "5.7"
                                },
                                {
                                    "0": "5.6"
                                },
                                {
                                    "0": "5.6"
                                },
                                {
                                    "0": "6.7"
                                },
                                {
                                    "0": "6.1"
                                },
                                {
                                    "0": "6.3"
                                },
                                {
                                    "0": "5.7"
                                },
                                {
                                    "0": "5.2"
                                },
                                {
                                    "0": "5.9"
                                },
                                {
                                    "0": "5"
                                },
                                {
                                    "0": "5"
                                },
                                {
                                    "0": "5.2"
                                },
                                {
                                    "0": "5"
                                },
                                {
                                    "0": "5"
                                },
                                {
                                    "0": "5.2"
                                },
                                {
                                    "0": "6.1"
                                },
                                {
                                    "0": "5.5"
                                },
                                {
                                    "0": "5.3"
                                },
                                {
                                    "0": "5.7"
                                },
                                {
                                    "0": "5.3"
                                },
                                {
                                    "0": "5.3"
                                },
                                {
                                    "0": "6.1"
                                },
                                {
                                    "0": "5.7"
                                },
                                {
                                    "0": "6.1"
                                },
                                {
                                    "0": "6.1"
                                },
                                {
                                    "0": "5.1"
                                },
                                {
                                    "0": "5.3"
                                },
                                {
                                    "0": "4.7"
                                },
                                {
                                    "0": "6.2"
                                },
                                {
                                    "0": "5.3"
                                },
                                {
                                    "0": "5.3"
                                },
                                {
                                    "0": "5.3"
                                },
                                {
                                    "0": "5.9"
                                },
                                {
                                    "0": "5.8"
                                },
                                {
                                    "0": "5.7"
                                },
                                {
                                    "0": "4.8"
                                },
                                {
                                    "0": "5.2"
                                },
                                {
                                    "0": "5.2"
                                },
                                {
                                    "0": "6.5"
                                },
                                {
                                    "0": "5.5"
                                },
                                {
                                    "0": "6.2"
                                },
                                {
                                    "0": "5.9"
                                },
                                {
                                    "0": "5.7"
                                },
                                {
                                    "0": "5.4"
                                },
                                {
                                    "0": "5.4"
                                },
                                {
                                    "0": "6.3"
                                },
                                {
                                    "0": "6.3"
                                },
                                {
                                    "0": "5.4"
                                },
                                {
                                    "0": "5.9"
                                },
                                {
                                    "0": "5.4"
                                },
                                {
                                    "0": "6.4"
                                },
                                {
                                    "0": "5.7"
                                },
                                {
                                    "0": "5"
                                },
                                {
                                    "0": "5.7"
                                },
                                {
                                    "0": "6.4"
                                },
                                {
                                    "0": "5.4"
                                },
                                {
                                    "0": "5.3"
                                },
                                {
                                    "0": "6.2"
                                },
                                {
                                    "0": "5.3"
                                },
                                {
                                    "0": "5.3"
                                },
                                {
                                    "0": "5.9"
                                },
                                {
                                    "0": "5.9"
                                },
                                {
                                    "0": "5.6"
                                },
                                {
                                    "0": "5.9"
                                },
                                {
                                    "0": "5.5"
                                },
                                {
                                    "0": "6.1"
                                },
                                {
                                    "0": "5.5"
                                },
                                {
                                    "0": "5.4"
                                },
                                {
                                    "0": "6.4"
                                },
                                {
                                    "0": "6.1"
                                },
                                {
                                    "0": "5"
                                },
                                {
                                    "0": "5.4"
                                },
                                {
                                    "0": "5.1"
                                },
                                {
                                    "0": "5.4"
                                },
                                {
                                    "0": "5.7"
                                },
                                {
                                    "0": "5.7"
                                },
                                {
                                    "0": "5.7"
                                },
                                {
                                    "0": "5.7"
                                },
                                {
                                    "0": "6.3"
                                },
                                {
                                    "0": "5.6"
                                },
                                {
                                    "0": "5.9"
                                },
                                {
                                    "0": "6.1"
                                },
                                {
                                    "0": "5.9"
                                },
                                {
                                    "0": "5.8"
                                },
                                {
                                    "0": "5"
                                },
                                {
                                    "0": "5"
                                },
                                {
                                    "0": "5.6"
                                },
                                {
                                    "0": "4.7"
                                },
                                {
                                    "0": "5.7"
                                },
                                {
                                    "0": "5.1"
                                },
                                {
                                    "0": "5"
                                },
                                {
                                    "0": "5"
                                },
                                {
                                    "0": "5.2"
                                },
                                {
                                    "0": "5.2"
                                },
                                {
                                    "0": "5.5"
                                },
                                {
                                    "0": "5.5"
                                },
                                {
                                    "0": "5.9"
                                },
                                {
                                    "0": "6.6"
                                },
                                {
                                    "0": "5.2"
                                },
                                {
                                    "0": "5"
                                },
                                {
                                    "0": "5.7"
                                },
                                {
                                    "0": "5.7"
                                },
                                {
                                    "0": "5.7"
                                },
                                {
                                    "0": "5.7"
                                },
                                {
                                    "0": "5.6"
                                },
                                {
                                    "0": "5.1"
                                },
                                {
                                    "0": "6.9"
                                },
                                {
                                    "0": "6"
                                },
                                {
                                    "0": "5.3"
                                },
                                {
                                    "0": "5.3"
                                },
                                {
                                    "0": "5.3"
                                },
                                {
                                    "0": "5.3"
                                },
                                {
                                    "0": "5.8"
                                },
                                {
                                    "0": "5.8"
                                },
                                {
                                    "0": "5.5"
                                },
                                {
                                    "0": "5.5"
                                },
                                {
                                    "0": "6.5"
                                },
                                {
                                    "0": "4.1"
                                },
                                {
                                    "0": "5.3"
                                },
                                {
                                    "0": "6.3"
                                },
                                {
                                    "0": "5.8"
                                },
                                {
                                    "0": "5.4"
                                },
                                {
                                    "0": "5.1"
                                },
                                {
                                    "0": "5.7"
                                },
                                {
                                    "0": "5.8"
                                },
                                {
                                    "0": "5.7"
                                },
                                {
                                    "0": "5.8"
                                },
                                {
                                    "0": "5.7"
                                },
                                {
                                    "0": "6"
                                },
                                {
                                    "0": "6.2"
                                },
                                {
                                    "0": "6.8"
                                },
                                {
                                    "0": "5.4"
                                },
                                {
                                    "0": "6.8"
                                },
                                {
                                    "0": "5.4"
                                },
                                {
                                    "0": "5.6"
                                },
                                {
                                    "0": "5.6"
                                },
                                {
                                    "0": "4.7"
                                },
                                {
                                    "0": "5.6"
                                },
                                {
                                    "0": "5.5"
                                },
                                {
                                    "0": "6"
                                },
                                {
                                    "0": "5.5"
                                },
                                {
                                    "0": "6"
                                },
                                {
                                    "0": "6.2"
                                },
                                {
                                    "0": "6.2"
                                },
                                {
                                    "0": "5.5"
                                },
                                {
                                    "0": "5.2"
                                },
                                {
                                    "0": "5.5"
                                },
                                {
                                    "0": "5.1"
                                },
                                {
                                    "0": "5.6"
                                },
                                {
                                    "0": "6"
                                },
                                {
                                    "0": "6.2"
                                },
                                {
                                    "0": "5.8"
                                },
                                {
                                    "0": "5.5"
                                },
                                {
                                    "0": "5.5"
                                },
                                {
                                    "0": "5.9"
                                },
                                {
                                    "0": "5.5"
                                },
                                {
                                    "0": "5"
                                },
                                {
                                    "0": "7.2"
                                },
                                {
                                    "0": "5.6"
                                },
                                {
                                    "0": "5.9"
                                },
                                {
                                    "0": "6.2"
                                },
                                {
                                    "0": "6.2"
                                },
                                {
                                    "0": "5.6"
                                },
                                {
                                    "0": "5.9"
                                },
                                {
                                    "0": "5.3"
                                },
                                {
                                    "0": "5.3"
                                },
                                {
                                    "0": "5.8"
                                },
                                {
                                    "0": "6.4"
                                },
                                {
                                    "0": "5.5"
                                },
                                {
                                    "0": "5.5"
                                },
                                {
                                    "0": "5.5"
                                },
                                {
                                    "0": "5.5"
                                },
                                {
                                    "0": "5.5"
                                },
                                {
                                    "0": "5.9"
                                },
                                {
                                    "0": "5.4"
                                },
                                {
                                    "0": "5.9"
                                },
                                {
                                    "0": "4.6"
                                },
                                {
                                    "0": "6.8"
                                },
                                {
                                    "0": "5.9"
                                },
                                {
                                    "0": "5.7"
                                },
                                {
                                    "0": "6.8"
                                },
                                {
                                    "0": "4.8"
                                },
                                {
                                    "0": "5.5"
                                },
                                {
                                    "0": "6"
                                },
                                {
                                    "0": "6"
                                },
                                {
                                    "0": "5.4"
                                },
                                {
                                    "0": "5.5"
                                },
                                {
                                    "0": "5.3"
                                },
                                {
                                    "0": "6.1"
                                },
                                {
                                    "0": "5.3"
                                },
                                {
                                    "0": "5.7"
                                },
                                {
                                    "0": "6"
                                },
                                {
                                    "0": "5.7"
                                },
                                {
                                    "0": "5.9"
                                },
                                {
                                    "0": "6.5"
                                },
                                {
                                    "0": "6.2"
                                },
                                {
                                    "0": "5"
                                },
                                {
                                    "0": "6.2"
                                },
                                {
                                    "0": "5.8"
                                },
                                {
                                    "0": "6.2"
                                },
                                {
                                    "0": "5.4"
                                },
                                {
                                    "0": "5.6"
                                },
                                {
                                    "0": "6.2"
                                },
                                {
                                    "0": "5.8"
                                },
                                {
                                    "0": "7"
                                },
                                {
                                    "0": "5.3"
                                },
                                {
                                    "0": "5.5"
                                },
                                {
                                    "0": "5.3"
                                },
                                {
                                    "0": "5.7"
                                },
                                {
                                    "0": "6.5"
                                },
                                {
                                    "0": "6.5"
                                },
                                {
                                    "0": "4.8"
                                },
                                {
                                    "0": "6.1"
                                },
                                {
                                    "0": "5.5"
                                },
                                {
                                    "0": "6.4"
                                },
                                {
                                    "0": "5.6"
                                },
                                {
                                    "0": "5.8"
                                },
                                {
                                    "0": "6.4"
                                },
                                {
                                    "0": "7"
                                },
                                {
                                    "0": "5.2"
                                },
                                {
                                    "0": "5.9"
                                },
                                {
                                    "0": "5.9"
                                },
                                {
                                    "0": "6.4"
                                },
                                {
                                    "0": "4.3"
                                },
                                {
                                    "0": "5.1"
                                },
                                {
                                    "0": "5.8"
                                },
                                {
                                    "0": "6.4"
                                },
                                {
                                    "0": "6.2"
                                },
                                {
                                    "0": "5.5"
                                },
                                {
                                    "0": "5.5"
                                },
                                {
                                    "0": "5.5"
                                },
                                {
                                    "0": "5.5"
                                },
                                {
                                    "0": "5.5"
                                },
                                {
                                    "0": "5.5"
                                },
                                {
                                    "0": "5"
                                },
                                {
                                    "0": "5.9"
                                },
                                {
                                    "0": "5.6"
                                },
                                {
                                    "0": "5"
                                },
                                {
                                    "0": "5.5"
                                },
                                {
                                    "0": "6.2"
                                },
                                {
                                    "0": "5.5"
                                },
                                {
                                    "0": "6.2"
                                },
                                {
                                    "0": "5.2"
                                },
                                {
                                    "0": "6.7"
                                },
                                {
                                    "0": "5.2"
                                },
                                {
                                    "0": "5.5"
                                },
                                {
                                    "0": "5.7"
                                },
                                {
                                    "0": "5.8"
                                },
                                {
                                    "0": "5.1"
                                },
                                {
                                    "0": "5.3"
                                },
                                {
                                    "0": "6.5"
                                },
                                {
                                    "0": "6.5"
                                },
                                {
                                    "0": "6.6"
                                },
                                {
                                    "0": "5.3"
                                },
                                {
                                    "0": "5.6"
                                },
                                {
                                    "0": "5.1"
                                },
                                {
                                    "0": "5.9"
                                },
                                {
                                    "0": "5.9"
                                },
                                {
                                    "0": "5.5"
                                },
                                {
                                    "0": "6"
                                },
                                {
                                    "0": "4.7"
                                },
                                {
                                    "0": "6.6"
                                },
                                {
                                    "0": "6.3"
                                },
                                {
                                    "0": "6.4"
                                },
                                {
                                    "0": "5.8"
                                },
                                {
                                    "0": "6"
                                },
                                {
                                    "0": "6"
                                },
                                {
                                    "0": "6.4"
                                },
                                {
                                    "0": "6.2"
                                },
                                {
                                    "0": "5.6"
                                },
                                {
                                    "0": "5.4"
                                },
                                {
                                    "0": "5.4"
                                },
                                {
                                    "0": "5.6"
                                },
                                {
                                    "0": "6.3"
                                },
                                {
                                    "0": "6.1"
                                },
                                {
                                    "0": "5.9"
                                },
                                {
                                    "0": "5.9"
                                },
                                {
                                    "0": "5.6"
                                },
                                {
                                    "0": "5.3"
                                },
                                {
                                    "0": "5"
                                },
                                {
                                    "0": "5.3"
                                },
                                {
                                    "0": "5.3"
                                },
                                {
                                    "0": "5.9"
                                },
                                {
                                    "0": "5.2"
                                },
                                {
                                    "0": "5.2"
                                },
                                {
                                    "0": "6.4"
                                },
                                {
                                    "0": "5.3"
                                },
                                {
                                    "0": "5.5"
                                },
                                {
                                    "0": "5.4"
                                },
                                {
                                    "0": "6.4"
                                },
                                {
                                    "0": "5.8"
                                },
                                {
                                    "0": "5.4"
                                },
                                {
                                    "0": "5.4"
                                },
                                {
                                    "0": "5.4"
                                },
                                {
                                    "0": "5.4"
                                },
                                {
                                    "0": "5.4"
                                },
                                {
                                    "0": "6.3"
                                },
                                {
                                    "0": "5.1"
                                },
                                {
                                    "0": "5.2"
                                },
                                {
                                    "0": "4.8"
                                },
                                {
                                    "0": "5.2"
                                },
                                {
                                    "0": "6.2"
                                },
                                {
                                    "0": "5.1"
                                },
                                {
                                    "0": "6.2"
                                },
                                {
                                    "0": "5.1"
                                },
                                {
                                    "0": "6.6"
                                },
                                {
                                    "0": "4.9"
                                },
                                {
                                    "0": "6.5"
                                },
                                {
                                    "0": "6.5"
                                },
                                {
                                    "0": "6.5"
                                },
                                {
                                    "0": "5.2"
                                },
                                {
                                    "0": "5.5"
                                },
                                {
                                    "0": "5.4"
                                },
                                {
                                    "0": "5.4"
                                },
                                {
                                    "0": "5.5"
                                },
                                {
                                    "0": "5.5"
                                },
                                {
                                    "0": "5.6"
                                },
                                {
                                    "0": "6.9"
                                },
                                {
                                    "0": "6.5"
                                },
                                {
                                    "0": "6.3"
                                },
                                {
                                    "0": "6.1"
                                },
                                {
                                    "0": "5.3"
                                },
                                {
                                    "0": "5.4"
                                },
                                {
                                    "0": "6.1"
                                },
                                {
                                    "0": "5.6"
                                },
                                {
                                    "0": "5.8"
                                },
                                {
                                    "0": "6"
                                },
                                {
                                    "0": "6.4"
                                },
                                {
                                    "0": "6.2"
                                },
                                {
                                    "0": "5.4"
                                },
                                {
                                    "0": "5.4"
                                },
                                {
                                    "0": "6.2"
                                },
                                {
                                    "0": "5"
                                },
                                {
                                    "0": "6.9"
                                },
                                {
                                    "0": "6.5"
                                },
                                {
                                    "0": "6.9"
                                },
                                {
                                    "0": "5"
                                },
                                {
                                    "0": "5.3"
                                },
                                {
                                    "0": "6.4"
                                },
                                {
                                    "0": "5.7"
                                },
                                {
                                    "0": "6.5"
                                },
                                {
                                    "0": "6.6"
                                },
                                {
                                    "0": "5.9"
                                },
                                {
                                    "0": "6.1"
                                },
                                {
                                    "0": "6.1"
                                },
                                {
                                    "0": "5.8"
                                },
                                {
                                    "0": "5.2"
                                },
                                {
                                    "0": "5.8"
                                },
                                {
                                    "0": "5.5"
                                },
                                {
                                    "0": "5.4"
                                },
                                {
                                    "0": "5.4"
                                },
                                {
                                    "0": "5.5"
                                },
                                {
                                    "0": "5.5"
                                },
                                {
                                    "0": "5.4"
                                },
                                {
                                    "0": "6.8"
                                },
                                {
                                    "0": "6.8"
                                },
                                {
                                    "0": "5.5"
                                },
                                {
                                    "0": "5.1"
                                },
                                {
                                    "0": "5"
                                },
                                {
                                    "0": "5.8"
                                },
                                {
                                    "0": "5.5"
                                },
                                {
                                    "0": "5.5"
                                },
                                {
                                    "0": "5.5"
                                },
                                {
                                    "0": "4.8"
                                },
                                {
                                    "0": "5"
                                },
                                {
                                    "0": "5.8"
                                },
                                {
                                    "0": "6.8"
                                },
                                {
                                    "0": "6.5"
                                },
                                {
                                    "0": "5.9"
                                },
                                {
                                    "0": "6.3"
                                },
                                {
                                    "0": "6.3"
                                },
                                {
                                    "0": "7.4"
                                },
                                {
                                    "0": "6.3"
                                },
                                {
                                    "0": "6.8"
                                },
                                {
                                    "0": "6"
                                },
                                {
                                    "0": "6"
                                },
                                {
                                    "0": "6"
                                },
                                {
                                    "0": "6.2"
                                },
                                {
                                    "0": "6.2"
                                },
                                {
                                    "0": "6.4"
                                },
                                {
                                    "0": "6.4"
                                },
                                {
                                    "0": "5.2"
                                },
                                {
                                    "0": "7"
                                },
                                {
                                    "0": "5.9"
                                },
                                {
                                    "0": "6.5"
                                },
                                {
                                    "0": "6"
                                },
                                {
                                    "0": "6.1"
                                },
                                {
                                    "0": "5.2"
                                },
                                {
                                    "0": "5.8"
                                },
                                {
                                    "0": "6.1"
                                },
                                {
                                    "0": "6.1"
                                },
                                {
                                    "0": "6.5"
                                },
                                {
                                    "0": "6.5"
                                },
                                {
                                    "0": "5.9"
                                },
                                {
                                    "0": "5.9"
                                },
                                {
                                    "0": "5.5"
                                },
                                {
                                    "0": "6.2"
                                },
                                {
                                    "0": "5.5"
                                },
                                {
                                    "0": "6.1"
                                },
                                {
                                    "0": "6.2"
                                },
                                {
                                    "0": "5.8"
                                },
                                {
                                    "0": "5.3"
                                },
                                {
                                    "0": "5.3"
                                },
                                {
                                    "0": "6.5"
                                },
                                {
                                    "0": "6.1"
                                },
                                {
                                    "0": "4.5"
                                },
                                {
                                    "0": "4.5"
                                },
                                {
                                    "0": "6.2"
                                },
                                {
                                    "0": "5.9"
                                },
                                {
                                    "0": "6.3"
                                },
                                {
                                    "0": "6"
                                },
                                {
                                    "0": "5.5"
                                },
                                {
                                    "0": "5.5"
                                },
                                {
                                    "0": "6.8"
                                },
                                {
                                    "0": "4.9"
                                },
                                {
                                    "0": "6.6"
                                },
                                {
                                    "0": "5.5"
                                },
                                {
                                    "0": "5.6"
                                },
                                {
                                    "0": "5.3"
                                },
                                {
                                    "0": "5.7"
                                },
                                {
                                    "0": "5.4"
                                },
                                {
                                    "0": "6"
                                },
                                {
                                    "0": "6"
                                },
                                {
                                    "0": "5.4"
                                },
                                {
                                    "0": "5.1"
                                },
                                {
                                    "0": "5.4"
                                },
                                {
                                    "0": "5.4"
                                },
                                {
                                    "0": "5.4"
                                },
                                {
                                    "0": "5.4"
                                },
                                {
                                    "0": "6.4"
                                },
                                {
                                    "0": "6.6"
                                },
                                {
                                    "0": "6.9"
                                },
                                {
                                    "0": "5.3"
                                },
                                {
                                    "0": "6.4"
                                },
                                {
                                    "0": "6.4"
                                },
                                {
                                    "0": "6.6"
                                },
                                {
                                    "0": "6.5"
                                },
                                {
                                    "0": "5.6"
                                },
                                {
                                    "0": "5.4"
                                },
                                {
                                    "0": "5.8"
                                },
                                {
                                    "0": "5"
                                },
                                {
                                    "0": "5.8"
                                },
                                {
                                    "0": "5.8"
                                },
                                {
                                    "0": "6.7"
                                },
                                {
                                    "0": "6.7"
                                },
                                {
                                    "0": "5"
                                },
                                {
                                    "0": "6.3"
                                },
                                {
                                    "0": "6.3"
                                },
                                {
                                    "0": "5.5"
                                },
                                {
                                    "0": "6.3"
                                },
                                {
                                    "0": "6"
                                },
                                {
                                    "0": "5.9"
                                },
                                {
                                    "0": "5.9"
                                },
                                {
                                    "0": "5.8"
                                },
                                {
                                    "0": "5.4"
                                },
                                {
                                    "0": "5.4"
                                },
                                {
                                    "0": "5"
                                },
                                {
                                    "0": "6.3"
                                },
                                {
                                    "0": "5.1"
                                },
                                {
                                    "0": "6.3"
                                },
                                {
                                    "0": "5.9"
                                },
                                {
                                    "0": "5.4"
                                },
                                {
                                    "0": "5.8"
                                },
                                {
                                    "0": "5.2"
                                },
                                {
                                    "0": "5.9"
                                },
                                {
                                    "0": "6.3"
                                },
                                {
                                    "0": "4.6"
                                },
                                {
                                    "0": "5.6"
                                },
                                {
                                    "0": "6"
                                },
                                {
                                    "0": "4.6"
                                },
                                {
                                    "0": "6.1"
                                },
                                {
                                    "0": "4.8"
                                },
                                {
                                    "0": "6.1"
                                },
                                {
                                    "0": "5.5"
                                },
                                {
                                    "0": "5.8"
                                },
                                {
                                    "0": "6.5"
                                },
                                {
                                    "0": "5.8"
                                },
                                {
                                    "0": "5.8"
                                },
                                {
                                    "0": "5.7"
                                },
                                {
                                    "0": "6"
                                },
                                {
                                    "0": "5.2"
                                },
                                {
                                    "0": "6.4"
                                },
                                {
                                    "0": "6"
                                },
                                {
                                    "0": "6"
                                },
                                {
                                    "0": "5.9"
                                },
                                {
                                    "0": "5.8"
                                },
                                {
                                    "0": "5.7"
                                },
                                {
                                    "0": "5.5"
                                },
                                {
                                    "0": "6.3"
                                },
                                {
                                    "0": "7.1"
                                },
                                {
                                    "0": "5.1"
                                },
                                {
                                    "0": "5.2"
                                },
                                {
                                    "0": "6"
                                },
                                {
                                    "0": "6.4"
                                },
                                {
                                    "0": "7.5"
                                },
                                {
                                    "0": "7.5"
                                },
                                {
                                    "0": "5.9"
                                },
                                {
                                    "0": "6"
                                },
                                {
                                    "0": "5.2"
                                },
                                {
                                    "0": "5.2"
                                },
                                {
                                    "0": "5.9"
                                },
                                {
                                    "0": "6.3"
                                },
                                {
                                    "0": "5.5"
                                },
                                {
                                    "0": "5.8"
                                },
                                {
                                    "0": "5.9"
                                },
                                {
                                    "0": "6.3"
                                },
                                {
                                    "0": "4.9"
                                },
                                {
                                    "0": "6.4"
                                },
                                {
                                    "0": "5.9"
                                },
                                {
                                    "0": "5.1"
                                },
                                {
                                    "0": "5.1"
                                },
                                {
                                    "0": "5.3"
                                },
                                {
                                    "0": "5.1"
                                },
                                {
                                    "0": "6.2"
                                },
                                {
                                    "0": "5.1"
                                },
                                {
                                    "0": "5.3"
                                },
                                {
                                    "0": "5.7"
                                },
                                {
                                    "0": "5.3"
                                },
                                {
                                    "0": "6.2"
                                },
                                {
                                    "0": "5.5"
                                },
                                {
                                    "0": "5.9"
                                },
                                {
                                    "0": "6.3"
                                },
                                {
                                    "0": "6.2"
                                },
                                {
                                    "0": "5.8"
                                },
                                {
                                    "0": "5.3"
                                },
                                {
                                    "0": "6.3"
                                },
                                {
                                    "0": "7.1"
                                },
                                {
                                    "0": "4.8"
                                },
                                {
                                    "0": "5.8"
                                },
                                {
                                    "0": "5.1"
                                },
                                {
                                    "0": "5.9"
                                },
                                {
                                    "0": "5.2"
                                },
                                {
                                    "0": "5.7"
                                },
                                {
                                    "0": "5.7"
                                },
                                {
                                    "0": "5.7"
                                },
                                {
                                    "0": "5.2"
                                },
                                {
                                    "0": "6.1"
                                },
                                {
                                    "0": "6"
                                },
                                {
                                    "0": "4.9"
                                },
                                {
                                    "0": "4.9"
                                },
                                {
                                    "0": "5"
                                },
                                {
                                    "0": "5.2"
                                },
                                {
                                    "0": "6.1"
                                },
                                {
                                    "0": "4.9"
                                },
                                {
                                    "0": "6.2"
                                },
                                {
                                    "0": "6.8"
                                },
                                {
                                    "0": "5.3"
                                },
                                {
                                    "0": "6.6"
                                },
                                {
                                    "0": "6.6"
                                },
                                {
                                    "0": "5.8"
                                },
                                {
                                    "0": "6.9"
                                },
                                {
                                    "0": "6.6"
                                },
                                {
                                    "0": "6.4"
                                },
                                {
                                    "0": "5.7"
                                },
                                {
                                    "0": "5.9"
                                },
                                {
                                    "0": "6.5"
                                },
                                {
                                    "0": "6.4"
                                },
                                {
                                    "0": "6.5"
                                },
                                {
                                    "0": "5.6"
                                },
                                {
                                    "0": "6.4"
                                },
                                {
                                    "0": "5.5"
                                },
                                {
                                    "0": "5.5"
                                },
                                {
                                    "0": "5.9"
                                },
                                {
                                    "0": "5.5"
                                },
                                {
                                    "0": "5.6"
                                },
                                {
                                    "0": "6.2"
                                },
                                {
                                    "0": "6.3"
                                },
                                {
                                    "0": "5.5"
                                },
                                {
                                    "0": "5.5"
                                },
                                {
                                    "0": "5.5"
                                },
                                {
                                    "0": "5.8"
                                },
                                {
                                    "0": "6.9"
                                },
                                {
                                    "0": "5.6"
                                },
                                {
                                    "0": "5.3"
                                },
                                {
                                    "0": "5.6"
                                },
                                {
                                    "0": "5.7"
                                },
                                {
                                    "0": "6.7"
                                },
                                {
                                    "0": "6.3"
                                },
                                {
                                    "0": "5.3"
                                },
                                {
                                    "0": "6.3"
                                },
                                {
                                    "0": "6.7"
                                },
                                {
                                    "0": "6.6"
                                },
                                {
                                    "0": "6"
                                },
                                {
                                    "0": "6"
                                },
                                {
                                    "0": "6.3"
                                },
                                {
                                    "0": "6.9"
                                },
                                {
                                    "0": "6.9"
                                },
                                {
                                    "0": "5.9"
                                },
                                {
                                    "0": "5.7"
                                },
                                {
                                    "0": "6.2"
                                },
                                {
                                    "0": "5.5"
                                },
                                {
                                    "0": "5.9"
                                },
                                {
                                    "0": "6.2"
                                },
                                {
                                    "0": "5.1"
                                },
                                {
                                    "0": "6.3"
                                },
                                {
                                    "0": "5.9"
                                },
                                {
                                    "0": "6.3"
                                },
                                {
                                    "0": "6.5"
                                },
                                {
                                    "0": "5.9"
                                },
                                {
                                    "0": "7"
                                },
                                {
                                    "0": "5.3"
                                },
                                {
                                    "0": "6.1"
                                },
                                {
                                    "0": "5.8"
                                },
                                {
                                    "0": "5.3"
                                },
                                {
                                    "0": "6.4"
                                },
                                {
                                    "0": "6.9"
                                },
                                {
                                    "0": "6.8"
                                },
                                {
                                    "0": "6.1"
                                },
                                {
                                    "0": "5.3"
                                },
                                {
                                    "0": "6.7"
                                },
                                {
                                    "0": "6"
                                },
                                {
                                    "0": "5.8"
                                },
                                {
                                    "0": "6"
                                },
                                {
                                    "0": "6.5"
                                },
                                {
                                    "0": "5.2"
                                },
                                {
                                    "0": "5.8"
                                },
                                {
                                    "0": "5.1"
                                },
                                {
                                    "0": "5.5"
                                },
                                {
                                    "0": "6.7"
                                },
                                {
                                    "0": "4.9"
                                },
                                {
                                    "0": "6.5"
                                },
                                {
                                    "0": "5.6"
                                },
                                {
                                    "0": "5.7"
                                },
                                {
                                    "0": "5.8"
                                },
                                {
                                    "0": "6.5"
                                },
                                {
                                    "0": "5.6"
                                },
                                {
                                    "0": "5.6"
                                },
                                {
                                    "0": "5.6"
                                },
                                {
                                    "0": "6.6"
                                },
                                {
                                    "0": "5.6"
                                },
                                {
                                    "0": "6.3"
                                },
                                {
                                    "0": "6.4"
                                },
                                {
                                    "0": "6.1"
                                },
                                {
                                    "0": "5.6"
                                },
                                {
                                    "0": "5.7"
                                },
                                {
                                    "0": "6.8"
                                },
                                {
                                    "0": "6.6"
                                },
                                {
                                    "0": "6.5"
                                },
                                {
                                    "0": "4.8"
                                },
                                {
                                    "0": "6.1"
                                },
                                {
                                    "0": "6"
                                },
                                {
                                    "0": "6.4"
                                },
                                {
                                    "0": "5.9"
                                },
                                {
                                    "0": "4.6"
                                },
                                {
                                    "0": "6.1"
                                },
                                {
                                    "0": "5.9"
                                },
                                {
                                    "0": "5.5"
                                },
                                {
                                    "0": "5.1"
                                },
                                {
                                    "0": "6.5"
                                },
                                {
                                    "0": "6"
                                },
                                {
                                    "0": "5.9"
                                },
                                {
                                    "0": "5.9"
                                },
                                {
                                    "0": "6"
                                },
                                {
                                    "0": "4.8"
                                },
                                {
                                    "0": "6"
                                },
                                {
                                    "0": "6.4"
                                },
                                {
                                    "0": "6.5"
                                },
                                {
                                    "0": "6.2"
                                },
                                {
                                    "0": "5.9"
                                },
                                {
                                    "0": "5.4"
                                },
                                {
                                    "0": "6.2"
                                },
                                {
                                    "0": "4.8"
                                },
                                {
                                    "0": "6.4"
                                },
                                {
                                    "0": "6"
                                },
                                {
                                    "0": "4.1"
                                },
                                {
                                    "0": "6.2"
                                },
                                {
                                    "0": "6.2"
                                },
                                {
                                    "0": "4.9"
                                },
                                {
                                    "0": "4.5"
                                },
                                {
                                    "0": "6.1"
                                },
                                {
                                    "0": "6"
                                },
                                {
                                    "0": "6.2"
                                },
                                {
                                    "0": "5.2"
                                },
                                {
                                    "0": "5.9"
                                },
                                {
                                    "0": "6.1"
                                },
                                {
                                    "0": "5.9"
                                },
                                {
                                    "0": "6"
                                },
                                {
                                    "0": "7.2"
                                },
                                {
                                    "0": "6.5"
                                },
                                {
                                    "0": "6.1"
                                },
                                {
                                    "0": "6.3"
                                },
                                {
                                    "0": "6.6"
                                },
                                {
                                    "0": "5.5"
                                },
                                {
                                    "0": "5.8"
                                },
                                {
                                    "0": "6.3"
                                },
                                {
                                    "0": "6.7"
                                },
                                {
                                    "0": "6.3"
                                },
                                {
                                    "0": "7.1"
                                },
                                {
                                    "0": "5.4"
                                },
                                {
                                    "0": "6.1"
                                },
                                {
                                    "0": "6.2"
                                },
                                {
                                    "0": "5.4"
                                },
                                {
                                    "0": "5.7"
                                },
                                {
                                    "0": "6.7"
                                },
                                {
                                    "0": "6.4"
                                },
                                {
                                    "0": "6.7"
                                },
                                {
                                    "0": "6.4"
                                },
                                {
                                    "0": "5"
                                },
                                {
                                    "0": "6.3"
                                },
                                {
                                    "0": "6.3"
                                },
                                {
                                    "0": "6.1"
                                },
                                {
                                    "0": "7.9"
                                },
                                {
                                    "0": "5.8"
                                },
                                {
                                    "0": "7.2"
                                },
                                {
                                    "0": "5.8"
                                },
                                {
                                    "0": "6"
                                },
                                {
                                    "0": "5.8"
                                },
                                {
                                    "0": "6.3"
                                },
                                {
                                    "0": "6.7"
                                },
                                {
                                    "0": "6.3"
                                },
                                {
                                    "0": "6"
                                },
                                {
                                    "0": "5.9"
                                },
                                {
                                    "0": "5.5"
                                },
                                {
                                    "0": "5.5"
                                },
                                {
                                    "0": "5.5"
                                },
                                {
                                    "0": "5"
                                },
                                {
                                    "0": "5.6"
                                },
                                {
                                    "0": "5.6"
                                },
                                {
                                    "0": "5.6"
                                },
                                {
                                    "0": "6.8"
                                },
                                {
                                    "0": "6.4"
                                },
                                {
                                    "0": "5.4"
                                },
                                {
                                    "0": "5.4"
                                },
                                {
                                    "0": "7.1"
                                },
                                {
                                    "0": "6.8"
                                },
                                {
                                    "0": "6.8"
                                },
                                {
                                    "0": "6.5"
                                },
                                {
                                    "0": "6"
                                },
                                {
                                    "0": "6.5"
                                },
                                {
                                    "0": "6.3"
                                },
                                {
                                    "0": "6.3"
                                },
                                {
                                    "0": "6.3"
                                },
                                {
                                    "0": "5.8"
                                },
                                {
                                    "0": "6.1"
                                },
                                {
                                    "0": "7"
                                },
                                {
                                    "0": "6"
                                },
                                {
                                    "0": "6.1"
                                },
                                {
                                    "0": "5.2"
                                },
                                {
                                    "0": "5.4"
                                },
                                {
                                    "0": "5.9"
                                },
                                {
                                    "0": "5.2"
                                },
                                {
                                    "0": "5.8"
                                },
                                {
                                    "0": "5.8"
                                },
                                {
                                    "0": "6.1"
                                },
                                {
                                    "0": "5.8"
                                },
                                {
                                    "0": "5.5"
                                },
                                {
                                    "0": "7.2"
                                },
                                {
                                    "0": "5.3"
                                },
                                {
                                    "0": "5.5"
                                },
                                {
                                    "0": "5.7"
                                },
                                {
                                    "0": "5.9"
                                },
                                {
                                    "0": "5.3"
                                },
                                {
                                    "0": "4.5"
                                },
                                {
                                    "0": "5.8"
                                },
                                {
                                    "0": "5"
                                },
                                {
                                    "0": "5.7"
                                },
                                {
                                    "0": "6.6"
                                },
                                {
                                    "0": "6.6"
                                },
                                {
                                    "0": "6.1"
                                },
                                {
                                    "0": "5.3"
                                },
                                {
                                    "0": "5.9"
                                },
                                {
                                    "0": "5.9"
                                },
                                {
                                    "0": "5.4"
                                },
                                {
                                    "0": "5.9"
                                },
                                {
                                    "0": "6.1"
                                },
                                {
                                    "0": "5.4"
                                },
                                {
                                    "0": "6.2"
                                },
                                {
                                    "0": "5.9"
                                },
                                {
                                    "0": "6.3"
                                },
                                {
                                    "0": "5.8"
                                },
                                {
                                    "0": "6.5"
                                },
                                {
                                    "0": "6.3"
                                },
                                {
                                    "0": "5.7"
                                },
                                {
                                    "0": "4.9"
                                },
                                {
                                    "0": "6.4"
                                },
                                {
                                    "0": "5.5"
                                },
                                {
                                    "0": "6.2"
                                },
                                {
                                    "0": "5.7"
                                },
                                {
                                    "0": "5.8"
                                },
                                {
                                    "0": "6"
                                },
                                {
                                    "0": "6.4"
                                },
                                {
                                    "0": "6.4"
                                },
                                {
                                    "0": "6.2"
                                },
                                {
                                    "0": "6.6"
                                },
                                {
                                    "0": "6.1"
                                },
                                {
                                    "0": "6.7"
                                },
                                {
                                    "0": "5.6"
                                },
                                {
                                    "0": "6.1"
                                },
                                {
                                    "0": "6.1"
                                },
                                {
                                    "0": "6.2"
                                },
                                {
                                    "0": "5.3"
                                },
                                {
                                    "0": "6.5"
                                },
                                {
                                    "0": "5.2"
                                },
                                {
                                    "0": "5.3"
                                },
                                {
                                    "0": "5.2"
                                },
                                {
                                    "0": "6"
                                },
                                {
                                    "0": "6.3"
                                },
                                {
                                    "0": "6.7"
                                },
                                {
                                    "0": "5.8"
                                },
                                {
                                    "0": "6"
                                },
                                {
                                    "0": "5"
                                },
                                {
                                    "0": "6.4"
                                },
                                {
                                    "0": "5.2"
                                },
                                {
                                    "0": "5.2"
                                },
                                {
                                    "0": "5.1"
                                },
                                {
                                    "0": "5.2"
                                },
                                {
                                    "0": "5.1"
                                },
                                {
                                    "0": "5.2"
                                },
                                {
                                    "0": "6.8"
                                },
                                {
                                    "0": "6.6"
                                },
                                {
                                    "0": "4.9"
                                },
                                {
                                    "0": "6"
                                },
                                {
                                    "0": "5.6"
                                },
                                {
                                    "0": "5.5"
                                },
                                {
                                    "0": "5.6"
                                },
                                {
                                    "0": "5.7"
                                },
                                {
                                    "0": "5.7"
                                },
                                {
                                    "0": "5.7"
                                },
                                {
                                    "0": "6"
                                },
                                {
                                    "0": "5.7"
                                },
                                {
                                    "0": "6"
                                },
                                {
                                    "0": "5.6"
                                },
                                {
                                    "0": "6.9"
                                },
                                {
                                    "0": "5.6"
                                },
                                {
                                    "0": "6.9"
                                },
                                {
                                    "0": "5.3"
                                },
                                {
                                    "0": "5.4"
                                },
                                {
                                    "0": "5.3"
                                },
                                {
                                    "0": "5.7"
                                },
                                {
                                    "0": "5.7"
                                },
                                {
                                    "0": "6"
                                },
                                {
                                    "0": "7.1"
                                },
                                {
                                    "0": "6.2"
                                },
                                {
                                    "0": "5.4"
                                },
                                {
                                    "0": "5.8"
                                },
                                {
                                    "0": "6.3"
                                },
                                {
                                    "0": "5.9"
                                },
                                {
                                    "0": "5.5"
                                },
                                {
                                    "0": "5.5"
                                },
                                {
                                    "0": "5.9"
                                },
                                {
                                    "0": "5.3"
                                },
                                {
                                    "0": "5.9"
                                },
                                {
                                    "0": "5.3"
                                },
                                {
                                    "0": "5.9"
                                },
                                {
                                    "0": "5.9"
                                },
                                {
                                    "0": "5.3"
                                },
                                {
                                    "0": "4.8"
                                },
                                {
                                    "0": "5.6"
                                },
                                {
                                    "0": "5.5"
                                },
                                {
                                    "0": "7.1"
                                },
                                {
                                    "0": "5.9"
                                },
                                {
                                    "0": "5.8"
                                },
                                {
                                    "0": "5.6"
                                },
                                {
                                    "0": "5.4"
                                },
                                {
                                    "0": "5.4"
                                },
                                {
                                    "0": "5.1"
                                },
                                {
                                    "0": "5.7"
                                },
                                {
                                    "0": "5.5"
                                },
                                {
                                    "0": "5.6"
                                },
                                {
                                    "0": "5.4"
                                },
                                {
                                    "0": "7"
                                },
                                {
                                    "0": "6.8"
                                },
                                {
                                    "0": "6.1"
                                },
                                {
                                    "0": "6"
                                },
                                {
                                    "0": "6.1"
                                },
                                {
                                    "0": "6.8"
                                },
                                {
                                    "0": "6"
                                },
                                {
                                    "0": "6.1"
                                },
                                {
                                    "0": "6.1"
                                },
                                {
                                    "0": "5.9"
                                },
                                {
                                    "0": "5.3"
                                },
                                {
                                    "0": "5.9"
                                },
                                {
                                    "0": "6.1"
                                },
                                {
                                    "0": "4"
                                },
                                {
                                    "0": "5"
                                },
                                {
                                    "0": "6.4"
                                },
                                {
                                    "0": "5.8"
                                },
                                {
                                    "0": "4.9"
                                },
                                {
                                    "0": "5.8"
                                },
                                {
                                    "0": "5.9"
                                },
                                {
                                    "0": "6"
                                },
                                {
                                    "0": "5.4"
                                },
                                {
                                    "0": "5.4"
                                },
                                {
                                    "0": "5.5"
                                },
                                {
                                    "0": "6.6"
                                },
                                {
                                    "0": "5.5"
                                },
                                {
                                    "0": "5"
                                },
                                {
                                    "0": "5"
                                },
                                {
                                    "0": "5.4"
                                },
                                {
                                    "0": "5.4"
                                },
                                {
                                    "0": "6.1"
                                },
                                {
                                    "0": "6.1"
                                },
                                {
                                    "0": "6.1"
                                },
                                {
                                    "0": "6.1"
                                },
                                {
                                    "0": "6.1"
                                },
                                {
                                    "0": "5.7"
                                },
                                {
                                    "0": "6.8"
                                },
                                {
                                    "0": "6.1"
                                },
                                {
                                    "0": "6.3"
                                },
                                {
                                    "0": "5.9"
                                },
                                {
                                    "0": "6"
                                },
                                {
                                    "0": "6"
                                },
                                {
                                    "0": "6.1"
                                },
                                {
                                    "0": "6.8"
                                },
                                {
                                    "0": "5.9"
                                },
                                {
                                    "0": "5.7"
                                },
                                {
                                    "0": "6"
                                },
                                {
                                    "0": "6.4"
                                },
                                {
                                    "0": "6.4"
                                },
                                {
                                    "0": "6"
                                },
                                {
                                    "0": "6.4"
                                },
                                {
                                    "0": "6"
                                },
                                {
                                    "0": "6.2"
                                },
                                {
                                    "0": "5.4"
                                },
                                {
                                    "0": "5.5"
                                },
                                {
                                    "0": "5.4"
                                },
                                {
                                    "0": "6"
                                },
                                {
                                    "0": "5.7"
                                },
                                {
                                    "0": "6"
                                },
                                {
                                    "0": "5.7"
                                },
                                {
                                    "0": "6"
                                },
                                {
                                    "0": "5.7"
                                },
                                {
                                    "0": "5.7"
                                },
                                {
                                    "0": "6"
                                },
                                {
                                    "0": "6.3"
                                },
                                {
                                    "0": "5.4"
                                },
                                {
                                    "0": "5.5"
                                },
                                {
                                    "0": "6"
                                },
                                {
                                    "0": "5.5"
                                },
                                {
                                    "0": "5.1"
                                },
                                {
                                    "0": "6"
                                },
                                {
                                    "0": "5.6"
                                },
                                {
                                    "0": "5.5"
                                },
                                {
                                    "0": "5.3"
                                },
                                {
                                    "0": "6.2"
                                },
                                {
                                    "0": "5.6"
                                },
                                {
                                    "0": "4.8"
                                },
                                {
                                    "0": "6"
                                },
                                {
                                    "0": "5.8"
                                },
                                {
                                    "0": "6.6"
                                },
                                {
                                    "0": "5.5"
                                },
                                {
                                    "0": "5.6"
                                },
                                {
                                    "0": "5.7"
                                },
                                {
                                    "0": "6.3"
                                },
                                {
                                    "0": "6.3"
                                },
                                {
                                    "0": "6.3"
                                },
                                {
                                    "0": "5.4"
                                },
                                {
                                    "0": "5.5"
                                },
                                {
                                    "0": "4.8"
                                },
                                {
                                    "0": "6"
                                },
                                {
                                    "0": "6"
                                },
                                {
                                    "0": "6.1"
                                },
                                {
                                    "0": "5.3"
                                },
                                {
                                    "0": "6.1"
                                },
                                {
                                    "0": "6.3"
                                },
                                {
                                    "0": "6.8"
                                },
                                {
                                    "0": "6.8"
                                },
                                {
                                    "0": "5.1"
                                },
                                {
                                    "0": "6.3"
                                },
                                {
                                    "0": "5.5"
                                },
                                {
                                    "0": "5.5"
                                },
                                {
                                    "0": "5.9"
                                },
                                {
                                    "0": "6.3"
                                },
                                {
                                    "0": "5.9"
                                },
                                {
                                    "0": "5.4"
                                },
                                {
                                    "0": "4.9"
                                },
                                {
                                    "0": "5.1"
                                },
                                {
                                    "0": "5.1"
                                },
                                {
                                    "0": "5.5"
                                },
                                {
                                    "0": "5.8"
                                },
                                {
                                    "0": "6.3"
                                },
                                {
                                    "0": "4.9"
                                },
                                {
                                    "0": "6.5"
                                },
                                {
                                    "0": "5.1"
                                },
                                {
                                    "0": "5.6"
                                },
                                {
                                    "0": "5.9"
                                },
                                {
                                    "0": "5.9"
                                },
                                {
                                    "0": "5.7"
                                },
                                {
                                    "0": "5.7"
                                },
                                {
                                    "0": "5.5"
                                },
                                {
                                    "0": "5.5"
                                },
                                {
                                    "0": "6.4"
                                },
                                {
                                    "0": "6.4"
                                },
                                {
                                    "0": "6.4"
                                },
                                {
                                    "0": "6.4"
                                },
                                {
                                    "0": "6.4"
                                },
                                {
                                    "0": "5.6"
                                },
                                {
                                    "0": "6.4"
                                },
                                {
                                    "0": "6.3"
                                },
                                {
                                    "0": "5.6"
                                },
                                {
                                    "0": "6.1"
                                },
                                {
                                    "0": "6.1"
                                },
                                {
                                    "0": "6.1"
                                },
                                {
                                    "0": "6"
                                },
                                {
                                    "0": "6.8"
                                },
                                {
                                    "0": "5.3"
                                },
                                {
                                    "0": "6"
                                },
                                {
                                    "0": "5.6"
                                },
                                {
                                    "0": "6.2"
                                },
                                {
                                    "0": "5.1"
                                },
                                {
                                    "0": "5.1"
                                },
                                {
                                    "0": "5.3"
                                },
                                {
                                    "0": "5.1"
                                },
                                {
                                    "0": "5.5"
                                },
                                {
                                    "0": "6.1"
                                },
                                {
                                    "0": "6.2"
                                },
                                {
                                    "0": "5.6"
                                },
                                {
                                    "0": "6.2"
                                },
                                {
                                    "0": "5.9"
                                },
                                {
                                    "0": "6.1"
                                },
                                {
                                    "0": "5.1"
                                },
                                {
                                    "0": "6"
                                },
                                {
                                    "0": "6"
                                },
                                {
                                    "0": "5.3"
                                },
                                {
                                    "0": "5.5"
                                },
                                {
                                    "0": "5.5"
                                },
                                {
                                    "0": "5.9"
                                },
                                {
                                    "0": "5.9"
                                },
                                {
                                    "0": "6"
                                },
                                {
                                    "0": "5.3"
                                },
                                {
                                    "0": "5.2"
                                },
                                {
                                    "0": "5.3"
                                },
                                {
                                    "0": "5.4"
                                },
                                {
                                    "0": "5.7"
                                },
                                {
                                    "0": "5.9"
                                },
                                {
                                    "0": "5.7"
                                },
                                {
                                    "0": "5.2"
                                },
                                {
                                    "0": "5.5"
                                },
                                {
                                    "0": "6.2"
                                },
                                {
                                    "0": "5.2"
                                },
                                {
                                    "0": "5.5"
                                },
                                {
                                    "0": "5.2"
                                },
                                {
                                    "0": "5.5"
                                },
                                {
                                    "0": "5.9"
                                },
                                {
                                    "0": "5.9"
                                },
                                {
                                    "0": "4.9"
                                },
                                {
                                    "0": "5.9"
                                },
                                {
                                    "0": "5"
                                },
                                {
                                    "0": "5.4"
                                },
                                {
                                    "0": "5.4"
                                },
                                {
                                    "0": "5.4"
                                },
                                {
                                    "0": "5.4"
                                },
                                {
                                    "0": "5.4"
                                },
                                {
                                    "0": "6.8"
                                },
                                {
                                    "0": "5.7"
                                },
                                {
                                    "0": "6.8"
                                },
                                {
                                    "0": "6.9"
                                },
                                {
                                    "0": "5.4"
                                },
                                {
                                    "0": "6.9"
                                },
                                {
                                    "0": "7.1"
                                },
                                {
                                    "0": "5"
                                },
                                {
                                    "0": "7.1"
                                },
                                {
                                    "0": "5.5"
                                },
                                {
                                    "0": "7"
                                },
                                {
                                    "0": "6.5"
                                },
                                {
                                    "0": "6.1"
                                },
                                {
                                    "0": "6.3"
                                },
                                {
                                    "0": "5.6"
                                },
                                {
                                    "0": "5.3"
                                },
                                {
                                    "0": "6.5"
                                },
                                {
                                    "0": "4.5"
                                },
                                {
                                    "0": "4.5"
                                },
                                {
                                    "0": "5"
                                },
                                {
                                    "0": "5.6"
                                },
                                {
                                    "0": "5.9"
                                },
                                {
                                    "0": "5.1"
                                },
                                {
                                    "0": "5.6"
                                },
                                {
                                    "0": "5.8"
                                },
                                {
                                    "0": "6.1"
                                },
                                {
                                    "0": "5.6"
                                },
                                {
                                    "0": "7.2"
                                },
                                {
                                    "0": "5.8"
                                },
                                {
                                    "0": "5.4"
                                },
                                {
                                    "0": "6.3"
                                },
                                {
                                    "0": "4.8"
                                },
                                {
                                    "0": "6.3"
                                },
                                {
                                    "0": "5.7"
                                },
                                {
                                    "0": "6"
                                },
                                {
                                    "0": "6.4"
                                },
                                {
                                    "0": "6.2"
                                },
                                {
                                    "0": "5.3"
                                },
                                {
                                    "0": "5.3"
                                },
                                {
                                    "0": "5.1"
                                },
                                {
                                    "0": "5.3"
                                },
                                {
                                    "0": "5.6"
                                },
                                {
                                    "0": "4.8"
                                },
                                {
                                    "0": "6.6"
                                },
                                {
                                    "0": "6.5"
                                },
                                {
                                    "0": "6.6"
                                },
                                {
                                    "0": "5.7"
                                },
                                {
                                    "0": "6.2"
                                },
                                {
                                    "0": "6"
                                },
                                {
                                    "0": "5.5"
                                },
                                {
                                    "0": "6.5"
                                },
                                {
                                    "0": "5.4"
                                },
                                {
                                    "0": "6.4"
                                },
                                {
                                    "0": "6.3"
                                },
                                {
                                    "0": "5"
                                },
                                {
                                    "0": "6.2"
                                },
                                {
                                    "0": "5.9"
                                },
                                {
                                    "0": "6.2"
                                },
                                {
                                    "0": "5.9"
                                },
                                {
                                    "0": "5.1"
                                },
                                {
                                    "0": "6.1"
                                },
                                {
                                    "0": "6.1"
                                },
                                {
                                    "0": "5.7"
                                },
                                {
                                    "0": "5.7"
                                },
                                {
                                    "0": "5.5"
                                },
                                {
                                    "0": "6"
                                },
                                {
                                    "0": "6.2"
                                },
                                {
                                    "0": "5.2"
                                },
                                {
                                    "0": "5.2"
                                },
                                {
                                    "0": "6"
                                },
                                {
                                    "0": "5.6"
                                },
                                {
                                    "0": "5.5"
                                },
                                {
                                    "0": "5.5"
                                },
                                {
                                    "0": "6.3"
                                },
                                {
                                    "0": "4.9"
                                },
                                {
                                    "0": "4.9"
                                },
                                {
                                    "0": "5.9"
                                },
                                {
                                    "0": "5.9"
                                },
                                {
                                    "0": "5.3"
                                },
                                {
                                    "0": "6.6"
                                },
                                {
                                    "0": "4.9"
                                },
                                {
                                    "0": "6.3"
                                },
                                {
                                    "0": "6.3"
                                },
                                {
                                    "0": "5.1"
                                },
                                {
                                    "0": "5.4"
                                },
                                {
                                    "0": "5.4"
                                },
                                {
                                    "0": "5.5"
                                },
                                {
                                    "0": "6.8"
                                },
                                {
                                    "0": "5.7"
                                },
                                {
                                    "0": "6.9"
                                },
                                {
                                    "0": "5.7"
                                },
                                {
                                    "0": "5.4"
                                },
                                {
                                    "0": "6.9"
                                },
                                {
                                    "0": "5.3"
                                },
                                {
                                    "0": "5.9"
                                },
                                {
                                    "0": "5.3"
                                },
                                {
                                    "0": "5.9"
                                },
                                {
                                    "0": "6.2"
                                },
                                {
                                    "0": "5.6"
                                },
                                {
                                    "0": "5.4"
                                },
                                {
                                    "0": "5.4"
                                },
                                {
                                    "0": "5.6"
                                },
                                {
                                    "0": "6.2"
                                },
                                {
                                    "0": "5.8"
                                },
                                {
                                    "0": "5.4"
                                },
                                {
                                    "0": "5.4"
                                },
                                {
                                    "0": "5.3"
                                },
                                {
                                    "0": "6.2"
                                },
                                {
                                    "0": "6.1"
                                },
                                {
                                    "0": "7.4"
                                },
                                {
                                    "0": "5.6"
                                },
                                {
                                    "0": "5.7"
                                },
                                {
                                    "0": "4.6"
                                },
                                {
                                    "0": "6"
                                },
                                {
                                    "0": "6.4"
                                },
                                {
                                    "0": "5.2"
                                },
                                {
                                    "0": "5.2"
                                },
                                {
                                    "0": "4.3"
                                },
                                {
                                    "0": "6.4"
                                },
                                {
                                    "0": "6.1"
                                },
                                {
                                    "0": "4.3"
                                },
                                {
                                    "0": "5.8"
                                },
                                {
                                    "0": "6"
                                },
                                {
                                    "0": "3.8"
                                },
                                {
                                    "0": "5.5"
                                },
                                {
                                    "0": "5.7"
                                },
                                {
                                    "0": "5.7"
                                },
                                {
                                    "0": "6.8"
                                },
                                {
                                    "0": "6.4"
                                },
                                {
                                    "0": "5.7"
                                },
                                {
                                    "0": "6"
                                },
                                {
                                    "0": "6.2"
                                },
                                {
                                    "0": "5.3"
                                },
                                {
                                    "0": "6.6"
                                },
                                {
                                    "0": "6"
                                },
                                {
                                    "0": "6.4"
                                },
                                {
                                    "0": "5.7"
                                },
                                {
                                    "0": "6.2"
                                },
                                {
                                    "0": "7.6"
                                },
                                {
                                    "0": "7.6"
                                },
                                {
                                    "0": "7.4"
                                },
                                {
                                    "0": "6.4"
                                },
                                {
                                    "0": "4.8"
                                },
                                {
                                    "0": "5.7"
                                },
                                {
                                    "0": "5.6"
                                },
                                {
                                    "0": "6.6"
                                },
                                {
                                    "0": "5"
                                },
                                {
                                    "0": "6"
                                },
                                {
                                    "0": "6.2"
                                },
                                {
                                    "0": "6.1"
                                },
                                {
                                    "0": "5"
                                },
                                {
                                    "0": "6.3"
                                },
                                {
                                    "0": "6.2"
                                },
                                {
                                    "0": "6"
                                },
                                {
                                    "0": "6.4"
                                },
                                {
                                    "0": "5.9"
                                },
                                {
                                    "0": "5.3"
                                },
                                {
                                    "0": "5.9"
                                },
                                {
                                    "0": "5.9"
                                },
                                {
                                    "0": "5.3"
                                },
                                {
                                    "0": "5.8"
                                },
                                {
                                    "0": "5.9"
                                },
                                {
                                    "0": "5.7"
                                },
                                {
                                    "0": "6.4"
                                },
                                {
                                    "0": "6.6"
                                },
                                {
                                    "0": "7.3"
                                },
                                {
                                    "0": "6.9"
                                },
                                {
                                    "0": "6.4"
                                },
                                {
                                    "0": "6.2"
                                },
                                {
                                    "0": "5.2"
                                },
                                {
                                    "0": "5.4"
                                },
                                {
                                    "0": "6"
                                },
                                {
                                    "0": "5.9"
                                },
                                {
                                    "0": "6"
                                },
                                {
                                    "0": "5.7"
                                },
                                {
                                    "0": "7"
                                },
                                {
                                    "0": "5.7"
                                },
                                {
                                    "0": "7"
                                },
                                {
                                    "0": "6.6"
                                },
                                {
                                    "0": "6.2"
                                },
                                {
                                    "0": "4.4"
                                },
                                {
                                    "0": "6"
                                },
                                {
                                    "0": "6"
                                },
                                {
                                    "0": "6.1"
                                },
                                {
                                    "0": "6"
                                },
                                {
                                    "0": "5.3"
                                },
                                {
                                    "0": "4.6"
                                },
                                {
                                    "0": "5.8"
                                },
                                {
                                    "0": "5.8"
                                },
                                {
                                    "0": "4.6"
                                },
                                {
                                    "0": "5.3"
                                },
                                {
                                    "0": "6.6"
                                },
                                {
                                    "0": "6.9"
                                },
                                {
                                    "0": "6.9"
                                },
                                {
                                    "0": "6.6"
                                },
                                {
                                    "0": "6.1"
                                },
                                {
                                    "0": "6.6"
                                },
                                {
                                    "0": "5.3"
                                },
                                {
                                    "0": "5.4"
                                },
                                {
                                    "0": "5.4"
                                },
                                {
                                    "0": "5.4"
                                },
                                {
                                    "0": "5.4"
                                },
                                {
                                    "0": "5.6"
                                },
                                {
                                    "0": "6"
                                },
                                {
                                    "0": "6"
                                },
                                {
                                    "0": "5.8"
                                },
                                {
                                    "0": "6"
                                },
                                {
                                    "0": "5.4"
                                },
                                {
                                    "0": "6.8"
                                },
                                {
                                    "0": "6.5"
                                },
                                {
                                    "0": "6.4"
                                },
                                {
                                    "0": "6.8"
                                },
                                {
                                    "0": "5.9"
                                },
                                {
                                    "0": "6.3"
                                },
                                {
                                    "0": "5.6"
                                },
                                {
                                    "0": "5.9"
                                },
                                {
                                    "0": "5.9"
                                },
                                {
                                    "0": "5.8"
                                },
                                {
                                    "0": "5.9"
                                },
                                {
                                    "0": "5.6"
                                },
                                {
                                    "0": "5.5"
                                },
                                {
                                    "0": "5.4"
                                },
                                {
                                    "0": "6.4"
                                },
                                {
                                    "0": "4.8"
                                },
                                {
                                    "0": "5.8"
                                },
                                {
                                    "0": "5.9"
                                },
                                {
                                    "0": "6.1"
                                },
                                {
                                    "0": "6.6"
                                },
                                {
                                    "0": "6.3"
                                },
                                {
                                    "0": "6.2"
                                },
                                {
                                    "0": "6.1"
                                },
                                {
                                    "0": "6.1"
                                },
                                {
                                    "0": "6.6"
                                },
                                {
                                    "0": "6.3"
                                },
                                {
                                    "0": "6.8"
                                },
                                {
                                    "0": "7.1"
                                },
                                {
                                    "0": "6.1"
                                },
                                {
                                    "0": "5.8"
                                },
                                {
                                    "0": "6.5"
                                },
                                {
                                    "0": "5.8"
                                },
                                {
                                    "0": "7.1"
                                },
                                {
                                    "0": "7.1"
                                },
                                {
                                    "0": "5.5"
                                },
                                {
                                    "0": "5.9"
                                },
                                {
                                    "0": "5.2"
                                },
                                {
                                    "0": "5.9"
                                },
                                {
                                    "0": "5.9"
                                },
                                {
                                    "0": "6.7"
                                },
                                {
                                    "0": "6.5"
                                },
                                {
                                    "0": "5.6"
                                },
                                {
                                    "0": "5.8"
                                },
                                {
                                    "0": "6.4"
                                },
                                {
                                    "0": "6.6"
                                },
                                {
                                    "0": "6.6"
                                },
                                {
                                    "0": "6.2"
                                },
                                {
                                    "0": "6.4"
                                },
                                {
                                    "0": "5.4"
                                },
                                {
                                    "0": "5.2"
                                },
                                {
                                    "0": "5.6"
                                },
                                {
                                    "0": "5.8"
                                },
                                {
                                    "0": "6.1"
                                },
                                {
                                    "0": "6.1"
                                },
                                {
                                    "0": "6.1"
                                },
                                {
                                    "0": "6.4"
                                },
                                {
                                    "0": "6.1"
                                },
                                {
                                    "0": "6.1"
                                },
                                {
                                    "0": "6.6"
                                },
                                {
                                    "0": "6.6"
                                },
                                {
                                    "0": "5.5"
                                },
                                {
                                    "0": "6.2"
                                },
                                {
                                    "0": "5.5"
                                },
                                {
                                    "0": "6.5"
                                },
                                {
                                    "0": "6.7"
                                },
                                {
                                    "0": "7.1"
                                },
                                {
                                    "0": "6"
                                },
                                {
                                    "0": "7.7"
                                },
                                {
                                    "0": "5.1"
                                },
                                {
                                    "0": "6"
                                },
                                {
                                    "0": "5.5"
                                },
                                {
                                    "0": "6.3"
                                },
                                {
                                    "0": "7"
                                },
                                {
                                    "0": "6.3"
                                },
                                {
                                    "0": "7"
                                },
                                {
                                    "0": "7.1"
                                },
                                {
                                    "0": "6.1"
                                },
                                {
                                    "0": "5.6"
                                },
                                {
                                    "0": "6.6"
                                },
                                {
                                    "0": "6.1"
                                },
                                {
                                    "0": "7"
                                },
                                {
                                    "0": "6.6"
                                },
                                {
                                    "0": "5.6"
                                },
                                {
                                    "0": "6.1"
                                },
                                {
                                    "0": "6.2"
                                },
                                {
                                    "0": "5.8"
                                },
                                {
                                    "0": "6.1"
                                },
                                {
                                    "0": "6.7"
                                },
                                {
                                    "0": "6.7"
                                },
                                {
                                    "0": "5.5"
                                },
                                {
                                    "0": "5.7"
                                },
                                {
                                    "0": "6"
                                },
                                {
                                    "0": "6.2"
                                },
                                {
                                    "0": "6.4"
                                },
                                {
                                    "0": "5.3"
                                },
                                {
                                    "0": "5.3"
                                },
                                {
                                    "0": "5.1"
                                },
                                {
                                    "0": "5.9"
                                },
                                {
                                    "0": "5.6"
                                },
                                {
                                    "0": "7"
                                },
                                {
                                    "0": "5.3"
                                },
                                {
                                    "0": "6.1"
                                },
                                {
                                    "0": "5.3"
                                },
                                {
                                    "0": "6.3"
                                },
                                {
                                    "0": "5"
                                },
                                {
                                    "0": "6.9"
                                },
                                {
                                    "0": "6.6"
                                },
                                {
                                    "0": "7.1"
                                },
                                {
                                    "0": "7.1"
                                },
                                {
                                    "0": "6.5"
                                },
                                {
                                    "0": "6.4"
                                },
                                {
                                    "0": "6.7"
                                },
                                {
                                    "0": "6.5"
                                },
                                {
                                    "0": "6.4"
                                },
                                {
                                    "0": "6.2"
                                },
                                {
                                    "0": "6.4"
                                },
                                {
                                    "0": "6.5"
                                },
                                {
                                    "0": "5.9"
                                },
                                {
                                    "0": "6.1"
                                },
                                {
                                    "0": "6.1"
                                },
                                {
                                    "0": "6.9"
                                },
                                {
                                    "0": "3.9"
                                },
                                {
                                    "0": "6.1"
                                },
                                {
                                    "0": "7.1"
                                },
                                {
                                    "0": "5.5"
                                },
                                {
                                    "0": "5.7"
                                },
                                {
                                    "0": "6.4"
                                },
                                {
                                    "0": "5.6"
                                },
                                {
                                    "0": "6.8"
                                },
                                {
                                    "0": "6.3"
                                },
                                {
                                    "0": "5.2"
                                },
                                {
                                    "0": "6.2"
                                },
                                {
                                    "0": "6.3"
                                },
                                {
                                    "0": "5.7"
                                },
                                {
                                    "0": "5.7"
                                },
                                {
                                    "0": "6.4"
                                },
                                {
                                    "0": "5.7"
                                },
                                {
                                    "0": "7"
                                },
                                {
                                    "0": "6.8"
                                },
                                {
                                    "0": "7.2"
                                },
                                {
                                    "0": "7.2"
                                },
                                {
                                    "0": "6.1"
                                },
                                {
                                    "0": "6.8"
                                },
                                {
                                    "0": "6.7"
                                },
                                {
                                    "0": "6.1"
                                },
                                {
                                    "0": "6.3"
                                },
                                {
                                    "0": "6.1"
                                },
                                {
                                    "0": "6.1"
                                },
                                {
                                    "0": "6.1"
                                },
                                {
                                    "0": "5.7"
                                },
                                {
                                    "0": "6.1"
                                },
                                {
                                    "0": "5.7"
                                },
                                {
                                    "0": "6.3"
                                },
                                {
                                    "0": "7.3"
                                },
                                {
                                    "0": "6.1"
                                },
                                {
                                    "0": "5.7"
                                },
                                {
                                    "0": "5.6"
                                },
                                {
                                    "0": "6.4"
                                },
                                {
                                    "0": "7.1"
                                },
                                {
                                    "0": "6.8"
                                },
                                {
                                    "0": "7.1"
                                },
                                {
                                    "0": "6.9"
                                },
                                {
                                    "0": "5"
                                },
                                {
                                    "0": "6.2"
                                },
                                {
                                    "0": "6.3"
                                },
                                {
                                    "0": "6.3"
                                },
                                {
                                    "0": "7.1"
                                },
                                {
                                    "0": "5"
                                },
                                {
                                    "0": "6.1"
                                },
                                {
                                    "0": "5.8"
                                },
                                {
                                    "0": "6.1"
                                },
                                {
                                    "0": "5.5"
                                },
                                {
                                    "0": "6"
                                },
                                {
                                    "0": "7.1"
                                },
                                {
                                    "0": "5.5"
                                },
                                {
                                    "0": "6.2"
                                },
                                {
                                    "0": "6.6"
                                },
                                {
                                    "0": "6.8"
                                },
                                {
                                    "0": "5.8"
                                },
                                {
                                    "0": "6.3"
                                },
                                {
                                    "0": "6.3"
                                },
                                {
                                    "0": "6.3"
                                },
                                {
                                    "0": "6.3"
                                },
                                {
                                    "0": "6.3"
                                },
                                {
                                    "0": "6.3"
                                },
                                {
                                    "0": "6"
                                },
                                {
                                    "0": "5"
                                },
                                {
                                    "0": "5.7"
                                },
                                {
                                    "0": "7"
                                },
                                {
                                    "0": "6.9"
                                },
                                {
                                    "0": "6.5"
                                },
                                {
                                    "0": "5.9"
                                },
                                {
                                    "0": "6.4"
                                },
                                {
                                    "0": "6"
                                },
                                {
                                    "0": "5.9"
                                },
                                {
                                    "0": "6.4"
                                },
                                {
                                    "0": "6.9"
                                },
                                {
                                    "0": "6"
                                },
                                {
                                    "0": "6.3"
                                },
                                {
                                    "0": "6.2"
                                },
                                {
                                    "0": "6"
                                },
                                {
                                    "0": "6"
                                },
                                {
                                    "0": "5.8"
                                },
                                {
                                    "0": "6.5"
                                },
                                {
                                    "0": "6.1"
                                },
                                {
                                    "0": "6.2"
                                },
                                {
                                    "0": "5.6"
                                },
                                {
                                    "0": "5.2"
                                },
                                {
                                    "0": "6.1"
                                },
                                {
                                    "0": "6.1"
                                },
                                {
                                    "0": "5.2"
                                },
                                {
                                    "0": "6.7"
                                },
                                {
                                    "0": "6.6"
                                },
                                {
                                    "0": "6.5"
                                },
                                {
                                    "0": "5.9"
                                },
                                {
                                    "0": "6.7"
                                },
                                {
                                    "0": "6.6"
                                },
                                {
                                    "0": "6.9"
                                },
                                {
                                    "0": "6.3"
                                },
                                {
                                    "0": "5.6"
                                },
                                {
                                    "0": "6"
                                },
                                {
                                    "0": "5.6"
                                },
                                {
                                    "0": "5.7"
                                },
                                {
                                    "0": "5.7"
                                },
                                {
                                    "0": "5.8"
                                },
                                {
                                    "0": "6.2"
                                },
                                {
                                    "0": "5.5"
                                },
                                {
                                    "0": "5.5"
                                },
                                {
                                    "0": "6"
                                },
                                {
                                    "0": "6"
                                },
                                {
                                    "0": "6.2"
                                },
                                {
                                    "0": "5.4"
                                },
                                {
                                    "0": "5.5"
                                },
                                {
                                    "0": "5.5"
                                },
                                {
                                    "0": "4.9"
                                },
                                {
                                    "0": "7"
                                },
                                {
                                    "0": "7"
                                },
                                {
                                    "0": "7"
                                },
                                {
                                    "0": "6"
                                },
                                {
                                    "0": "7"
                                },
                                {
                                    "0": "7"
                                },
                                {
                                    "0": "6.8"
                                },
                                {
                                    "0": "6"
                                },
                                {
                                    "0": "6.2"
                                },
                                {
                                    "0": "6.3"
                                },
                                {
                                    "0": "5.3"
                                },
                                {
                                    "0": "6.2"
                                },
                                {
                                    "0": "6.2"
                                },
                                {
                                    "0": "6"
                                },
                                {
                                    "0": "6.9"
                                },
                                {
                                    "0": "5.7"
                                },
                                {
                                    "0": "5.7"
                                },
                                {
                                    "0": "6.2"
                                },
                                {
                                    "0": "7"
                                },
                                {
                                    "0": "5.9"
                                },
                                {
                                    "0": "7"
                                },
                                {
                                    "0": "5.9"
                                },
                                {
                                    "0": "6"
                                },
                                {
                                    "0": "6.2"
                                },
                                {
                                    "0": "6.3"
                                },
                                {
                                    "0": "6.3"
                                },
                                {
                                    "0": "6.9"
                                },
                                {
                                    "0": "6.3"
                                },
                                {
                                    "0": "6.3"
                                },
                                {
                                    "0": "6.6"
                                },
                                {
                                    "0": "6.6"
                                },
                                {
                                    "0": "6"
                                },
                                {
                                    "0": "6.6"
                                },
                                {
                                    "0": "6.9"
                                },
                                {
                                    "0": "6.9"
                                },
                                {
                                    "0": "5.7"
                                },
                                {
                                    "0": "7"
                                },
                                {
                                    "0": "5.5"
                                },
                                {
                                    "0": "6"
                                },
                                {
                                    "0": "5.5"
                                },
                                {
                                    "0": "6"
                                },
                                {
                                    "0": "6.4"
                                },
                                {
                                    "0": "6.5"
                                },
                                {
                                    "0": "5.8"
                                },
                                {
                                    "0": "5.8"
                                },
                                {
                                    "0": "6.5"
                                },
                                {
                                    "0": "5.5"
                                },
                                {
                                    "0": "5.5"
                                },
                                {
                                    "0": "5.5"
                                },
                                {
                                    "0": "5.9"
                                },
                                {
                                    "0": "5.5"
                                },
                                {
                                    "0": "4.2"
                                },
                                {
                                    "0": "5"
                                },
                                {
                                    "0": "7.2"
                                },
                                {
                                    "0": "5"
                                },
                                {
                                    "0": "6.2"
                                },
                                {
                                    "0": "6.6"
                                },
                                {
                                    "0": "5.2"
                                },
                                {
                                    "0": "6.2"
                                },
                                {
                                    "0": "5.9"
                                },
                                {
                                    "0": "5.5"
                                },
                                {
                                    "0": "6.8"
                                },
                                {
                                    "0": "6"
                                },
                                {
                                    "0": "5.9"
                                },
                                {
                                    "0": "6.5"
                                },
                                {
                                    "0": "5.8"
                                },
                                {
                                    "0": "6"
                                },
                                {
                                    "0": "6.1"
                                },
                                {
                                    "0": "6.1"
                                },
                                {
                                    "0": "6"
                                },
                                {
                                    "0": "6.1"
                                },
                                {
                                    "0": "6.4"
                                },
                                {
                                    "0": "6.3"
                                },
                                {
                                    "0": "7.2"
                                },
                                {
                                    "0": "6"
                                },
                                {
                                    "0": "5.7"
                                },
                                {
                                    "0": "5.7"
                                },
                                {
                                    "0": "5.7"
                                },
                                {
                                    "0": "5.4"
                                },
                                {
                                    "0": "5"
                                },
                                {
                                    "0": "6"
                                },
                                {
                                    "0": "5.7"
                                },
                                {
                                    "0": "5.7"
                                },
                                {
                                    "0": "5.4"
                                },
                                {
                                    "0": "5"
                                },
                                {
                                    "0": "6"
                                },
                                {
                                    "0": "6.5"
                                },
                                {
                                    "0": "6.3"
                                },
                                {
                                    "0": "6.5"
                                },
                                {
                                    "0": "5.4"
                                },
                                {
                                    "0": "5.8"
                                },
                                {
                                    "0": "6.4"
                                },
                                {
                                    "0": "6.3"
                                },
                                {
                                    "0": "4.9"
                                },
                                {
                                    "0": "6.1"
                                },
                                {
                                    "0": "6.5"
                                },
                                {
                                    "0": "6.9"
                                },
                                {
                                    "0": "7.2"
                                },
                                {
                                    "0": "6.5"
                                },
                                {
                                    "0": "6.9"
                                },
                                {
                                    "0": "7.4"
                                },
                                {
                                    "0": "6.5"
                                },
                                {
                                    "0": "6.9"
                                },
                                {
                                    "0": "5.8"
                                },
                                {
                                    "0": "6.9"
                                },
                                {
                                    "0": "5.5"
                                },
                                {
                                    "0": "6"
                                },
                                {
                                    "0": "6.3"
                                },
                                {
                                    "0": "4.9"
                                },
                                {
                                    "0": "7.1"
                                },
                                {
                                    "0": "6.3"
                                },
                                {
                                    "0": "5.9"
                                },
                                {
                                    "0": "6.1"
                                },
                                {
                                    "0": "6"
                                },
                                {
                                    "0": "5.5"
                                },
                                {
                                    "0": "4.9"
                                },
                                {
                                    "0": "5.4"
                                },
                                {
                                    "0": "5.9"
                                },
                                {
                                    "0": "5.9"
                                },
                                {
                                    "0": "5.9"
                                },
                                {
                                    "0": "5.9"
                                },
                                {
                                    "0": "5.4"
                                },
                                {
                                    "0": "5.9"
                                },
                                {
                                    "0": "5.1"
                                },
                                {
                                    "0": "5.1"
                                },
                                {
                                    "0": "6.5"
                                },
                                {
                                    "0": "6.5"
                                },
                                {
                                    "0": "6.5"
                                },
                                {
                                    "0": "5"
                                },
                                {
                                    "0": "6"
                                },
                                {
                                    "0": "5"
                                },
                                {
                                    "0": "6.2"
                                },
                                {
                                    "0": "5.5"
                                },
                                {
                                    "0": "6.4"
                                },
                                {
                                    "0": "6.4"
                                },
                                {
                                    "0": "6.4"
                                },
                                {
                                    "0": "6.4"
                                },
                                {
                                    "0": "6.4"
                                },
                                {
                                    "0": "6.4"
                                },
                                {
                                    "0": "6.4"
                                },
                                {
                                    "0": "6.2"
                                },
                                {
                                    "0": "6.4"
                                },
                                {
                                    "0": "5.7"
                                },
                                {
                                    "0": "7.3"
                                },
                                {
                                    "0": "6.3"
                                },
                                {
                                    "0": "5.7"
                                },
                                {
                                    "0": "6.3"
                                },
                                {
                                    "0": "6.1"
                                },
                                {
                                    "0": "5.9"
                                },
                                {
                                    "0": "7.3"
                                },
                                {
                                    "0": "6.5"
                                },
                                {
                                    "0": "6.7"
                                },
                                {
                                    "0": "6.2"
                                },
                                {
                                    "0": "6.3"
                                },
                                {
                                    "0": "6.4"
                                },
                                {
                                    "0": "5.1"
                                },
                                {
                                    "0": "5.6"
                                },
                                {
                                    "0": "5"
                                },
                                {
                                    "0": "6.1"
                                },
                                {
                                    "0": "5.6"
                                },
                                {
                                    "0": "6.1"
                                },
                                {
                                    "0": "5.9"
                                },
                                {
                                    "0": "5"
                                },
                                {
                                    "0": "5.9"
                                },
                                {
                                    "0": "6.1"
                                },
                                {
                                    "0": "6.1"
                                },
                                {
                                    "0": "5.6"
                                },
                                {
                                    "0": "5.8"
                                },
                                {
                                    "0": "6.8"
                                },
                                {
                                    "0": "6.8"
                                },
                                {
                                    "0": "6.7"
                                },
                                {
                                    "0": "6.3"
                                },
                                {
                                    "0": "6.8"
                                },
                                {
                                    "0": "5.4"
                                },
                                {
                                    "0": "6.6"
                                },
                                {
                                    "0": "6"
                                },
                                {
                                    "0": "6.3"
                                },
                                {
                                    "0": "6.8"
                                },
                                {
                                    "0": "4.8"
                                },
                                {
                                    "0": "7"
                                },
                                {
                                    "0": "6.3"
                                },
                                {
                                    "0": "6.9"
                                },
                                {
                                    "0": "6.4"
                                },
                                {
                                    "0": "6.3"
                                },
                                {
                                    "0": "6.1"
                                },
                                {
                                    "0": "5.5"
                                },
                                {
                                    "0": "5.5"
                                },
                                {
                                    "0": "5.5"
                                },
                                {
                                    "0": "5.5"
                                },
                                {
                                    "0": "5.3"
                                },
                                {
                                    "0": "6"
                                },
                                {
                                    "0": "6"
                                },
                                {
                                    "0": "6"
                                },
                                {
                                    "0": "6.5"
                                },
                                {
                                    "0": "6.5"
                                },
                                {
                                    "0": "6"
                                },
                                {
                                    "0": "5.1"
                                },
                                {
                                    "0": "6.6"
                                },
                                {
                                    "0": "6.3"
                                },
                                {
                                    "0": "6.1"
                                },
                                {
                                    "0": "5.1"
                                },
                                {
                                    "0": "5.8"
                                },
                                {
                                    "0": "7"
                                },
                                {
                                    "0": "7.4"
                                },
                                {
                                    "0": "5.5"
                                },
                                {
                                    "0": "6"
                                },
                                {
                                    "0": "7.4"
                                },
                                {
                                    "0": "6.2"
                                },
                                {
                                    "0": "5.4"
                                },
                                {
                                    "0": "6.1"
                                },
                                {
                                    "0": "5.4"
                                },
                                {
                                    "0": "6"
                                },
                                {
                                    "0": "5.8"
                                },
                                {
                                    "0": "5.9"
                                },
                                {
                                    "0": "6.2"
                                },
                                {
                                    "0": "6.2"
                                },
                                {
                                    "0": "5.6"
                                },
                                {
                                    "0": "6.4"
                                },
                                {
                                    "0": "5.8"
                                },
                                {
                                    "0": "5.8"
                                },
                                {
                                    "0": "5.2"
                                },
                                {
                                    "0": "6.6"
                                },
                                {
                                    "0": "5.5"
                                },
                                {
                                    "0": "5.6"
                                },
                                {
                                    "0": "5.8"
                                },
                                {
                                    "0": "7.3"
                                },
                                {
                                    "0": "5.8"
                                },
                                {
                                    "0": "7.3"
                                },
                                {
                                    "0": "5.8"
                                },
                                {
                                    "0": "5.8"
                                },
                                {
                                    "0": "6.3"
                                },
                                {
                                    "0": "6.5"
                                },
                                {
                                    "0": "4.7"
                                },
                                {
                                    "0": "6.3"
                                },
                                {
                                    "0": "5.6"
                                },
                                {
                                    "0": "4.7"
                                },
                                {
                                    "0": "6.5"
                                },
                                {
                                    "0": "6.5"
                                },
                                {
                                    "0": "6.7"
                                },
                                {
                                    "0": "6.8"
                                },
                                {
                                    "0": "5"
                                },
                                {
                                    "0": "5"
                                },
                                {
                                    "0": "6"
                                },
                                {
                                    "0": "6"
                                },
                                {
                                    "0": "6"
                                },
                                {
                                    "0": "6"
                                },
                                {
                                    "0": "6.3"
                                },
                                {
                                    "0": "6"
                                },
                                {
                                    "0": "6"
                                },
                                {
                                    "0": "6.3"
                                },
                                {
                                    "0": "6.5"
                                },
                                {
                                    "0": "6.3"
                                },
                                {
                                    "0": "6.5"
                                },
                                {
                                    "0": "6.5"
                                },
                                {
                                    "0": "6.1"
                                },
                                {
                                    "0": "6.3"
                                },
                                {
                                    "0": "5.5"
                                },
                                {
                                    "0": "5.6"
                                },
                                {
                                    "0": "5.8"
                                },
                                {
                                    "0": "6"
                                },
                                {
                                    "0": "5.8"
                                },
                                {
                                    "0": "5.9"
                                },
                                {
                                    "0": "5.5"
                                },
                                {
                                    "0": "6.2"
                                },
                                {
                                    "0": "5.9"
                                },
                                {
                                    "0": "6.1"
                                },
                                {
                                    "0": "6.2"
                                },
                                {
                                    "0": "6.4"
                                },
                                {
                                    "0": "6.1"
                                },
                                {
                                    "0": "6.2"
                                },
                                {
                                    "0": "5"
                                },
                                {
                                    "0": "5.9"
                                },
                                {
                                    "0": "6"
                                },
                                {
                                    "0": "6.3"
                                },
                                {
                                    "0": "5.5"
                                },
                                {
                                    "0": "5.3"
                                },
                                {
                                    "0": "5.3"
                                },
                                {
                                    "0": "5.9"
                                },
                                {
                                    "0": "6.2"
                                },
                                {
                                    "0": "6.2"
                                },
                                {
                                    "0": "5.3"
                                },
                                {
                                    "0": "6.2"
                                },
                                {
                                    "0": "5.9"
                                },
                                {
                                    "0": "6.5"
                                },
                                {
                                    "0": "4.9"
                                },
                                {
                                    "0": "6.6"
                                },
                                {
                                    "0": "6.2"
                                },
                                {
                                    "0": "6.2"
                                },
                                {
                                    "0": "6.2"
                                },
                                {
                                    "0": "6.2"
                                },
                                {
                                    "0": "6.2"
                                },
                                {
                                    "0": "6.2"
                                },
                                {
                                    "0": "5.6"
                                },
                                {
                                    "0": "6"
                                },
                                {
                                    "0": "6.3"
                                },
                                {
                                    "0": "6.2"
                                },
                                {
                                    "0": "5.1"
                                },
                                {
                                    "0": "6.2"
                                },
                                {
                                    "0": "4.8"
                                },
                                {
                                    "0": "5.5"
                                },
                                {
                                    "0": "6.6"
                                },
                                {
                                    "0": "6.5"
                                },
                                {
                                    "0": "5.4"
                                },
                                {
                                    "0": "6.2"
                                },
                                {
                                    "0": "6.5"
                                },
                                {
                                    "0": "6.1"
                                },
                                {
                                    "0": "5.4"
                                },
                                {
                                    "0": "5.6"
                                },
                                {
                                    "0": "6.6"
                                },
                                {
                                    "0": "5.6"
                                },
                                {
                                    "0": "5.4"
                                },
                                {
                                    "0": "5.4"
                                },
                                {
                                    "0": "5.4"
                                },
                                {
                                    "0": "5.4"
                                },
                                {
                                    "0": "4.4"
                                },
                                {
                                    "0": "6.5"
                                },
                                {
                                    "0": "6"
                                },
                                {
                                    "0": "6.1"
                                },
                                {
                                    "0": "6.9"
                                },
                                {
                                    "0": "6"
                                },
                                {
                                    "0": "6.6"
                                },
                                {
                                    "0": "6.8"
                                },
                                {
                                    "0": "5.5"
                                },
                                {
                                    "0": "5.6"
                                },
                                {
                                    "0": "6.1"
                                },
                                {
                                    "0": "6.1"
                                },
                                {
                                    "0": "5.8"
                                },
                                {
                                    "0": "5.6"
                                },
                                {
                                    "0": "5.5"
                                },
                                {
                                    "0": "5.9"
                                },
                                {
                                    "0": "6.1"
                                },
                                {
                                    "0": "6"
                                },
                                {
                                    "0": "4.9"
                                },
                                {
                                    "0": "5.7"
                                },
                                {
                                    "0": "6.3"
                                },
                                {
                                    "0": "5.2"
                                },
                                {
                                    "0": "5.5"
                                },
                                {
                                    "0": "5.5"
                                },
                                {
                                    "0": "5.5"
                                },
                                {
                                    "0": "5.5"
                                },
                                {
                                    "0": "7.3"
                                },
                                {
                                    "0": "5.7"
                                },
                                {
                                    "0": "5.1"
                                },
                                {
                                    "0": "5.5"
                                },
                                {
                                    "0": "5.7"
                                },
                                {
                                    "0": "5.7"
                                },
                                {
                                    "0": "5.3"
                                },
                                {
                                    "0": "6.2"
                                },
                                {
                                    "0": "5.7"
                                },
                                {
                                    "0": "6.1"
                                },
                                {
                                    "0": "6.1"
                                },
                                {
                                    "0": "6.2"
                                },
                                {
                                    "0": "6.1"
                                },
                                {
                                    "0": "6.5"
                                },
                                {
                                    "0": "6"
                                },
                                {
                                    "0": "5.1"
                                },
                                {
                                    "0": "5.6"
                                },
                                {
                                    "0": "5.9"
                                },
                                {
                                    "0": "5.8"
                                },
                                {
                                    "0": "6.2"
                                },
                                {
                                    "0": "5.1"
                                },
                                {
                                    "0": "6.1"
                                },
                                {
                                    "0": "6.3"
                                },
                                {
                                    "0": "5.1"
                                },
                                {
                                    "0": "5.1"
                                },
                                {
                                    "0": "6.3"
                                },
                                {
                                    "0": "6.3"
                                },
                                {
                                    "0": "6.3"
                                },
                                {
                                    "0": "6.3"
                                },
                                {
                                    "0": "6.3"
                                },
                                {
                                    "0": "6.3"
                                },
                                {
                                    "0": "6.3"
                                },
                                {
                                    "0": "6.3"
                                },
                                {
                                    "0": "5.4"
                                },
                                {
                                    "0": "6.4"
                                },
                                {
                                    "0": "6.1"
                                },
                                {
                                    "0": "6.3"
                                },
                                {
                                    "0": "6.6"
                                },
                                {
                                    "0": "5.5"
                                },
                                {
                                    "0": "5.5"
                                },
                                {
                                    "0": "6.5"
                                },
                                {
                                    "0": "6"
                                },
                                {
                                    "0": "6.1"
                                },
                                {
                                    "0": "5.9"
                                },
                                {
                                    "0": "5.3"
                                },
                                {
                                    "0": "6"
                                },
                                {
                                    "0": "5.4"
                                },
                                {
                                    "0": "6.6"
                                },
                                {
                                    "0": "5.4"
                                },
                                {
                                    "0": "5.9"
                                },
                                {
                                    "0": "5.7"
                                },
                                {
                                    "0": "6.2"
                                },
                                {
                                    "0": "6.2"
                                },
                                {
                                    "0": "6.4"
                                },
                                {
                                    "0": "6.2"
                                },
                                {
                                    "0": "5.6"
                                },
                                {
                                    "0": "5.6"
                                },
                                {
                                    "0": "5.6"
                                },
                                {
                                    "0": "5.6"
                                },
                                {
                                    "0": "6.6"
                                },
                                {
                                    "0": "5.2"
                                },
                                {
                                    "0": "5.2"
                                },
                                {
                                    "0": "5.2"
                                },
                                {
                                    "0": "5.2"
                                },
                                {
                                    "0": "5.3"
                                },
                                {
                                    "0": "6.5"
                                },
                                {
                                    "0": "6.2"
                                },
                                {
                                    "0": "6.5"
                                },
                                {
                                    "0": "6.2"
                                },
                                {
                                    "0": "5.3"
                                },
                                {
                                    "0": "5.8"
                                },
                                {
                                    "0": "5.1"
                                },
                                {
                                    "0": "5.1"
                                },
                                {
                                    "0": "6.2"
                                },
                                {
                                    "0": "6.2"
                                },
                                {
                                    "0": "5.9"
                                },
                                {
                                    "0": "5.7"
                                },
                                {
                                    "0": "6"
                                },
                                {
                                    "0": "6.6"
                                },
                                {
                                    "0": "6.2"
                                },
                                {
                                    "0": "4.7"
                                },
                                {
                                    "0": "5.7"
                                },
                                {
                                    "0": "6.7"
                                },
                                {
                                    "0": "6"
                                },
                                {
                                    "0": "4.8"
                                },
                                {
                                    "0": "5.1"
                                },
                                {
                                    "0": "6.5"
                                },
                                {
                                    "0": "5.9"
                                },
                                {
                                    "0": "5.9"
                                },
                                {
                                    "0": "5.8"
                                },
                                {
                                    "0": "5.6"
                                },
                                {
                                    "0": "6.2"
                                },
                                {
                                    "0": "6.4"
                                },
                                {
                                    "0": "6.1"
                                },
                                {
                                    "0": "6.5"
                                },
                                {
                                    "0": "6.6"
                                },
                                {
                                    "0": "6.4"
                                },
                                {
                                    "0": "5.3"
                                },
                                {
                                    "0": "6.4"
                                },
                                {
                                    "0": "6.2"
                                },
                                {
                                    "0": "5.5"
                                },
                                {
                                    "0": "5.4"
                                },
                                {
                                    "0": "5.4"
                                },
                                {
                                    "0": "6.4"
                                },
                                {
                                    "0": "5.5"
                                },
                                {
                                    "0": "5.4"
                                },
                                {
                                    "0": "6.8"
                                },
                                {
                                    "0": "7.4"
                                },
                                {
                                    "0": "7.4"
                                },
                                {
                                    "0": "5.8"
                                },
                                {
                                    "0": "6"
                                },
                                {
                                    "0": "7.4"
                                },
                                {
                                    "0": "5.9"
                                },
                                {
                                    "0": "7.4"
                                },
                                {
                                    "0": "5.9"
                                },
                                {
                                    "0": "6.3"
                                },
                                {
                                    "0": "6.4"
                                },
                                {
                                    "0": "6.2"
                                },
                                {
                                    "0": "6.2"
                                },
                                {
                                    "0": "5.6"
                                },
                                {
                                    "0": "6.4"
                                },
                                {
                                    "0": "6.2"
                                },
                                {
                                    "0": "5.5"
                                },
                                {
                                    "0": "5.5"
                                },
                                {
                                    "0": "6"
                                },
                                {
                                    "0": "6.2"
                                },
                                {
                                    "0": "6.9"
                                },
                                {
                                    "0": "6.9"
                                },
                                {
                                    "0": "4.6"
                                },
                                {
                                    "0": "7.4"
                                },
                                {
                                    "0": "6.2"
                                },
                                {
                                    "0": "6.5"
                                },
                                {
                                    "0": "5.8"
                                },
                                {
                                    "0": "5.9"
                                },
                                {
                                    "0": "5.3"
                                },
                                {
                                    "0": "5.4"
                                },
                                {
                                    "0": "5.4"
                                },
                                {
                                    "0": "6.4"
                                },
                                {
                                    "0": "7.3"
                                },
                                {
                                    "0": "6"
                                },
                                {
                                    "0": "5.9"
                                },
                                {
                                    "0": "6.1"
                                },
                                {
                                    "0": "6.9"
                                },
                                {
                                    "0": "5.7"
                                },
                                {
                                    "0": "6.4"
                                },
                                {
                                    "0": "6.9"
                                },
                                {
                                    "0": "6.1"
                                },
                                {
                                    "0": "6"
                                },
                                {
                                    "0": "4.9"
                                },
                                {
                                    "0": "4.9"
                                },
                                {
                                    "0": "7.1"
                                },
                                {
                                    "0": "6.7"
                                },
                                {
                                    "0": "6.5"
                                },
                                {
                                    "0": "6.5"
                                },
                                {
                                    "0": "6.1"
                                },
                                {
                                    "0": "6.7"
                                },
                                {
                                    "0": "5.9"
                                },
                                {
                                    "0": "5.7"
                                },
                                {
                                    "0": "6.1"
                                },
                                {
                                    "0": "5.8"
                                },
                                {
                                    "0": "6.9"
                                },
                                {
                                    "0": "5.7"
                                },
                                {
                                    "0": "5.5"
                                },
                                {
                                    "0": "6"
                                },
                                {
                                    "0": "6.5"
                                },
                                {
                                    "0": "6.7"
                                },
                                {
                                    "0": "5.5"
                                },
                                {
                                    "0": "5.7"
                                },
                                {
                                    "0": "6.2"
                                },
                                {
                                    "0": "5.5"
                                },
                                {
                                    "0": "5.9"
                                },
                                {
                                    "0": "6"
                                },
                                {
                                    "0": "7"
                                },
                                {
                                    "0": "7"
                                },
                                {
                                    "0": "5.6"
                                },
                                {
                                    "0": "6"
                                },
                                {
                                    "0": "7.3"
                                },
                                {
                                    "0": "6"
                                },
                                {
                                    "0": "5.7"
                                },
                                {
                                    "0": "6.4"
                                },
                                {
                                    "0": "5.8"
                                },
                                {
                                    "0": "6.5"
                                },
                                {
                                    "0": "6.6"
                                },
                                {
                                    "0": "6.2"
                                },
                                {
                                    "0": "6.9"
                                },
                                {
                                    "0": "6.3"
                                },
                                {
                                    "0": "6.4"
                                },
                                {
                                    "0": "5.7"
                                },
                                {
                                    "0": "5.3"
                                },
                                {
                                    "0": "5.7"
                                },
                                {
                                    "0": "5.5"
                                },
                                {
                                    "0": "6.2"
                                },
                                {
                                    "0": "5.6"
                                },
                                {
                                    "0": "5.2"
                                },
                                {
                                    "0": "5.2"
                                },
                                {
                                    "0": "5.9"
                                },
                                {
                                    "0": "6.5"
                                },
                                {
                                    "0": "5.7"
                                },
                                {
                                    "0": "7.1"
                                },
                                {
                                    "0": "5.5"
                                },
                                {
                                    "0": "5.8"
                                },
                                {
                                    "0": "5.2"
                                },
                                {
                                    "0": "6.5"
                                },
                                {
                                    "0": "6.8"
                                },
                                {
                                    "0": "5.4"
                                },
                                {
                                    "0": "6.4"
                                },
                                {
                                    "0": "6.5"
                                },
                                {
                                    "0": "6.4"
                                },
                                {
                                    "0": "5.4"
                                },
                                {
                                    "0": "6"
                                },
                                {
                                    "0": "6"
                                },
                                {
                                    "0": "5.3"
                                },
                                {
                                    "0": "5.8"
                                },
                                {
                                    "0": "6.8"
                                },
                                {
                                    "0": "6.9"
                                },
                                {
                                    "0": "6.2"
                                },
                                {
                                    "0": "6.4"
                                },
                                {
                                    "0": "5"
                                },
                                {
                                    "0": "6.3"
                                },
                                {
                                    "0": "5.7"
                                },
                                {
                                    "0": "6.5"
                                },
                                {
                                    "0": "6.6"
                                },
                                {
                                    "0": "6.6"
                                },
                                {
                                    "0": "6.3"
                                },
                                {
                                    "0": "5.6"
                                },
                                {
                                    "0": "5.6"
                                },
                                {
                                    "0": "6.3"
                                },
                                {
                                    "0": "6.8"
                                },
                                {
                                    "0": "6.5"
                                },
                                {
                                    "0": "6.4"
                                },
                                {
                                    "0": "4.6"
                                },
                                {
                                    "0": "6.4"
                                },
                                {
                                    "0": "6.1"
                                },
                                {
                                    "0": "6.3"
                                },
                                {
                                    "0": "5.9"
                                },
                                {
                                    "0": "5.4"
                                },
                                {
                                    "0": "4.5"
                                },
                                {
                                    "0": "6"
                                },
                                {
                                    "0": "5.4"
                                },
                                {
                                    "0": "6"
                                },
                                {
                                    "0": "6.6"
                                },
                                {
                                    "0": "5.1"
                                },
                                {
                                    "0": "4.9"
                                },
                                {
                                    "0": "5.2"
                                },
                                {
                                    "0": "5.3"
                                },
                                {
                                    "0": "5.1"
                                },
                                {
                                    "0": "5.1"
                                },
                                {
                                    "0": "4.7"
                                },
                                {
                                    "0": "4.3"
                                },
                                {
                                    "0": "5"
                                },
                                {
                                    "0": "5.8"
                                },
                                {
                                    "0": "5.8"
                                },
                                {
                                    "0": "4.4"
                                },
                                {
                                    "0": "5.3"
                                },
                                {
                                    "0": "4.8"
                                },
                                {
                                    "0": "5.1"
                                },
                                {
                                    "0": "5.5"
                                },
                                {
                                    "0": "5.2"
                                },
                                {
                                    "0": "5.5"
                                },
                                {
                                    "0": "5.2"
                                },
                                {
                                    "0": "5.2"
                                },
                                {
                                    "0": "5.2"
                                },
                                {
                                    "0": "5.1"
                                },
                                {
                                    "0": "5.2"
                                },
                                {
                                    "0": "5.5"
                                },
                                {
                                    "0": "4.2"
                                },
                                {
                                    "0": "5.8"
                                },
                                {
                                    "0": "5.8"
                                },
                                {
                                    "0": "5.4"
                                },
                                {
                                    "0": "4.7"
                                },
                                {
                                    "0": "5.2"
                                },
                                {
                                    "0": "5.9"
                                },
                                {
                                    "0": "5"
                                },
                                {
                                    "0": "5"
                                },
                                {
                                    "0": "5.5"
                                },
                                {
                                    "0": "5.5"
                                },
                                {
                                    "0": "4.9"
                                },
                                {
                                    "0": "5.4"
                                },
                                {
                                    "0": "5"
                                },
                                {
                                    "0": "4.5"
                                },
                                {
                                    "0": "4.5"
                                },
                                {
                                    "0": "5"
                                },
                                {
                                    "0": "5.2"
                                },
                                {
                                    "0": "5"
                                },
                                {
                                    "0": "5"
                                },
                                {
                                    "0": "5.3"
                                },
                                {
                                    "0": "5.2"
                                },
                                {
                                    "0": "4.8"
                                },
                                {
                                    "0": "5.4"
                                },
                                {
                                    "0": "5.3"
                                },
                                {
                                    "0": "5.3"
                                },
                                {
                                    "0": "5.4"
                                },
                                {
                                    "0": "4.4"
                                },
                                {
                                    "0": "5.4"
                                },
                                {
                                    "0": "4.8"
                                },
                                {
                                    "0": "5.5"
                                },
                                {
                                    "0": "5.1"
                                },
                                {
                                    "0": "5.3"
                                },
                                {
                                    "0": "5.2"
                                },
                                {
                                    "0": "5.2"
                                },
                                {
                                    "0": "5"
                                },
                                {
                                    "0": "5"
                                },
                                {
                                    "0": "4.9"
                                },
                                {
                                    "0": "4.5"
                                },
                                {
                                    "0": "4.8"
                                },
                                {
                                    "0": "5.9"
                                },
                                {
                                    "0": "5.9"
                                },
                                {
                                    "0": "5"
                                },
                                {
                                    "0": "5.6"
                                },
                                {
                                    "0": "5.2"
                                },
                                {
                                    "0": "5.2"
                                },
                                {
                                    "0": "6.6"
                                },
                                {
                                    "0": "6.6"
                                },
                                {
                                    "0": "4.8"
                                },
                                {
                                    "0": "5.1"
                                },
                                {
                                    "0": "5.3"
                                },
                                {
                                    "0": "5.3"
                                },
                                {
                                    "0": "5.3"
                                },
                                {
                                    "0": "6.1"
                                },
                                {
                                    "0": "6.1"
                                },
                                {
                                    "0": "6.1"
                                },
                                {
                                    "0": "6.1"
                                },
                                {
                                    "0": "4.6"
                                },
                                {
                                    "0": "4.9"
                                },
                                {
                                    "0": "4.9"
                                },
                                {
                                    "0": "5.8"
                                },
                                {
                                    "0": "5.1"
                                },
                                {
                                    "0": "5.1"
                                },
                                {
                                    "0": "5.1"
                                },
                                {
                                    "0": "4.9"
                                },
                                {
                                    "0": "5.1"
                                },
                                {
                                    "0": "4.4"
                                },
                                {
                                    "0": "5.8"
                                },
                                {
                                    "0": "5.2"
                                },
                                {
                                    "0": "5.2"
                                },
                                {
                                    "0": "5.4"
                                },
                                {
                                    "0": "4.8"
                                },
                                {
                                    "0": "5"
                                },
                                {
                                    "0": "5.1"
                                },
                                {
                                    "0": "4.8"
                                },
                                {
                                    "0": "5.2"
                                },
                                {
                                    "0": "5.2"
                                },
                                {
                                    "0": "5.4"
                                },
                                {
                                    "0": "5.4"
                                },
                                {
                                    "0": "5.1"
                                },
                                {
                                    "0": "5.8"
                                },
                                {
                                    "0": "6.1"
                                },
                                {
                                    "0": "5.5"
                                },
                                {
                                    "0": "5.2"
                                },
                                {
                                    "0": "5.2"
                                },
                                {
                                    "0": "5.2"
                                },
                                {
                                    "0": "5.2"
                                },
                                {
                                    "0": "5.8"
                                },
                                {
                                    "0": "5.4"
                                },
                                {
                                    "0": "5.4"
                                },
                                {
                                    "0": "5.8"
                                },
                                {
                                    "0": "5.3"
                                },
                                {
                                    "0": "5.2"
                                },
                                {
                                    "0": "5.3"
                                },
                                {
                                    "0": "5.1"
                                },
                                {
                                    "0": "5.9"
                                },
                                {
                                    "0": "5.9"
                                },
                                {
                                    "0": "6"
                                },
                                {
                                    "0": "5.1"
                                },
                                {
                                    "0": "5.1"
                                },
                                {
                                    "0": "5"
                                },
                                {
                                    "0": "5.1"
                                },
                                {
                                    "0": "4.9"
                                },
                                {
                                    "0": "4.8"
                                },
                                {
                                    "0": "5"
                                },
                                {
                                    "0": "5.3"
                                },
                                {
                                    "0": "4.8"
                                },
                                {
                                    "0": "5.2"
                                },
                                {
                                    "0": "5.8"
                                },
                                {
                                    "0": "4.9"
                                },
                                {
                                    "0": "5.2"
                                },
                                {
                                    "0": "5.6"
                                },
                                {
                                    "0": "5.7"
                                },
                                {
                                    "0": "5.2"
                                },
                                {
                                    "0": "5.7"
                                },
                                {
                                    "0": "6.2"
                                },
                                {
                                    "0": "6.9"
                                },
                                {
                                    "0": "6.2"
                                },
                                {
                                    "0": "5.8"
                                },
                                {
                                    "0": "6.2"
                                },
                                {
                                    "0": "5.5"
                                },
                                {
                                    "0": "5.8"
                                },
                                {
                                    "0": "6.2"
                                },
                                {
                                    "0": "6.2"
                                },
                                {
                                    "0": "5.6"
                                },
                                {
                                    "0": "5.4"
                                },
                                {
                                    "0": "6"
                                },
                                {
                                    "0": "5.1"
                                },
                                {
                                    "0": "5.8"
                                },
                                {
                                    "0": "5"
                                },
                                {
                                    "0": "4.9"
                                },
                                {
                                    "0": "5.8"
                                },
                                {
                                    "0": "5.8"
                                },
                                {
                                    "0": "4.5"
                                },
                                {
                                    "0": "4.8"
                                },
                                {
                                    "0": "5.4"
                                },
                                {
                                    "0": "5.3"
                                },
                                {
                                    "0": "6.2"
                                },
                                {
                                    "0": "6.2"
                                },
                                {
                                    "0": "5.4"
                                },
                                {
                                    "0": "6.4"
                                },
                                {
                                    "0": "6.4"
                                },
                                {
                                    "0": "5.9"
                                },
                                {
                                    "0": "5.8"
                                },
                                {
                                    "0": "5.9"
                                },
                                {
                                    "0": "5.2"
                                },
                                {
                                    "0": "5.1"
                                },
                                {
                                    "0": "6.2"
                                },
                                {
                                    "0": "6.3"
                                },
                                {
                                    "0": "5.6"
                                },
                                {
                                    "0": "6.1"
                                },
                                {
                                    "0": "5.1"
                                },
                                {
                                    "0": "6.4"
                                },
                                {
                                    "0": "6.2"
                                },
                                {
                                    "0": "6.3"
                                },
                                {
                                    "0": "5.7"
                                },
                                {
                                    "0": "5.4"
                                },
                                {
                                    "0": "5.7"
                                },
                                {
                                    "0": "5.7"
                                },
                                {
                                    "0": "5.7"
                                },
                                {
                                    "0": "5.8"
                                },
                                {
                                    "0": "5.8"
                                },
                                {
                                    "0": "5.9"
                                },
                                {
                                    "0": "5.5"
                                },
                                {
                                    "0": "5.5"
                                },
                                {
                                    "0": "5.2"
                                },
                                {
                                    "0": "5.3"
                                },
                                {
                                    "0": "5.7"
                                },
                                {
                                    "0": "4.9"
                                },
                                {
                                    "0": "4.9"
                                },
                                {
                                    "0": "5.1"
                                },
                                {
                                    "0": "6.9"
                                },
                                {
                                    "0": "6.6"
                                },
                                {
                                    "0": "4.9"
                                },
                                {
                                    "0": "6.1"
                                },
                                {
                                    "0": "5.6"
                                },
                                {
                                    "0": "6.4"
                                },
                                {
                                    "0": "6.4"
                                },
                                {
                                    "0": "6"
                                },
                                {
                                    "0": "6.4"
                                },
                                {
                                    "0": "5.2"
                                },
                                {
                                    "0": "6.8"
                                },
                                {
                                    "0": "5.9"
                                },
                                {
                                    "0": "5.8"
                                },
                                {
                                    "0": "6.3"
                                },
                                {
                                    "0": "5.7"
                                },
                                {
                                    "0": "6.4"
                                },
                                {
                                    "0": "5.7"
                                },
                                {
                                    "0": "5.5"
                                },
                                {
                                    "0": "6.2"
                                },
                                {
                                    "0": "5.6"
                                },
                                {
                                    "0": "6.2"
                                },
                                {
                                    "0": "6.4"
                                },
                                {
                                    "0": "5.7"
                                },
                                {
                                    "0": "5.7"
                                },
                                {
                                    "0": "6.5"
                                },
                                {
                                    "0": "5.5"
                                },
                                {
                                    "0": "5.7"
                                },
                                {
                                    "0": "4.9"
                                },
                                {
                                    "0": "5.7"
                                },
                                {
                                    "0": "6.5"
                                },
                                {
                                    "0": "4.7"
                                },
                                {
                                    "0": "6.5"
                                },
                                {
                                    "0": "5.3"
                                },
                                {
                                    "0": "6"
                                },
                                {
                                    "0": "5"
                                },
                                {
                                    "0": "6.9"
                                },
                                {
                                    "0": "5.1"
                                },
                                {
                                    "0": "5"
                                },
                                {
                                    "0": "4.8"
                                },
                                {
                                    "0": "5.6"
                                },
                                {
                                    "0": "6.4"
                                },
                                {
                                    "0": "5.7"
                                },
                                {
                                    "0": "5.9"
                                },
                                {
                                    "0": "6.5"
                                },
                                {
                                    "0": "4.9"
                                },
                                {
                                    "0": "5.8"
                                },
                                {
                                    "0": "5.3"
                                },
                                {
                                    "0": "5"
                                },
                                {
                                    "0": "5.3"
                                },
                                {
                                    "0": "5.1"
                                },
                                {
                                    "0": "5.5"
                                },
                                {
                                    "0": "4.5"
                                },
                                {
                                    "0": "5.5"
                                },
                                {
                                    "0": "5.4"
                                },
                                {
                                    "0": "5.1"
                                },
                                {
                                    "0": "5.6"
                                },
                                {
                                    "0": "5.6"
                                },
                                {
                                    "0": "5.3"
                                },
                                {
                                    "0": "4.8"
                                },
                                {
                                    "0": "4.2"
                                },
                                {
                                    "0": "6"
                                },
                                {
                                    "0": "5.2"
                                },
                                {
                                    "0": "5.2"
                                },
                                {
                                    "0": "6.1"
                                },
                                {
                                    "0": "5.2"
                                },
                                {
                                    "0": "5"
                                },
                                {
                                    "0": "5.5"
                                },
                                {
                                    "0": "4.5"
                                },
                                {
                                    "0": "5.6"
                                },
                                {
                                    "0": "6"
                                },
                                {
                                    "0": "5.3"
                                },
                                {
                                    "0": "5.8"
                                },
                                {
                                    "0": "4.9"
                                },
                                {
                                    "0": "5.8"
                                },
                                {
                                    "0": "5.9"
                                },
                                {
                                    "0": "4.7"
                                },
                                {
                                    "0": "4.7"
                                },
                                {
                                    "0": "5.2"
                                },
                                {
                                    "0": "5.4"
                                },
                                {
                                    "0": "4.8"
                                },
                                {
                                    "0": "4.8"
                                },
                                {
                                    "0": "5.2"
                                },
                                {
                                    "0": "5"
                                },
                                {
                                    "0": "5.8"
                                },
                                {
                                    "0": "5.8"
                                },
                                {
                                    "0": "5.8"
                                },
                                {
                                    "0": "5.4"
                                },
                                {
                                    "0": "5.4"
                                },
                                {
                                    "0": "5"
                                },
                                {
                                    "0": "5"
                                },
                                {
                                    "0": "4.9"
                                },
                                {
                                    "0": "5.1"
                                },
                                {
                                    "0": "4.9"
                                },
                                {
                                    "0": "5.2"
                                },
                                {
                                    "0": "5.2"
                                },
                                {
                                    "0": "5"
                                },
                                {
                                    "0": "5.2"
                                },
                                {
                                    "0": "5.2"
                                },
                                {
                                    "0": "5"
                                },
                                {
                                    "0": "5.4"
                                },
                                {
                                    "0": "5.2"
                                },
                                {
                                    "0": "5.3"
                                },
                                {
                                    "0": "5.1"
                                },
                                {
                                    "0": "5.6"
                                },
                                {
                                    "0": "5.3"
                                },
                                {
                                    "0": "5.3"
                                },
                                {
                                    "0": "5.8"
                                },
                                {
                                    "0": "5.3"
                                },
                                {
                                    "0": "5.1"
                                },
                                {
                                    "0": "4.9"
                                },
                                {
                                    "0": "5.9"
                                },
                                {
                                    "0": "5.7"
                                },
                                {
                                    "0": "6.4"
                                },
                                {
                                    "0": "5.7"
                                },
                                {
                                    "0": "6.8"
                                },
                                {
                                    "0": "5.3"
                                },
                                {
                                    "0": "5.3"
                                },
                                {
                                    "0": "5.3"
                                },
                                {
                                    "0": "4.5"
                                },
                                {
                                    "0": "4.6"
                                },
                                {
                                    "0": "6.5"
                                },
                                {
                                    "0": "5"
                                },
                                {
                                    "0": "5.2"
                                },
                                {
                                    "0": "6.6"
                                },
                                {
                                    "0": "5.8"
                                },
                                {
                                    "0": "5.2"
                                },
                                {
                                    "0": "4.9"
                                },
                                {
                                    "0": "5.5"
                                },
                                {
                                    "0": "5.2"
                                },
                                {
                                    "0": "5.2"
                                },
                                {
                                    "0": "5.1"
                                },
                                {
                                    "0": "5.5"
                                },
                                {
                                    "0": "6.1"
                                },
                                {
                                    "0": "5.6"
                                },
                                {
                                    "0": "5.6"
                                },
                                {
                                    "0": "6.1"
                                },
                                {
                                    "0": "5.2"
                                },
                                {
                                    "0": "6.1"
                                },
                                {
                                    "0": "5.2"
                                },
                                {
                                    "0": "6.1"
                                },
                                {
                                    "0": "5.3"
                                },
                                {
                                    "0": "5.3"
                                },
                                {
                                    "0": "5.1"
                                },
                                {
                                    "0": "5.9"
                                },
                                {
                                    "0": "5.9"
                                },
                                {
                                    "0": "5.5"
                                },
                                {
                                    "0": "5.5"
                                },
                                {
                                    "0": "5.7"
                                },
                                {
                                    "0": "6"
                                },
                                {
                                    "0": "5.6"
                                },
                                {
                                    "0": "5.6"
                                },
                                {
                                    "0": "4.5"
                                },
                                {
                                    "0": "5.1"
                                },
                                {
                                    "0": "5.6"
                                },
                                {
                                    "0": "5.1"
                                },
                                {
                                    "0": "7"
                                },
                                {
                                    "0": "5.8"
                                },
                                {
                                    "0": "5.3"
                                },
                                {
                                    "0": "5.2"
                                },
                                {
                                    "0": "5.2"
                                },
                                {
                                    "0": "5.5"
                                },
                                {
                                    "0": "6.8"
                                },
                                {
                                    "0": "5"
                                },
                                {
                                    "0": "4.8"
                                },
                                {
                                    "0": "5.3"
                                },
                                {
                                    "0": "5.3"
                                },
                                {
                                    "0": "5.3"
                                },
                                {
                                    "0": "5.3"
                                },
                                {
                                    "0": "5.4"
                                },
                                {
                                    "0": "4.7"
                                },
                                {
                                    "0": "4.7"
                                },
                                {
                                    "0": "6.8"
                                },
                                {
                                    "0": "4.7"
                                },
                                {
                                    "0": "4.8"
                                },
                                {
                                    "0": "5.7"
                                },
                                {
                                    "0": "6.5"
                                },
                                {
                                    "0": "6.5"
                                },
                                {
                                    "0": "5.5"
                                },
                                {
                                    "0": "5.7"
                                },
                                {
                                    "0": "6.6"
                                },
                                {
                                    "0": "5.5"
                                },
                                {
                                    "0": "5.7"
                                },
                                {
                                    "0": "5.1"
                                },
                                {
                                    "0": "5.8"
                                },
                                {
                                    "0": "5.9"
                                },
                                {
                                    "0": "6.7"
                                },
                                {
                                    "0": "4.9"
                                },
                                {
                                    "0": "5.1"
                                },
                                {
                                    "0": "5.7"
                                },
                                {
                                    "0": "5.9"
                                },
                                {
                                    "0": "5.9"
                                },
                                {
                                    "0": "5.6"
                                },
                                {
                                    "0": "5.1"
                                },
                                {
                                    "0": "6.1"
                                },
                                {
                                    "0": "5.6"
                                },
                                {
                                    "0": "6.2"
                                },
                                {
                                    "0": "6.2"
                                },
                                {
                                    "0": "5.1"
                                },
                                {
                                    "0": "5.2"
                                },
                                {
                                    "0": "5.1"
                                },
                                {
                                    "0": "5.6"
                                },
                                {
                                    "0": "5.6"
                                },
                                {
                                    "0": "5.6"
                                },
                                {
                                    "0": "5.6"
                                },
                                {
                                    "0": "6.1"
                                },
                                {
                                    "0": "5.6"
                                },
                                {
                                    "0": "5.6"
                                },
                                {
                                    "0": "6.1"
                                },
                                {
                                    "0": "6"
                                },
                                {
                                    "0": "6.2"
                                },
                                {
                                    "0": "6.2"
                                },
                                {
                                    "0": "6.6"
                                },
                                {
                                    "0": "5.9"
                                },
                                {
                                    "0": "7.1"
                                },
                                {
                                    "0": "5.3"
                                },
                                {
                                    "0": "5.3"
                                },
                                {
                                    "0": "5.3"
                                },
                                {
                                    "0": "6.3"
                                },
                                {
                                    "0": "5"
                                },
                                {
                                    "0": "6.5"
                                },
                                {
                                    "0": "5.9"
                                },
                                {
                                    "0": "5.6"
                                },
                                {
                                    "0": "6.7"
                                },
                                {
                                    "0": "5.6"
                                },
                                {
                                    "0": "5.1"
                                },
                                {
                                    "0": "5.5"
                                },
                                {
                                    "0": "6.4"
                                },
                                {
                                    "0": "5.8"
                                },
                                {
                                    "0": "5.5"
                                },
                                {
                                    "0": "6.1"
                                },
                                {
                                    "0": "6.1"
                                },
                                {
                                    "0": "6.4"
                                },
                                {
                                    "0": "6.1"
                                },
                                {
                                    "0": "5.5"
                                },
                                {
                                    "0": "5.5"
                                },
                                {
                                    "0": "5.8"
                                },
                                {
                                    "0": "4.9"
                                },
                                {
                                    "0": "6"
                                },
                                {
                                    "0": "6"
                                },
                                {
                                    "0": "6.9"
                                },
                                {
                                    "0": "5.1"
                                },
                                {
                                    "0": "5.2"
                                },
                                {
                                    "0": "5.2"
                                },
                                {
                                    "0": "6.2"
                                },
                                {
                                    "0": "5.2"
                                },
                                {
                                    "0": "5.2"
                                },
                                {
                                    "0": "6.3"
                                },
                                {
                                    "0": "6.2"
                                },
                                {
                                    "0": "6.2"
                                },
                                {
                                    "0": "6.2"
                                },
                                {
                                    "0": "6.2"
                                },
                                {
                                    "0": "5.4"
                                },
                                {
                                    "0": "4.8"
                                },
                                {
                                    "0": "6.2"
                                },
                                {
                                    "0": "5.4"
                                },
                                {
                                    "0": "6.7"
                                },
                                {
                                    "0": "5.3"
                                },
                                {
                                    "0": "5.4"
                                },
                                {
                                    "0": "4.9"
                                },
                                {
                                    "0": "5.4"
                                },
                                {
                                    "0": "4.9"
                                },
                                {
                                    "0": "5.1"
                                },
                                {
                                    "0": "6"
                                },
                                {
                                    "0": "5.7"
                                },
                                {
                                    "0": "5"
                                },
                                {
                                    "0": "5.7"
                                },
                                {
                                    "0": "5.6"
                                },
                                {
                                    "0": "5.6"
                                },
                                {
                                    "0": "5.3"
                                },
                                {
                                    "0": "4.7"
                                },
                                {
                                    "0": "4.5"
                                },
                                {
                                    "0": "5.8"
                                },
                                {
                                    "0": "5"
                                },
                                {
                                    "0": "5.7"
                                },
                                {
                                    "0": "5.7"
                                },
                                {
                                    "0": "5.7"
                                },
                                {
                                    "0": "7.2"
                                },
                                {
                                    "0": "7.2"
                                },
                                {
                                    "0": "5.5"
                                },
                                {
                                    "0": "5.9"
                                },
                                {
                                    "0": "5"
                                },
                                {
                                    "0": "5.3"
                                },
                                {
                                    "0": "4.9"
                                },
                                {
                                    "0": "5.9"
                                },
                                {
                                    "0": "5.9"
                                },
                                {
                                    "0": "5.5"
                                },
                                {
                                    "0": "5.9"
                                },
                                {
                                    "0": "5.6"
                                },
                                {
                                    "0": "6.5"
                                },
                                {
                                    "0": "5.6"
                                },
                                {
                                    "0": "5.6"
                                },
                                {
                                    "0": "5.4"
                                },
                                {
                                    "0": "6.3"
                                },
                                {
                                    "0": "4.7"
                                },
                                {
                                    "0": "6.1"
                                },
                                {
                                    "0": "5.2"
                                },
                                {
                                    "0": "4.8"
                                },
                                {
                                    "0": "5.4"
                                },
                                {
                                    "0": "5"
                                },
                                {
                                    "0": "5.1"
                                },
                                {
                                    "0": "4.8"
                                },
                                {
                                    "0": "5.1"
                                },
                                {
                                    "0": "5.4"
                                },
                                {
                                    "0": "5.5"
                                },
                                {
                                    "0": "5.1"
                                },
                                {
                                    "0": "4.9"
                                },
                                {
                                    "0": "5.1"
                                },
                                {
                                    "0": "4.9"
                                },
                                {
                                    "0": "5"
                                },
                                {
                                    "0": "5"
                                },
                                {
                                    "0": "4.9"
                                },
                                {
                                    "0": "4.7"
                                },
                                {
                                    "0": "5.5"
                                },
                                {
                                    "0": "5.5"
                                },
                                {
                                    "0": "5.5"
                                },
                                {
                                    "0": "5.3"
                                },
                                {
                                    "0": "5.5"
                                },
                                {
                                    "0": "5.7"
                                },
                                {
                                    "0": "5"
                                },
                                {
                                    "0": "5"
                                },
                                {
                                    "0": "5.1"
                                },
                                {
                                    "0": "5"
                                },
                                {
                                    "0": "5"
                                },
                                {
                                    "0": "5.2"
                                },
                                {
                                    "0": "5.8"
                                },
                                {
                                    "0": "5.1"
                                },
                                {
                                    "0": "5.6"
                                },
                                {
                                    "0": "5.6"
                                },
                                {
                                    "0": "5.3"
                                },
                                {
                                    "0": "5.4"
                                },
                                {
                                    "0": "5.1"
                                },
                                {
                                    "0": "6.1"
                                },
                                {
                                    "0": "5.1"
                                },
                                {
                                    "0": "4.9"
                                },
                                {
                                    "0": "6.1"
                                },
                                {
                                    "0": "5.5"
                                },
                                {
                                    "0": "5.8"
                                },
                                {
                                    "0": "5.8"
                                },
                                {
                                    "0": "5"
                                },
                                {
                                    "0": "5"
                                },
                                {
                                    "0": "5"
                                },
                                {
                                    "0": "4.8"
                                },
                                {
                                    "0": "4.9"
                                },
                                {
                                    "0": "5.4"
                                },
                                {
                                    "0": "5.7"
                                },
                                {
                                    "0": "5.1"
                                },
                                {
                                    "0": "5.1"
                                },
                                {
                                    "0": "6.6"
                                },
                                {
                                    "0": "5.9"
                                },
                                {
                                    "0": "6.4"
                                },
                                {
                                    "0": "6.6"
                                },
                                {
                                    "0": "4.8"
                                },
                                {
                                    "0": "5.1"
                                },
                                {
                                    "0": "4.8"
                                },
                                {
                                    "0": "5.2"
                                },
                                {
                                    "0": "6.3"
                                },
                                {
                                    "0": "6.5"
                                },
                                {
                                    "0": "5.9"
                                },
                                {
                                    "0": "5.6"
                                },
                                {
                                    "0": "6.6"
                                },
                                {
                                    "0": "5.7"
                                },
                                {
                                    "0": "5.2"
                                },
                                {
                                    "0": "5.1"
                                },
                                {
                                    "0": "4.7"
                                },
                                {
                                    "0": "5.2"
                                },
                                {
                                    "0": "6.5"
                                },
                                {
                                    "0": "4.9"
                                },
                                {
                                    "0": "5.2"
                                },
                                {
                                    "0": "4.9"
                                },
                                {
                                    "0": "6.4"
                                },
                                {
                                    "0": "6.5"
                                },
                                {
                                    "0": "6.3"
                                },
                                {
                                    "0": "5.5"
                                },
                                {
                                    "0": "6.4"
                                },
                                {
                                    "0": "5.5"
                                },
                                {
                                    "0": "6.5"
                                },
                                {
                                    "0": "5.5"
                                },
                                {
                                    "0": "5.5"
                                },
                                {
                                    "0": "5.3"
                                },
                                {
                                    "0": "6.1"
                                },
                                {
                                    "0": "5.9"
                                },
                                {
                                    "0": "5.9"
                                },
                                {
                                    "0": "4.5"
                                },
                                {
                                    "0": "4.7"
                                },
                                {
                                    "0": "5"
                                },
                                {
                                    "0": "5.3"
                                },
                                {
                                    "0": "5.1"
                                },
                                {
                                    "0": "6"
                                },
                                {
                                    "0": "5.1"
                                },
                                {
                                    "0": "5.2"
                                },
                                {
                                    "0": "6.1"
                                },
                                {
                                    "0": "5.2"
                                },
                                {
                                    "0": "5.1"
                                },
                                {
                                    "0": "4.9"
                                },
                                {
                                    "0": "5.3"
                                },
                                {
                                    "0": "5"
                                },
                                {
                                    "0": "5"
                                },
                                {
                                    "0": "5.5"
                                },
                                {
                                    "0": "6.5"
                                },
                                {
                                    "0": "5.3"
                                },
                                {
                                    "0": "5.5"
                                },
                                {
                                    "0": "5.9"
                                },
                                {
                                    "0": "5.4"
                                },
                                {
                                    "0": "5.7"
                                },
                                {
                                    "0": "5.5"
                                },
                                {
                                    "0": "5.4"
                                },
                                {
                                    "0": "5.4"
                                },
                                {
                                    "0": "5.8"
                                },
                                {
                                    "0": "6.4"
                                },
                                {
                                    "0": "5.4"
                                },
                                {
                                    "0": "5.7"
                                },
                                {
                                    "0": "5.5"
                                },
                                {
                                    "0": "6.5"
                                },
                                {
                                    "0": "5"
                                },
                                {
                                    "0": "5"
                                },
                                {
                                    "0": "5"
                                },
                                {
                                    "0": "5.9"
                                },
                                {
                                    "0": "4.8"
                                },
                                {
                                    "0": "4.8"
                                },
                                {
                                    "0": "4.8"
                                },
                                {
                                    "0": "5.3"
                                },
                                {
                                    "0": "5.3"
                                },
                                {
                                    "0": "5.3"
                                },
                                {
                                    "0": "5.3"
                                },
                                {
                                    "0": "5.2"
                                },
                                {
                                    "0": "5.1"
                                },
                                {
                                    "0": "5.3"
                                },
                                {
                                    "0": "6"
                                },
                                {
                                    "0": "6.5"
                                },
                                {
                                    "0": "6.6"
                                },
                                {
                                    "0": "6.5"
                                },
                                {
                                    "0": "5.3"
                                },
                                {
                                    "0": "6.4"
                                },
                                {
                                    "0": "5"
                                },
                                {
                                    "0": "5.9"
                                },
                                {
                                    "0": "5.5"
                                }
                            ]
                        },
                        "text/html": "<table><tr><th>Score</th></tr><tr><td>5.6</td></tr><tr><td>5.7</td></tr><tr><td>5.7</td></tr><tr><td>5.6</td></tr><tr><td>6</td></tr><tr><td>5.5</td></tr><tr><td>4.7</td></tr><tr><td>5.6</td></tr><tr><td>5.9</td></tr><tr><td>6.1</td></tr><tr><td>6.8</td></tr><tr><td>6</td></tr><tr><td>5.9</td></tr><tr><td>6.1</td></tr><tr><td>5.7</td></tr><tr><td>5.1</td></tr><tr><td>5.1</td></tr><tr><td>5.3</td></tr><tr><td>5.7</td></tr><tr><td>5.3</td></tr><tr><td>5.8</td></tr><tr><td>6</td></tr><tr><td>6.4</td></tr><tr><td>4.9</td></tr><tr><td>5.7</td></tr><tr><td>5.6</td></tr><tr><td>5.6</td></tr><tr><td>6.7</td></tr><tr><td>6.1</td></tr><tr><td>6.3</td></tr><tr><td>5.7</td></tr><tr><td>5.2</td></tr><tr><td>5.9</td></tr><tr><td>5</td></tr><tr><td>5</td></tr><tr><td>5.2</td></tr><tr><td>5</td></tr><tr><td>5</td></tr><tr><td>5.2</td></tr><tr><td>6.1</td></tr><tr><td>5.5</td></tr><tr><td>5.3</td></tr><tr><td>5.7</td></tr><tr><td>5.3</td></tr><tr><td>5.3</td></tr><tr><td>6.1</td></tr><tr><td>5.7</td></tr><tr><td>6.1</td></tr><tr><td>6.1</td></tr><tr><td>5.1</td></tr><tr><td>5.3</td></tr><tr><td>4.7</td></tr><tr><td>6.2</td></tr><tr><td>5.3</td></tr><tr><td>5.3</td></tr><tr><td>5.3</td></tr><tr><td>5.9</td></tr><tr><td>5.8</td></tr><tr><td>5.7</td></tr><tr><td>4.8</td></tr><tr><td>5.2</td></tr><tr><td>5.2</td></tr><tr><td>6.5</td></tr><tr><td>5.5</td></tr><tr><td>6.2</td></tr><tr><td>5.9</td></tr><tr><td>5.7</td></tr><tr><td>5.4</td></tr><tr><td>5.4</td></tr><tr><td>6.3</td></tr><tr><td>6.3</td></tr><tr><td>5.4</td></tr><tr><td>5.9</td></tr><tr><td>5.4</td></tr><tr><td>6.4</td></tr><tr><td>5.7</td></tr><tr><td>5</td></tr><tr><td>5.7</td></tr><tr><td>6.4</td></tr><tr><td>5.4</td></tr><tr><td>5.3</td></tr><tr><td>6.2</td></tr><tr><td>5.3</td></tr><tr><td>5.3</td></tr><tr><td>5.9</td></tr><tr><td>5.9</td></tr><tr><td>5.6</td></tr><tr><td>5.9</td></tr><tr><td>5.5</td></tr><tr><td>6.1</td></tr><tr><td>5.5</td></tr><tr><td>5.4</td></tr><tr><td>6.4</td></tr><tr><td>6.1</td></tr><tr><td>5</td></tr><tr><td>5.4</td></tr><tr><td>5.1</td></tr><tr><td>5.4</td></tr><tr><td>5.7</td></tr><tr><td>5.7</td></tr><tr><td>5.7</td></tr><tr><td>5.7</td></tr><tr><td>6.3</td></tr><tr><td>5.6</td></tr><tr><td>5.9</td></tr><tr><td>6.1</td></tr><tr><td>5.9</td></tr><tr><td>5.8</td></tr><tr><td>5</td></tr><tr><td>5</td></tr><tr><td>5.6</td></tr><tr><td>4.7</td></tr><tr><td>5.7</td></tr><tr><td>5.1</td></tr><tr><td>5</td></tr><tr><td>5</td></tr><tr><td>5.2</td></tr><tr><td>5.2</td></tr><tr><td>5.5</td></tr><tr><td>5.5</td></tr><tr><td>5.9</td></tr><tr><td>6.6</td></tr><tr><td>5.2</td></tr><tr><td>5</td></tr><tr><td>5.7</td></tr><tr><td>5.7</td></tr><tr><td>5.7</td></tr><tr><td>5.7</td></tr><tr><td>5.6</td></tr><tr><td>5.1</td></tr><tr><td>6.9</td></tr><tr><td>6</td></tr><tr><td>5.3</td></tr><tr><td>5.3</td></tr><tr><td>5.3</td></tr><tr><td>5.3</td></tr><tr><td>5.8</td></tr><tr><td>5.8</td></tr><tr><td>5.5</td></tr><tr><td>5.5</td></tr><tr><td>6.5</td></tr><tr><td>4.1</td></tr><tr><td>5.3</td></tr><tr><td>6.3</td></tr><tr><td>5.8</td></tr><tr><td>5.4</td></tr><tr><td>5.1</td></tr><tr><td>5.7</td></tr><tr><td>5.8</td></tr><tr><td>5.7</td></tr><tr><td>5.8</td></tr><tr><td>5.7</td></tr><tr><td>6</td></tr><tr><td>6.2</td></tr><tr><td>6.8</td></tr><tr><td>5.4</td></tr><tr><td>6.8</td></tr><tr><td>5.4</td></tr><tr><td>5.6</td></tr><tr><td>5.6</td></tr><tr><td>4.7</td></tr><tr><td>5.6</td></tr><tr><td>5.5</td></tr><tr><td>6</td></tr><tr><td>5.5</td></tr><tr><td>6</td></tr><tr><td>6.2</td></tr><tr><td>6.2</td></tr><tr><td>5.5</td></tr><tr><td>5.2</td></tr><tr><td>5.5</td></tr><tr><td>5.1</td></tr><tr><td>5.6</td></tr><tr><td>6</td></tr><tr><td>6.2</td></tr><tr><td>5.8</td></tr><tr><td>5.5</td></tr><tr><td>5.5</td></tr><tr><td>5.9</td></tr><tr><td>5.5</td></tr><tr><td>5</td></tr><tr><td>7.2</td></tr><tr><td>5.6</td></tr><tr><td>5.9</td></tr><tr><td>6.2</td></tr><tr><td>6.2</td></tr><tr><td>5.6</td></tr><tr><td>5.9</td></tr><tr><td>5.3</td></tr><tr><td>5.3</td></tr><tr><td>5.8</td></tr><tr><td>6.4</td></tr><tr><td>5.5</td></tr><tr><td>5.5</td></tr><tr><td>5.5</td></tr><tr><td>5.5</td></tr><tr><td>5.5</td></tr><tr><td>5.9</td></tr><tr><td>5.4</td></tr><tr><td>5.9</td></tr><tr><td>4.6</td></tr><tr><td>6.8</td></tr><tr><td>5.9</td></tr><tr><td>5.7</td></tr><tr><td>6.8</td></tr><tr><td>4.8</td></tr><tr><td>5.5</td></tr><tr><td>6</td></tr><tr><td>6</td></tr><tr><td>5.4</td></tr><tr><td>5.5</td></tr><tr><td>5.3</td></tr><tr><td>6.1</td></tr><tr><td>5.3</td></tr><tr><td>5.7</td></tr><tr><td>6</td></tr><tr><td>5.7</td></tr><tr><td>5.9</td></tr><tr><td>6.5</td></tr><tr><td>6.2</td></tr><tr><td>5</td></tr><tr><td>6.2</td></tr><tr><td>5.8</td></tr><tr><td>6.2</td></tr><tr><td>5.4</td></tr><tr><td>5.6</td></tr><tr><td>6.2</td></tr><tr><td>5.8</td></tr><tr><td>7</td></tr><tr><td>5.3</td></tr><tr><td>5.5</td></tr><tr><td>5.3</td></tr><tr><td>5.7</td></tr><tr><td>6.5</td></tr><tr><td>6.5</td></tr><tr><td>4.8</td></tr><tr><td>6.1</td></tr><tr><td>5.5</td></tr><tr><td>6.4</td></tr><tr><td>5.6</td></tr><tr><td>5.8</td></tr><tr><td>6.4</td></tr><tr><td>7</td></tr><tr><td>5.2</td></tr><tr><td>5.9</td></tr><tr><td>5.9</td></tr><tr><td>6.4</td></tr><tr><td>4.3</td></tr><tr><td>5.1</td></tr><tr><td>5.8</td></tr><tr><td>6.4</td></tr><tr><td>6.2</td></tr><tr><td>5.5</td></tr><tr><td>5.5</td></tr><tr><td>5.5</td></tr><tr><td>5.5</td></tr><tr><td>5.5</td></tr><tr><td>5.5</td></tr><tr><td>5</td></tr><tr><td>5.9</td></tr><tr><td>5.6</td></tr><tr><td>5</td></tr><tr><td>5.5</td></tr><tr><td>6.2</td></tr><tr><td>5.5</td></tr><tr><td>6.2</td></tr><tr><td>5.2</td></tr><tr><td>6.7</td></tr><tr><td>5.2</td></tr><tr><td>5.5</td></tr><tr><td>5.7</td></tr><tr><td>5.8</td></tr><tr><td>5.1</td></tr><tr><td>5.3</td></tr><tr><td>6.5</td></tr><tr><td>6.5</td></tr><tr><td>6.6</td></tr><tr><td>5.3</td></tr><tr><td>5.6</td></tr><tr><td>5.1</td></tr><tr><td>5.9</td></tr><tr><td>5.9</td></tr><tr><td>5.5</td></tr><tr><td>6</td></tr><tr><td>4.7</td></tr><tr><td>6.6</td></tr><tr><td>6.3</td></tr><tr><td>6.4</td></tr><tr><td>5.8</td></tr><tr><td>6</td></tr><tr><td>6</td></tr><tr><td>6.4</td></tr><tr><td>6.2</td></tr><tr><td>5.6</td></tr><tr><td>5.4</td></tr><tr><td>5.4</td></tr><tr><td>5.6</td></tr><tr><td>6.3</td></tr><tr><td>6.1</td></tr><tr><td>5.9</td></tr><tr><td>5.9</td></tr><tr><td>5.6</td></tr><tr><td>5.3</td></tr><tr><td>5</td></tr><tr><td>5.3</td></tr><tr><td>5.3</td></tr><tr><td>5.9</td></tr><tr><td>5.2</td></tr><tr><td>5.2</td></tr><tr><td>6.4</td></tr><tr><td>5.3</td></tr><tr><td>5.5</td></tr><tr><td>5.4</td></tr><tr><td>6.4</td></tr><tr><td>5.8</td></tr><tr><td>5.4</td></tr><tr><td>5.4</td></tr><tr><td>5.4</td></tr><tr><td>5.4</td></tr><tr><td>5.4</td></tr><tr><td>6.3</td></tr><tr><td>5.1</td></tr><tr><td>5.2</td></tr><tr><td>4.8</td></tr><tr><td>5.2</td></tr><tr><td>6.2</td></tr><tr><td>5.1</td></tr><tr><td>6.2</td></tr><tr><td>5.1</td></tr><tr><td>6.6</td></tr><tr><td>4.9</td></tr><tr><td>6.5</td></tr><tr><td>6.5</td></tr><tr><td>6.5</td></tr><tr><td>5.2</td></tr><tr><td>5.5</td></tr><tr><td>5.4</td></tr><tr><td>5.4</td></tr><tr><td>5.5</td></tr><tr><td>5.5</td></tr><tr><td>5.6</td></tr><tr><td>6.9</td></tr><tr><td>6.5</td></tr><tr><td>6.3</td></tr><tr><td>6.1</td></tr><tr><td>5.3</td></tr><tr><td>5.4</td></tr><tr><td>6.1</td></tr><tr><td>5.6</td></tr><tr><td>5.8</td></tr><tr><td>6</td></tr><tr><td>6.4</td></tr><tr><td>6.2</td></tr><tr><td>5.4</td></tr><tr><td>5.4</td></tr><tr><td>6.2</td></tr><tr><td>5</td></tr><tr><td>6.9</td></tr><tr><td>6.5</td></tr><tr><td>6.9</td></tr><tr><td>5</td></tr><tr><td>5.3</td></tr><tr><td>6.4</td></tr><tr><td>5.7</td></tr><tr><td>6.5</td></tr><tr><td>6.6</td></tr><tr><td>5.9</td></tr><tr><td>6.1</td></tr><tr><td>6.1</td></tr><tr><td>5.8</td></tr><tr><td>5.2</td></tr><tr><td>5.8</td></tr><tr><td>5.5</td></tr><tr><td>5.4</td></tr><tr><td>5.4</td></tr><tr><td>5.5</td></tr><tr><td>5.5</td></tr><tr><td>5.4</td></tr><tr><td>6.8</td></tr><tr><td>6.8</td></tr><tr><td>5.5</td></tr><tr><td>5.1</td></tr><tr><td>5</td></tr><tr><td>5.8</td></tr><tr><td>5.5</td></tr><tr><td>5.5</td></tr><tr><td>5.5</td></tr><tr><td>4.8</td></tr><tr><td>5</td></tr><tr><td>5.8</td></tr><tr><td>6.8</td></tr><tr><td>6.5</td></tr><tr><td>5.9</td></tr><tr><td>6.3</td></tr><tr><td>6.3</td></tr><tr><td>7.4</td></tr><tr><td>6.3</td></tr><tr><td>6.8</td></tr><tr><td>6</td></tr><tr><td>6</td></tr><tr><td>6</td></tr><tr><td>6.2</td></tr><tr><td>6.2</td></tr><tr><td>6.4</td></tr><tr><td>6.4</td></tr><tr><td>5.2</td></tr><tr><td>7</td></tr><tr><td>5.9</td></tr><tr><td>6.5</td></tr><tr><td>6</td></tr><tr><td>6.1</td></tr><tr><td>5.2</td></tr><tr><td>5.8</td></tr><tr><td>6.1</td></tr><tr><td>6.1</td></tr><tr><td>6.5</td></tr><tr><td>6.5</td></tr><tr><td>5.9</td></tr><tr><td>5.9</td></tr><tr><td>5.5</td></tr><tr><td>6.2</td></tr><tr><td>5.5</td></tr><tr><td>6.1</td></tr><tr><td>6.2</td></tr><tr><td>5.8</td></tr><tr><td>5.3</td></tr><tr><td>5.3</td></tr><tr><td>6.5</td></tr><tr><td>6.1</td></tr><tr><td>4.5</td></tr><tr><td>4.5</td></tr><tr><td>6.2</td></tr><tr><td>5.9</td></tr><tr><td>6.3</td></tr><tr><td>6</td></tr><tr><td>5.5</td></tr><tr><td>5.5</td></tr><tr><td>6.8</td></tr><tr><td>4.9</td></tr><tr><td>6.6</td></tr><tr><td>5.5</td></tr><tr><td>5.6</td></tr><tr><td>5.3</td></tr><tr><td>5.7</td></tr><tr><td>5.4</td></tr><tr><td>6</td></tr><tr><td>6</td></tr><tr><td>5.4</td></tr><tr><td>5.1</td></tr><tr><td>5.4</td></tr><tr><td>5.4</td></tr><tr><td>5.4</td></tr><tr><td>5.4</td></tr><tr><td>6.4</td></tr><tr><td>6.6</td></tr><tr><td>6.9</td></tr><tr><td>5.3</td></tr><tr><td>6.4</td></tr><tr><td>6.4</td></tr><tr><td>6.6</td></tr><tr><td>6.5</td></tr><tr><td>5.6</td></tr><tr><td>5.4</td></tr><tr><td>5.8</td></tr><tr><td>5</td></tr><tr><td>5.8</td></tr><tr><td>5.8</td></tr><tr><td>6.7</td></tr><tr><td>6.7</td></tr><tr><td>5</td></tr><tr><td>6.3</td></tr><tr><td>6.3</td></tr><tr><td>5.5</td></tr><tr><td>6.3</td></tr><tr><td>6</td></tr><tr><td>5.9</td></tr><tr><td>5.9</td></tr><tr><td>5.8</td></tr><tr><td>5.4</td></tr><tr><td>5.4</td></tr><tr><td>5</td></tr><tr><td>6.3</td></tr><tr><td>5.1</td></tr><tr><td>6.3</td></tr><tr><td>5.9</td></tr><tr><td>5.4</td></tr><tr><td>5.8</td></tr><tr><td>5.2</td></tr><tr><td>5.9</td></tr><tr><td>6.3</td></tr><tr><td>4.6</td></tr><tr><td>5.6</td></tr><tr><td>6</td></tr><tr><td>4.6</td></tr><tr><td>6.1</td></tr><tr><td>4.8</td></tr><tr><td>6.1</td></tr><tr><td>5.5</td></tr><tr><td>5.8</td></tr><tr><td>6.5</td></tr><tr><td>5.8</td></tr><tr><td>5.8</td></tr><tr><td>5.7</td></tr><tr><td>6</td></tr><tr><td>5.2</td></tr><tr><td>6.4</td></tr><tr><td>6</td></tr><tr><td>6</td></tr><tr><td>5.9</td></tr><tr><td>5.8</td></tr><tr><td>5.7</td></tr><tr><td>5.5</td></tr><tr><td>6.3</td></tr><tr><td>7.1</td></tr><tr><td>5.1</td></tr><tr><td>5.2</td></tr><tr><td>6</td></tr><tr><td>6.4</td></tr><tr><td>7.5</td></tr><tr><td>7.5</td></tr><tr><td>5.9</td></tr><tr><td>6</td></tr><tr><td>5.2</td></tr><tr><td>5.2</td></tr><tr><td>5.9</td></tr><tr><td>6.3</td></tr><tr><td>5.5</td></tr><tr><td>5.8</td></tr><tr><td>5.9</td></tr><tr><td>6.3</td></tr><tr><td>4.9</td></tr><tr><td>6.4</td></tr><tr><td>5.9</td></tr><tr><td>5.1</td></tr><tr><td>5.1</td></tr><tr><td>5.3</td></tr><tr><td>5.1</td></tr><tr><td>6.2</td></tr><tr><td>5.1</td></tr><tr><td>5.3</td></tr><tr><td>5.7</td></tr><tr><td>5.3</td></tr><tr><td>6.2</td></tr><tr><td>5.5</td></tr><tr><td>5.9</td></tr><tr><td>6.3</td></tr><tr><td>6.2</td></tr><tr><td>5.8</td></tr><tr><td>5.3</td></tr><tr><td>6.3</td></tr><tr><td>7.1</td></tr><tr><td>4.8</td></tr><tr><td>5.8</td></tr><tr><td>5.1</td></tr><tr><td>5.9</td></tr><tr><td>5.2</td></tr><tr><td>5.7</td></tr><tr><td>5.7</td></tr><tr><td>5.7</td></tr><tr><td>5.2</td></tr><tr><td>6.1</td></tr><tr><td>6</td></tr><tr><td>4.9</td></tr><tr><td>4.9</td></tr><tr><td>5</td></tr><tr><td>5.2</td></tr><tr><td>6.1</td></tr><tr><td>4.9</td></tr><tr><td>6.2</td></tr><tr><td>6.8</td></tr><tr><td>5.3</td></tr><tr><td>6.6</td></tr><tr><td>6.6</td></tr><tr><td>5.8</td></tr><tr><td>6.9</td></tr><tr><td>6.6</td></tr><tr><td>6.4</td></tr><tr><td>5.7</td></tr><tr><td>5.9</td></tr><tr><td>6.5</td></tr><tr><td>6.4</td></tr><tr><td>6.5</td></tr><tr><td>5.6</td></tr><tr><td>6.4</td></tr><tr><td>5.5</td></tr><tr><td>5.5</td></tr><tr><td>5.9</td></tr><tr><td>5.5</td></tr><tr><td>5.6</td></tr><tr><td>6.2</td></tr><tr><td>6.3</td></tr><tr><td>5.5</td></tr><tr><td>5.5</td></tr><tr><td>5.5</td></tr><tr><td>5.8</td></tr><tr><td>6.9</td></tr><tr><td>5.6</td></tr><tr><td>5.3</td></tr><tr><td>5.6</td></tr><tr><td>5.7</td></tr><tr><td>6.7</td></tr><tr><td>6.3</td></tr><tr><td>5.3</td></tr><tr><td>6.3</td></tr><tr><td>6.7</td></tr><tr><td>6.6</td></tr><tr><td>6</td></tr><tr><td>6</td></tr><tr><td>6.3</td></tr><tr><td>6.9</td></tr><tr><td>6.9</td></tr><tr><td>5.9</td></tr><tr><td>5.7</td></tr><tr><td>6.2</td></tr><tr><td>5.5</td></tr><tr><td>5.9</td></tr><tr><td>6.2</td></tr><tr><td>5.1</td></tr><tr><td>6.3</td></tr><tr><td>5.9</td></tr><tr><td>6.3</td></tr><tr><td>6.5</td></tr><tr><td>5.9</td></tr><tr><td>7</td></tr><tr><td>5.3</td></tr><tr><td>6.1</td></tr><tr><td>5.8</td></tr><tr><td>5.3</td></tr><tr><td>6.4</td></tr><tr><td>6.9</td></tr><tr><td>6.8</td></tr><tr><td>6.1</td></tr><tr><td>5.3</td></tr><tr><td>6.7</td></tr><tr><td>6</td></tr><tr><td>5.8</td></tr><tr><td>6</td></tr><tr><td>6.5</td></tr><tr><td>5.2</td></tr><tr><td>5.8</td></tr><tr><td>5.1</td></tr><tr><td>5.5</td></tr><tr><td>6.7</td></tr><tr><td>4.9</td></tr><tr><td>6.5</td></tr><tr><td>5.6</td></tr><tr><td>5.7</td></tr><tr><td>5.8</td></tr><tr><td>6.5</td></tr><tr><td>5.6</td></tr><tr><td>5.6</td></tr><tr><td>5.6</td></tr><tr><td>6.6</td></tr><tr><td>5.6</td></tr><tr><td>6.3</td></tr><tr><td>6.4</td></tr><tr><td>6.1</td></tr><tr><td>5.6</td></tr><tr><td>5.7</td></tr><tr><td>6.8</td></tr><tr><td>6.6</td></tr><tr><td>6.5</td></tr><tr><td>4.8</td></tr><tr><td>6.1</td></tr><tr><td>6</td></tr><tr><td>6.4</td></tr><tr><td>5.9</td></tr><tr><td>4.6</td></tr><tr><td>6.1</td></tr><tr><td>5.9</td></tr><tr><td>5.5</td></tr><tr><td>5.1</td></tr><tr><td>6.5</td></tr><tr><td>6</td></tr><tr><td>5.9</td></tr><tr><td>5.9</td></tr><tr><td>6</td></tr><tr><td>4.8</td></tr><tr><td>6</td></tr><tr><td>6.4</td></tr><tr><td>6.5</td></tr><tr><td>6.2</td></tr><tr><td>5.9</td></tr><tr><td>5.4</td></tr><tr><td>6.2</td></tr><tr><td>4.8</td></tr><tr><td>6.4</td></tr><tr><td>6</td></tr><tr><td>4.1</td></tr><tr><td>6.2</td></tr><tr><td>6.2</td></tr><tr><td>4.9</td></tr><tr><td>4.5</td></tr><tr><td>6.1</td></tr><tr><td>6</td></tr><tr><td>6.2</td></tr><tr><td>5.2</td></tr><tr><td>5.9</td></tr><tr><td>6.1</td></tr><tr><td>5.9</td></tr><tr><td>6</td></tr><tr><td>7.2</td></tr><tr><td>6.5</td></tr><tr><td>6.1</td></tr><tr><td>6.3</td></tr><tr><td>6.6</td></tr><tr><td>5.5</td></tr><tr><td>5.8</td></tr><tr><td>6.3</td></tr><tr><td>6.7</td></tr><tr><td>6.3</td></tr><tr><td>7.1</td></tr><tr><td>5.4</td></tr><tr><td>6.1</td></tr><tr><td>6.2</td></tr><tr><td>5.4</td></tr><tr><td>5.7</td></tr><tr><td>6.7</td></tr><tr><td>6.4</td></tr><tr><td>6.7</td></tr><tr><td>6.4</td></tr><tr><td>5</td></tr><tr><td>6.3</td></tr><tr><td>6.3</td></tr><tr><td>6.1</td></tr><tr><td>7.9</td></tr><tr><td>5.8</td></tr><tr><td>7.2</td></tr><tr><td>5.8</td></tr><tr><td>6</td></tr><tr><td>5.8</td></tr><tr><td>6.3</td></tr><tr><td>6.7</td></tr><tr><td>6.3</td></tr><tr><td>6</td></tr><tr><td>5.9</td></tr><tr><td>5.5</td></tr><tr><td>5.5</td></tr><tr><td>5.5</td></tr><tr><td>5</td></tr><tr><td>5.6</td></tr><tr><td>5.6</td></tr><tr><td>5.6</td></tr><tr><td>6.8</td></tr><tr><td>6.4</td></tr><tr><td>5.4</td></tr><tr><td>5.4</td></tr><tr><td>7.1</td></tr><tr><td>6.8</td></tr><tr><td>6.8</td></tr><tr><td>6.5</td></tr><tr><td>6</td></tr><tr><td>6.5</td></tr><tr><td>6.3</td></tr><tr><td>6.3</td></tr><tr><td>6.3</td></tr><tr><td>5.8</td></tr><tr><td>6.1</td></tr><tr><td>7</td></tr><tr><td>6</td></tr><tr><td>6.1</td></tr><tr><td>5.2</td></tr><tr><td>5.4</td></tr><tr><td>5.9</td></tr><tr><td>5.2</td></tr><tr><td>5.8</td></tr><tr><td>5.8</td></tr><tr><td>6.1</td></tr><tr><td>5.8</td></tr><tr><td>5.5</td></tr><tr><td>7.2</td></tr><tr><td>5.3</td></tr><tr><td>5.5</td></tr><tr><td>5.7</td></tr><tr><td>5.9</td></tr><tr><td>5.3</td></tr><tr><td>4.5</td></tr><tr><td>5.8</td></tr><tr><td>5</td></tr><tr><td>5.7</td></tr><tr><td>6.6</td></tr><tr><td>6.6</td></tr><tr><td>6.1</td></tr><tr><td>5.3</td></tr><tr><td>5.9</td></tr><tr><td>5.9</td></tr><tr><td>5.4</td></tr><tr><td>5.9</td></tr><tr><td>6.1</td></tr><tr><td>5.4</td></tr><tr><td>6.2</td></tr><tr><td>5.9</td></tr><tr><td>6.3</td></tr><tr><td>5.8</td></tr><tr><td>6.5</td></tr><tr><td>6.3</td></tr><tr><td>5.7</td></tr><tr><td>4.9</td></tr><tr><td>6.4</td></tr><tr><td>5.5</td></tr><tr><td>6.2</td></tr><tr><td>5.7</td></tr><tr><td>5.8</td></tr><tr><td>6</td></tr><tr><td>6.4</td></tr><tr><td>6.4</td></tr><tr><td>6.2</td></tr><tr><td>6.6</td></tr><tr><td>6.1</td></tr><tr><td>6.7</td></tr><tr><td>5.6</td></tr><tr><td>6.1</td></tr><tr><td>6.1</td></tr><tr><td>6.2</td></tr><tr><td>5.3</td></tr><tr><td>6.5</td></tr><tr><td>5.2</td></tr><tr><td>5.3</td></tr><tr><td>5.2</td></tr><tr><td>6</td></tr><tr><td>6.3</td></tr><tr><td>6.7</td></tr><tr><td>5.8</td></tr><tr><td>6</td></tr><tr><td>5</td></tr><tr><td>6.4</td></tr><tr><td>5.2</td></tr><tr><td>5.2</td></tr><tr><td>5.1</td></tr><tr><td>5.2</td></tr><tr><td>5.1</td></tr><tr><td>5.2</td></tr><tr><td>6.8</td></tr><tr><td>6.6</td></tr><tr><td>4.9</td></tr><tr><td>6</td></tr><tr><td>5.6</td></tr><tr><td>5.5</td></tr><tr><td>5.6</td></tr><tr><td>5.7</td></tr><tr><td>5.7</td></tr><tr><td>5.7</td></tr><tr><td>6</td></tr><tr><td>5.7</td></tr><tr><td>6</td></tr><tr><td>5.6</td></tr><tr><td>6.9</td></tr><tr><td>5.6</td></tr><tr><td>6.9</td></tr><tr><td>5.3</td></tr><tr><td>5.4</td></tr><tr><td>5.3</td></tr><tr><td>5.7</td></tr><tr><td>5.7</td></tr><tr><td>6</td></tr><tr><td>7.1</td></tr><tr><td>6.2</td></tr><tr><td>5.4</td></tr><tr><td>5.8</td></tr><tr><td>6.3</td></tr><tr><td>5.9</td></tr><tr><td>5.5</td></tr><tr><td>5.5</td></tr><tr><td>5.9</td></tr><tr><td>5.3</td></tr><tr><td>5.9</td></tr><tr><td>5.3</td></tr><tr><td>5.9</td></tr><tr><td>5.9</td></tr><tr><td>5.3</td></tr><tr><td>4.8</td></tr><tr><td>5.6</td></tr><tr><td>5.5</td></tr><tr><td>7.1</td></tr><tr><td>5.9</td></tr><tr><td>5.8</td></tr><tr><td>5.6</td></tr><tr><td>5.4</td></tr><tr><td>5.4</td></tr><tr><td>5.1</td></tr><tr><td>5.7</td></tr><tr><td>5.5</td></tr><tr><td>5.6</td></tr><tr><td>5.4</td></tr><tr><td>7</td></tr><tr><td>6.8</td></tr><tr><td>6.1</td></tr><tr><td>6</td></tr><tr><td>6.1</td></tr><tr><td>6.8</td></tr><tr><td>6</td></tr><tr><td>6.1</td></tr><tr><td>6.1</td></tr><tr><td>5.9</td></tr><tr><td>5.3</td></tr><tr><td>5.9</td></tr><tr><td>6.1</td></tr><tr><td>4</td></tr><tr><td>5</td></tr><tr><td>6.4</td></tr><tr><td>5.8</td></tr><tr><td>4.9</td></tr><tr><td>5.8</td></tr><tr><td>5.9</td></tr><tr><td>6</td></tr><tr><td>5.4</td></tr><tr><td>5.4</td></tr><tr><td>5.5</td></tr><tr><td>6.6</td></tr><tr><td>5.5</td></tr><tr><td>5</td></tr><tr><td>5</td></tr><tr><td>5.4</td></tr><tr><td>5.4</td></tr><tr><td>6.1</td></tr><tr><td>6.1</td></tr><tr><td>6.1</td></tr><tr><td>6.1</td></tr><tr><td>6.1</td></tr><tr><td>5.7</td></tr><tr><td>6.8</td></tr><tr><td>6.1</td></tr><tr><td>6.3</td></tr><tr><td>5.9</td></tr><tr><td>6</td></tr><tr><td>6</td></tr><tr><td>6.1</td></tr><tr><td>6.8</td></tr><tr><td>5.9</td></tr><tr><td>5.7</td></tr><tr><td>6</td></tr><tr><td>6.4</td></tr><tr><td>6.4</td></tr><tr><td>6</td></tr><tr><td>6.4</td></tr><tr><td>6</td></tr><tr><td>6.2</td></tr><tr><td>5.4</td></tr><tr><td>5.5</td></tr><tr><td>5.4</td></tr><tr><td>6</td></tr><tr><td>5.7</td></tr><tr><td>6</td></tr><tr><td>5.7</td></tr><tr><td>6</td></tr><tr><td>5.7</td></tr><tr><td>5.7</td></tr><tr><td>6</td></tr><tr><td>6.3</td></tr><tr><td>5.4</td></tr><tr><td>5.5</td></tr><tr><td>6</td></tr><tr><td>5.5</td></tr><tr><td>5.1</td></tr><tr><td>6</td></tr><tr><td>5.6</td></tr><tr><td>5.5</td></tr><tr><td>5.3</td></tr><tr><td>6.2</td></tr><tr><td>5.6</td></tr><tr><td>4.8</td></tr><tr><td>6</td></tr><tr><td>5.8</td></tr><tr><td>6.6</td></tr><tr><td>5.5</td></tr><tr><td>5.6</td></tr><tr><td>5.7</td></tr><tr><td>6.3</td></tr><tr><td>6.3</td></tr><tr><td>6.3</td></tr><tr><td>5.4</td></tr><tr><td>5.5</td></tr><tr><td>4.8</td></tr><tr><td>6</td></tr><tr><td>6</td></tr><tr><td>6.1</td></tr><tr><td>5.3</td></tr><tr><td>6.1</td></tr><tr><td>6.3</td></tr><tr><td>6.8</td></tr><tr><td>6.8</td></tr><tr><td>5.1</td></tr><tr><td>6.3</td></tr><tr><td>5.5</td></tr><tr><td>5.5</td></tr><tr><td>5.9</td></tr><tr><td>6.3</td></tr><tr><td>5.9</td></tr><tr><td>5.4</td></tr><tr><td>4.9</td></tr><tr><td>5.1</td></tr><tr><td>5.1</td></tr><tr><td>5.5</td></tr><tr><td>5.8</td></tr><tr><td>6.3</td></tr><tr><td>4.9</td></tr><tr><td>6.5</td></tr><tr><td>5.1</td></tr><tr><td>5.6</td></tr><tr><td>5.9</td></tr><tr><td>5.9</td></tr><tr><td>5.7</td></tr><tr><td>5.7</td></tr><tr><td>5.5</td></tr><tr><td>5.5</td></tr><tr><td>6.4</td></tr><tr><td>6.4</td></tr><tr><td>6.4</td></tr><tr><td>6.4</td></tr><tr><td>6.4</td></tr><tr><td>5.6</td></tr><tr><td>6.4</td></tr><tr><td>6.3</td></tr><tr><td>5.6</td></tr><tr><td>6.1</td></tr><tr><td>6.1</td></tr><tr><td>6.1</td></tr><tr><td>6</td></tr><tr><td>6.8</td></tr><tr><td>5.3</td></tr><tr><td>6</td></tr><tr><td>5.6</td></tr><tr><td>6.2</td></tr><tr><td>5.1</td></tr><tr><td>5.1</td></tr><tr><td>5.3</td></tr><tr><td>5.1</td></tr><tr><td>5.5</td></tr><tr><td>6.1</td></tr><tr><td>6.2</td></tr><tr><td>5.6</td></tr><tr><td>6.2</td></tr><tr><td>5.9</td></tr><tr><td>6.1</td></tr><tr><td>5.1</td></tr><tr><td>6</td></tr><tr><td>6</td></tr><tr><td>5.3</td></tr><tr><td>5.5</td></tr><tr><td>5.5</td></tr><tr><td>5.9</td></tr><tr><td>5.9</td></tr><tr><td>6</td></tr><tr><td>5.3</td></tr><tr><td>5.2</td></tr><tr><td>5.3</td></tr><tr><td>5.4</td></tr><tr><td>5.7</td></tr><tr><td>5.9</td></tr><tr><td>5.7</td></tr><tr><td>5.2</td></tr><tr><td>5.5</td></tr><tr><td>6.2</td></tr><tr><td>5.2</td></tr><tr><td>5.5</td></tr><tr><td>5.2</td></tr><tr><td>5.5</td></tr><tr><td>5.9</td></tr><tr><td>5.9</td></tr><tr><td>4.9</td></tr><tr><td>5.9</td></tr><tr><td>5</td></tr><tr><td>5.4</td></tr><tr><td>5.4</td></tr><tr><td>5.4</td></tr><tr><td>5.4</td></tr><tr><td>5.4</td></tr><tr><td>6.8</td></tr><tr><td>5.7</td></tr><tr><td>6.8</td></tr><tr><td>6.9</td></tr><tr><td>5.4</td></tr><tr><td>6.9</td></tr><tr><td>7.1</td></tr><tr><td>5</td></tr><tr><td>7.1</td></tr><tr><td>5.5</td></tr><tr><td>7</td></tr><tr><td>6.5</td></tr><tr><td>6.1</td></tr><tr><td>6.3</td></tr><tr><td>5.6</td></tr><tr><td>5.3</td></tr><tr><td>6.5</td></tr><tr><td>4.5</td></tr><tr><td>4.5</td></tr><tr><td>5</td></tr><tr><td>5.6</td></tr><tr><td>5.9</td></tr><tr><td>5.1</td></tr><tr><td>5.6</td></tr><tr><td>5.8</td></tr><tr><td>6.1</td></tr><tr><td>5.6</td></tr><tr><td>7.2</td></tr><tr><td>5.8</td></tr><tr><td>5.4</td></tr><tr><td>6.3</td></tr><tr><td>4.8</td></tr><tr><td>6.3</td></tr><tr><td>5.7</td></tr><tr><td>6</td></tr><tr><td>6.4</td></tr><tr><td>6.2</td></tr><tr><td>5.3</td></tr><tr><td>5.3</td></tr><tr><td>5.1</td></tr><tr><td>5.3</td></tr><tr><td>5.6</td></tr><tr><td>4.8</td></tr><tr><td>6.6</td></tr><tr><td>6.5</td></tr><tr><td>6.6</td></tr><tr><td>5.7</td></tr><tr><td>6.2</td></tr><tr><td>6</td></tr><tr><td>5.5</td></tr><tr><td>6.5</td></tr><tr><td>5.4</td></tr><tr><td>6.4</td></tr><tr><td>6.3</td></tr><tr><td>5</td></tr><tr><td>6.2</td></tr><tr><td>5.9</td></tr><tr><td>6.2</td></tr><tr><td>5.9</td></tr><tr><td>5.1</td></tr><tr><td>6.1</td></tr><tr><td>6.1</td></tr><tr><td>5.7</td></tr><tr><td>5.7</td></tr><tr><td>5.5</td></tr><tr><td>6</td></tr><tr><td>6.2</td></tr><tr><td>5.2</td></tr><tr><td>5.2</td></tr><tr><td>6</td></tr><tr><td>5.6</td></tr><tr><td>5.5</td></tr><tr><td>5.5</td></tr><tr><td>6.3</td></tr><tr><td>4.9</td></tr><tr><td>4.9</td></tr><tr><td>5.9</td></tr><tr><td>5.9</td></tr><tr><td>5.3</td></tr><tr><td>6.6</td></tr><tr><td>4.9</td></tr><tr><td>6.3</td></tr><tr><td>6.3</td></tr><tr><td>5.1</td></tr><tr><td>5.4</td></tr><tr><td>5.4</td></tr><tr><td>5.5</td></tr><tr><td>6.8</td></tr><tr><td>5.7</td></tr><tr><td>6.9</td></tr><tr><td>5.7</td></tr><tr><td>5.4</td></tr><tr><td>6.9</td></tr><tr><td>5.3</td></tr><tr><td>5.9</td></tr><tr><td>5.3</td></tr><tr><td>5.9</td></tr><tr><td>6.2</td></tr><tr><td>5.6</td></tr><tr><td>5.4</td></tr><tr><td>5.4</td></tr><tr><td>5.6</td></tr><tr><td>6.2</td></tr><tr><td>5.8</td></tr><tr><td>5.4</td></tr><tr><td>5.4</td></tr><tr><td>5.3</td></tr><tr><td>6.2</td></tr><tr><td>6.1</td></tr><tr><td>7.4</td></tr><tr><td>5.6</td></tr><tr><td>5.7</td></tr><tr><td>4.6</td></tr><tr><td>6</td></tr><tr><td>6.4</td></tr><tr><td>5.2</td></tr><tr><td>5.2</td></tr><tr><td>4.3</td></tr><tr><td>6.4</td></tr><tr><td>6.1</td></tr><tr><td>4.3</td></tr><tr><td>5.8</td></tr><tr><td>6</td></tr><tr><td>3.8</td></tr><tr><td>5.5</td></tr><tr><td>5.7</td></tr><tr><td>5.7</td></tr><tr><td>6.8</td></tr><tr><td>6.4</td></tr><tr><td>5.7</td></tr><tr><td>6</td></tr><tr><td>6.2</td></tr><tr><td>5.3</td></tr><tr><td>6.6</td></tr><tr><td>6</td></tr><tr><td>6.4</td></tr><tr><td>5.7</td></tr><tr><td>6.2</td></tr><tr><td>7.6</td></tr><tr><td>7.6</td></tr><tr><td>7.4</td></tr><tr><td>6.4</td></tr><tr><td>4.8</td></tr><tr><td>5.7</td></tr><tr><td>5.6</td></tr><tr><td>6.6</td></tr><tr><td>5</td></tr><tr><td>6</td></tr><tr><td>6.2</td></tr><tr><td>6.1</td></tr><tr><td>5</td></tr><tr><td>6.3</td></tr><tr><td>6.2</td></tr><tr><td>6</td></tr><tr><td>6.4</td></tr><tr><td>5.9</td></tr><tr><td>5.3</td></tr><tr><td>5.9</td></tr><tr><td>5.9</td></tr><tr><td>5.3</td></tr><tr><td>5.8</td></tr><tr><td>5.9</td></tr><tr><td>5.7</td></tr><tr><td>6.4</td></tr><tr><td>6.6</td></tr><tr><td>7.3</td></tr><tr><td>6.9</td></tr><tr><td>6.4</td></tr><tr><td>6.2</td></tr><tr><td>5.2</td></tr><tr><td>5.4</td></tr><tr><td>6</td></tr><tr><td>5.9</td></tr><tr><td>6</td></tr><tr><td>5.7</td></tr><tr><td>7</td></tr><tr><td>5.7</td></tr><tr><td>7</td></tr><tr><td>6.6</td></tr><tr><td>6.2</td></tr><tr><td>4.4</td></tr><tr><td>6</td></tr><tr><td>6</td></tr><tr><td>6.1</td></tr><tr><td>6</td></tr><tr><td>5.3</td></tr><tr><td>4.6</td></tr><tr><td>5.8</td></tr><tr><td>5.8</td></tr><tr><td>4.6</td></tr><tr><td>5.3</td></tr><tr><td>6.6</td></tr><tr><td>6.9</td></tr><tr><td>6.9</td></tr><tr><td>6.6</td></tr><tr><td>6.1</td></tr><tr><td>6.6</td></tr><tr><td>5.3</td></tr><tr><td>5.4</td></tr><tr><td>5.4</td></tr><tr><td>5.4</td></tr><tr><td>5.4</td></tr><tr><td>5.6</td></tr><tr><td>6</td></tr><tr><td>6</td></tr><tr><td>5.8</td></tr><tr><td>6</td></tr><tr><td>5.4</td></tr><tr><td>6.8</td></tr><tr><td>6.5</td></tr><tr><td>6.4</td></tr><tr><td>6.8</td></tr><tr><td>5.9</td></tr><tr><td>6.3</td></tr><tr><td>5.6</td></tr><tr><td>5.9</td></tr><tr><td>5.9</td></tr><tr><td>5.8</td></tr><tr><td>5.9</td></tr><tr><td>5.6</td></tr><tr><td>5.5</td></tr><tr><td>5.4</td></tr><tr><td>6.4</td></tr><tr><td>4.8</td></tr><tr><td>5.8</td></tr><tr><td>5.9</td></tr><tr><td>6.1</td></tr><tr><td>6.6</td></tr><tr><td>6.3</td></tr><tr><td>6.2</td></tr><tr><td>6.1</td></tr><tr><td>6.1</td></tr><tr><td>6.6</td></tr><tr><td>6.3</td></tr><tr><td>6.8</td></tr><tr><td>7.1</td></tr><tr><td>6.1</td></tr><tr><td>5.8</td></tr><tr><td>6.5</td></tr><tr><td>5.8</td></tr><tr><td>7.1</td></tr><tr><td>7.1</td></tr><tr><td>5.5</td></tr><tr><td>5.9</td></tr><tr><td>5.2</td></tr><tr><td>5.9</td></tr><tr><td>5.9</td></tr><tr><td>6.7</td></tr><tr><td>6.5</td></tr><tr><td>5.6</td></tr><tr><td>5.8</td></tr><tr><td>6.4</td></tr><tr><td>6.6</td></tr><tr><td>6.6</td></tr><tr><td>6.2</td></tr><tr><td>6.4</td></tr><tr><td>5.4</td></tr><tr><td>5.2</td></tr><tr><td>5.6</td></tr><tr><td>5.8</td></tr><tr><td>6.1</td></tr><tr><td>6.1</td></tr><tr><td>6.1</td></tr><tr><td>6.4</td></tr><tr><td>6.1</td></tr><tr><td>6.1</td></tr><tr><td>6.6</td></tr><tr><td>6.6</td></tr><tr><td>5.5</td></tr><tr><td>6.2</td></tr><tr><td>5.5</td></tr><tr><td>6.5</td></tr><tr><td>6.7</td></tr><tr><td>7.1</td></tr><tr><td>6</td></tr><tr><td>7.7</td></tr><tr><td>5.1</td></tr><tr><td>6</td></tr><tr><td>5.5</td></tr><tr><td>6.3</td></tr><tr><td>7</td></tr><tr><td>6.3</td></tr><tr><td>7</td></tr><tr><td>7.1</td></tr><tr><td>6.1</td></tr><tr><td>5.6</td></tr><tr><td>6.6</td></tr><tr><td>6.1</td></tr><tr><td>7</td></tr><tr><td>6.6</td></tr><tr><td>5.6</td></tr><tr><td>6.1</td></tr><tr><td>6.2</td></tr><tr><td>5.8</td></tr><tr><td>6.1</td></tr><tr><td>6.7</td></tr><tr><td>6.7</td></tr><tr><td>5.5</td></tr><tr><td>5.7</td></tr><tr><td>6</td></tr><tr><td>6.2</td></tr><tr><td>6.4</td></tr><tr><td>5.3</td></tr><tr><td>5.3</td></tr><tr><td>5.1</td></tr><tr><td>5.9</td></tr><tr><td>5.6</td></tr><tr><td>7</td></tr><tr><td>5.3</td></tr><tr><td>6.1</td></tr><tr><td>5.3</td></tr><tr><td>6.3</td></tr><tr><td>5</td></tr><tr><td>6.9</td></tr><tr><td>6.6</td></tr><tr><td>7.1</td></tr><tr><td>7.1</td></tr><tr><td>6.5</td></tr><tr><td>6.4</td></tr><tr><td>6.7</td></tr><tr><td>6.5</td></tr><tr><td>6.4</td></tr><tr><td>6.2</td></tr><tr><td>6.4</td></tr><tr><td>6.5</td></tr><tr><td>5.9</td></tr><tr><td>6.1</td></tr><tr><td>6.1</td></tr><tr><td>6.9</td></tr><tr><td>3.9</td></tr><tr><td>6.1</td></tr><tr><td>7.1</td></tr><tr><td>5.5</td></tr><tr><td>5.7</td></tr><tr><td>6.4</td></tr><tr><td>5.6</td></tr><tr><td>6.8</td></tr><tr><td>6.3</td></tr><tr><td>5.2</td></tr><tr><td>6.2</td></tr><tr><td>6.3</td></tr><tr><td>5.7</td></tr><tr><td>5.7</td></tr><tr><td>6.4</td></tr><tr><td>5.7</td></tr><tr><td>7</td></tr><tr><td>6.8</td></tr><tr><td>7.2</td></tr><tr><td>7.2</td></tr><tr><td>6.1</td></tr><tr><td>6.8</td></tr><tr><td>6.7</td></tr><tr><td>6.1</td></tr><tr><td>6.3</td></tr><tr><td>6.1</td></tr><tr><td>6.1</td></tr><tr><td>6.1</td></tr><tr><td>5.7</td></tr><tr><td>6.1</td></tr><tr><td>5.7</td></tr><tr><td>6.3</td></tr><tr><td>7.3</td></tr><tr><td>6.1</td></tr><tr><td>5.7</td></tr><tr><td>5.6</td></tr><tr><td>6.4</td></tr><tr><td>7.1</td></tr><tr><td>6.8</td></tr><tr><td>7.1</td></tr><tr><td>6.9</td></tr><tr><td>5</td></tr><tr><td>6.2</td></tr><tr><td>6.3</td></tr><tr><td>6.3</td></tr><tr><td>7.1</td></tr><tr><td>5</td></tr><tr><td>6.1</td></tr><tr><td>5.8</td></tr><tr><td>6.1</td></tr><tr><td>5.5</td></tr><tr><td>6</td></tr><tr><td>7.1</td></tr><tr><td>5.5</td></tr><tr><td>6.2</td></tr><tr><td>6.6</td></tr><tr><td>6.8</td></tr><tr><td>5.8</td></tr><tr><td>6.3</td></tr><tr><td>6.3</td></tr><tr><td>6.3</td></tr><tr><td>6.3</td></tr><tr><td>6.3</td></tr><tr><td>6.3</td></tr><tr><td>6</td></tr><tr><td>5</td></tr><tr><td>5.7</td></tr><tr><td>7</td></tr><tr><td>6.9</td></tr><tr><td>6.5</td></tr><tr><td>5.9</td></tr><tr><td>6.4</td></tr><tr><td>6</td></tr><tr><td>5.9</td></tr><tr><td>6.4</td></tr><tr><td>6.9</td></tr><tr><td>6</td></tr><tr><td>6.3</td></tr><tr><td>6.2</td></tr><tr><td>6</td></tr><tr><td>6</td></tr><tr><td>5.8</td></tr><tr><td>6.5</td></tr><tr><td>6.1</td></tr><tr><td>6.2</td></tr><tr><td>5.6</td></tr><tr><td>5.2</td></tr><tr><td>6.1</td></tr><tr><td>6.1</td></tr><tr><td>5.2</td></tr><tr><td>6.7</td></tr><tr><td>6.6</td></tr><tr><td>6.5</td></tr><tr><td>5.9</td></tr><tr><td>6.7</td></tr><tr><td>6.6</td></tr><tr><td>6.9</td></tr><tr><td>6.3</td></tr><tr><td>5.6</td></tr><tr><td>6</td></tr><tr><td>5.6</td></tr><tr><td>5.7</td></tr><tr><td>5.7</td></tr><tr><td>5.8</td></tr><tr><td>6.2</td></tr><tr><td>5.5</td></tr><tr><td>5.5</td></tr><tr><td>6</td></tr><tr><td>6</td></tr><tr><td>6.2</td></tr><tr><td>5.4</td></tr><tr><td>5.5</td></tr><tr><td>5.5</td></tr><tr><td>4.9</td></tr><tr><td>7</td></tr><tr><td>7</td></tr><tr><td>7</td></tr><tr><td>6</td></tr><tr><td>7</td></tr><tr><td>7</td></tr><tr><td>6.8</td></tr><tr><td>6</td></tr><tr><td>6.2</td></tr><tr><td>6.3</td></tr><tr><td>5.3</td></tr><tr><td>6.2</td></tr><tr><td>6.2</td></tr><tr><td>6</td></tr><tr><td>6.9</td></tr><tr><td>5.7</td></tr><tr><td>5.7</td></tr><tr><td>6.2</td></tr><tr><td>7</td></tr><tr><td>5.9</td></tr><tr><td>7</td></tr><tr><td>5.9</td></tr><tr><td>6</td></tr><tr><td>6.2</td></tr><tr><td>6.3</td></tr><tr><td>6.3</td></tr><tr><td>6.9</td></tr><tr><td>6.3</td></tr><tr><td>6.3</td></tr><tr><td>6.6</td></tr><tr><td>6.6</td></tr><tr><td>6</td></tr><tr><td>6.6</td></tr><tr><td>6.9</td></tr><tr><td>6.9</td></tr><tr><td>5.7</td></tr><tr><td>7</td></tr><tr><td>5.5</td></tr><tr><td>6</td></tr><tr><td>5.5</td></tr><tr><td>6</td></tr><tr><td>6.4</td></tr><tr><td>6.5</td></tr><tr><td>5.8</td></tr><tr><td>5.8</td></tr><tr><td>6.5</td></tr><tr><td>5.5</td></tr><tr><td>5.5</td></tr><tr><td>5.5</td></tr><tr><td>5.9</td></tr><tr><td>5.5</td></tr><tr><td>4.2</td></tr><tr><td>5</td></tr><tr><td>7.2</td></tr><tr><td>5</td></tr><tr><td>6.2</td></tr><tr><td>6.6</td></tr><tr><td>5.2</td></tr><tr><td>6.2</td></tr><tr><td>5.9</td></tr><tr><td>5.5</td></tr><tr><td>6.8</td></tr><tr><td>6</td></tr><tr><td>5.9</td></tr><tr><td>6.5</td></tr><tr><td>5.8</td></tr><tr><td>6</td></tr><tr><td>6.1</td></tr><tr><td>6.1</td></tr><tr><td>6</td></tr><tr><td>6.1</td></tr><tr><td>6.4</td></tr><tr><td>6.3</td></tr><tr><td>7.2</td></tr><tr><td>6</td></tr><tr><td>5.7</td></tr><tr><td>5.7</td></tr><tr><td>5.7</td></tr><tr><td>5.4</td></tr><tr><td>5</td></tr><tr><td>6</td></tr><tr><td>5.7</td></tr><tr><td>5.7</td></tr><tr><td>5.4</td></tr><tr><td>5</td></tr><tr><td>6</td></tr><tr><td>6.5</td></tr><tr><td>6.3</td></tr><tr><td>6.5</td></tr><tr><td>5.4</td></tr><tr><td>5.8</td></tr><tr><td>6.4</td></tr><tr><td>6.3</td></tr><tr><td>4.9</td></tr><tr><td>6.1</td></tr><tr><td>6.5</td></tr><tr><td>6.9</td></tr><tr><td>7.2</td></tr><tr><td>6.5</td></tr><tr><td>6.9</td></tr><tr><td>7.4</td></tr><tr><td>6.5</td></tr><tr><td>6.9</td></tr><tr><td>5.8</td></tr><tr><td>6.9</td></tr><tr><td>5.5</td></tr><tr><td>6</td></tr><tr><td>6.3</td></tr><tr><td>4.9</td></tr><tr><td>7.1</td></tr><tr><td>6.3</td></tr><tr><td>5.9</td></tr><tr><td>6.1</td></tr><tr><td>6</td></tr><tr><td>5.5</td></tr><tr><td>4.9</td></tr><tr><td>5.4</td></tr><tr><td>5.9</td></tr><tr><td>5.9</td></tr><tr><td>5.9</td></tr><tr><td>5.9</td></tr><tr><td>5.4</td></tr><tr><td>5.9</td></tr><tr><td>5.1</td></tr><tr><td>5.1</td></tr><tr><td>6.5</td></tr><tr><td>6.5</td></tr><tr><td>6.5</td></tr><tr><td>5</td></tr><tr><td>6</td></tr><tr><td>5</td></tr><tr><td>6.2</td></tr><tr><td>5.5</td></tr><tr><td>6.4</td></tr><tr><td>6.4</td></tr><tr><td>6.4</td></tr><tr><td>6.4</td></tr><tr><td>6.4</td></tr><tr><td>6.4</td></tr><tr><td>6.4</td></tr><tr><td>6.2</td></tr><tr><td>6.4</td></tr><tr><td>5.7</td></tr><tr><td>7.3</td></tr><tr><td>6.3</td></tr><tr><td>5.7</td></tr><tr><td>6.3</td></tr><tr><td>6.1</td></tr><tr><td>5.9</td></tr><tr><td>7.3</td></tr><tr><td>6.5</td></tr><tr><td>6.7</td></tr><tr><td>6.2</td></tr><tr><td>6.3</td></tr><tr><td>6.4</td></tr><tr><td>5.1</td></tr><tr><td>5.6</td></tr><tr><td>5</td></tr><tr><td>6.1</td></tr><tr><td>5.6</td></tr><tr><td>6.1</td></tr><tr><td>5.9</td></tr><tr><td>5</td></tr><tr><td>5.9</td></tr><tr><td>6.1</td></tr><tr><td>6.1</td></tr><tr><td>5.6</td></tr><tr><td>5.8</td></tr><tr><td>6.8</td></tr><tr><td>6.8</td></tr><tr><td>6.7</td></tr><tr><td>6.3</td></tr><tr><td>6.8</td></tr><tr><td>5.4</td></tr><tr><td>6.6</td></tr><tr><td>6</td></tr><tr><td>6.3</td></tr><tr><td>6.8</td></tr><tr><td>4.8</td></tr><tr><td>7</td></tr><tr><td>6.3</td></tr><tr><td>6.9</td></tr><tr><td>6.4</td></tr><tr><td>6.3</td></tr><tr><td>6.1</td></tr><tr><td>5.5</td></tr><tr><td>5.5</td></tr><tr><td>5.5</td></tr><tr><td>5.5</td></tr><tr><td>5.3</td></tr><tr><td>6</td></tr><tr><td>6</td></tr><tr><td>6</td></tr><tr><td>6.5</td></tr><tr><td>6.5</td></tr><tr><td>6</td></tr><tr><td>5.1</td></tr><tr><td>6.6</td></tr><tr><td>6.3</td></tr><tr><td>6.1</td></tr><tr><td>5.1</td></tr><tr><td>5.8</td></tr><tr><td>7</td></tr><tr><td>7.4</td></tr><tr><td>5.5</td></tr><tr><td>6</td></tr><tr><td>7.4</td></tr><tr><td>6.2</td></tr><tr><td>5.4</td></tr><tr><td>6.1</td></tr><tr><td>5.4</td></tr><tr><td>6</td></tr><tr><td>5.8</td></tr><tr><td>5.9</td></tr><tr><td>6.2</td></tr><tr><td>6.2</td></tr><tr><td>5.6</td></tr><tr><td>6.4</td></tr><tr><td>5.8</td></tr><tr><td>5.8</td></tr><tr><td>5.2</td></tr><tr><td>6.6</td></tr><tr><td>5.5</td></tr><tr><td>5.6</td></tr><tr><td>5.8</td></tr><tr><td>7.3</td></tr><tr><td>5.8</td></tr><tr><td>7.3</td></tr><tr><td>5.8</td></tr><tr><td>5.8</td></tr><tr><td>6.3</td></tr><tr><td>6.5</td></tr><tr><td>4.7</td></tr><tr><td>6.3</td></tr><tr><td>5.6</td></tr><tr><td>4.7</td></tr><tr><td>6.5</td></tr><tr><td>6.5</td></tr><tr><td>6.7</td></tr><tr><td>6.8</td></tr><tr><td>5</td></tr><tr><td>5</td></tr><tr><td>6</td></tr><tr><td>6</td></tr><tr><td>6</td></tr><tr><td>6</td></tr><tr><td>6.3</td></tr><tr><td>6</td></tr><tr><td>6</td></tr><tr><td>6.3</td></tr><tr><td>6.5</td></tr><tr><td>6.3</td></tr><tr><td>6.5</td></tr><tr><td>6.5</td></tr><tr><td>6.1</td></tr><tr><td>6.3</td></tr><tr><td>5.5</td></tr><tr><td>5.6</td></tr><tr><td>5.8</td></tr><tr><td>6</td></tr><tr><td>5.8</td></tr><tr><td>5.9</td></tr><tr><td>5.5</td></tr><tr><td>6.2</td></tr><tr><td>5.9</td></tr><tr><td>6.1</td></tr><tr><td>6.2</td></tr><tr><td>6.4</td></tr><tr><td>6.1</td></tr><tr><td>6.2</td></tr><tr><td>5</td></tr><tr><td>5.9</td></tr><tr><td>6</td></tr><tr><td>6.3</td></tr><tr><td>5.5</td></tr><tr><td>5.3</td></tr><tr><td>5.3</td></tr><tr><td>5.9</td></tr><tr><td>6.2</td></tr><tr><td>6.2</td></tr><tr><td>5.3</td></tr><tr><td>6.2</td></tr><tr><td>5.9</td></tr><tr><td>6.5</td></tr><tr><td>4.9</td></tr><tr><td>6.6</td></tr><tr><td>6.2</td></tr><tr><td>6.2</td></tr><tr><td>6.2</td></tr><tr><td>6.2</td></tr><tr><td>6.2</td></tr><tr><td>6.2</td></tr><tr><td>5.6</td></tr><tr><td>6</td></tr><tr><td>6.3</td></tr><tr><td>6.2</td></tr><tr><td>5.1</td></tr><tr><td>6.2</td></tr><tr><td>4.8</td></tr><tr><td>5.5</td></tr><tr><td>6.6</td></tr><tr><td>6.5</td></tr><tr><td>5.4</td></tr><tr><td>6.2</td></tr><tr><td>6.5</td></tr><tr><td>6.1</td></tr><tr><td>5.4</td></tr><tr><td>5.6</td></tr><tr><td>6.6</td></tr><tr><td>5.6</td></tr><tr><td>5.4</td></tr><tr><td>5.4</td></tr><tr><td>5.4</td></tr><tr><td>5.4</td></tr><tr><td>4.4</td></tr><tr><td>6.5</td></tr><tr><td>6</td></tr><tr><td>6.1</td></tr><tr><td>6.9</td></tr><tr><td>6</td></tr><tr><td>6.6</td></tr><tr><td>6.8</td></tr><tr><td>5.5</td></tr><tr><td>5.6</td></tr><tr><td>6.1</td></tr><tr><td>6.1</td></tr><tr><td>5.8</td></tr><tr><td>5.6</td></tr><tr><td>5.5</td></tr><tr><td>5.9</td></tr><tr><td>6.1</td></tr><tr><td>6</td></tr><tr><td>4.9</td></tr><tr><td>5.7</td></tr><tr><td>6.3</td></tr><tr><td>5.2</td></tr><tr><td>5.5</td></tr><tr><td>5.5</td></tr><tr><td>5.5</td></tr><tr><td>5.5</td></tr><tr><td>7.3</td></tr><tr><td>5.7</td></tr><tr><td>5.1</td></tr><tr><td>5.5</td></tr><tr><td>5.7</td></tr><tr><td>5.7</td></tr><tr><td>5.3</td></tr><tr><td>6.2</td></tr><tr><td>5.7</td></tr><tr><td>6.1</td></tr><tr><td>6.1</td></tr><tr><td>6.2</td></tr><tr><td>6.1</td></tr><tr><td>6.5</td></tr><tr><td>6</td></tr><tr><td>5.1</td></tr><tr><td>5.6</td></tr><tr><td>5.9</td></tr><tr><td>5.8</td></tr><tr><td>6.2</td></tr><tr><td>5.1</td></tr><tr><td>6.1</td></tr><tr><td>6.3</td></tr><tr><td>5.1</td></tr><tr><td>5.1</td></tr><tr><td>6.3</td></tr><tr><td>6.3</td></tr><tr><td>6.3</td></tr><tr><td>6.3</td></tr><tr><td>6.3</td></tr><tr><td>6.3</td></tr><tr><td>6.3</td></tr><tr><td>6.3</td></tr><tr><td>5.4</td></tr><tr><td>6.4</td></tr><tr><td>6.1</td></tr><tr><td>6.3</td></tr><tr><td>6.6</td></tr><tr><td>5.5</td></tr><tr><td>5.5</td></tr><tr><td>6.5</td></tr><tr><td>6</td></tr><tr><td>6.1</td></tr><tr><td>5.9</td></tr><tr><td>5.3</td></tr><tr><td>6</td></tr><tr><td>5.4</td></tr><tr><td>6.6</td></tr><tr><td>5.4</td></tr><tr><td>5.9</td></tr><tr><td>5.7</td></tr><tr><td>6.2</td></tr><tr><td>6.2</td></tr><tr><td>6.4</td></tr><tr><td>6.2</td></tr><tr><td>5.6</td></tr><tr><td>5.6</td></tr><tr><td>5.6</td></tr><tr><td>5.6</td></tr><tr><td>6.6</td></tr><tr><td>5.2</td></tr><tr><td>5.2</td></tr><tr><td>5.2</td></tr><tr><td>5.2</td></tr><tr><td>5.3</td></tr><tr><td>6.5</td></tr><tr><td>6.2</td></tr><tr><td>6.5</td></tr><tr><td>6.2</td></tr><tr><td>5.3</td></tr><tr><td>5.8</td></tr><tr><td>5.1</td></tr><tr><td>5.1</td></tr><tr><td>6.2</td></tr><tr><td>6.2</td></tr><tr><td>5.9</td></tr><tr><td>5.7</td></tr><tr><td>6</td></tr><tr><td>6.6</td></tr><tr><td>6.2</td></tr><tr><td>4.7</td></tr><tr><td>5.7</td></tr><tr><td>6.7</td></tr><tr><td>6</td></tr><tr><td>4.8</td></tr><tr><td>5.1</td></tr><tr><td>6.5</td></tr><tr><td>5.9</td></tr><tr><td>5.9</td></tr><tr><td>5.8</td></tr><tr><td>5.6</td></tr><tr><td>6.2</td></tr><tr><td>6.4</td></tr><tr><td>6.1</td></tr><tr><td>6.5</td></tr><tr><td>6.6</td></tr><tr><td>6.4</td></tr><tr><td>5.3</td></tr><tr><td>6.4</td></tr><tr><td>6.2</td></tr><tr><td>5.5</td></tr><tr><td>5.4</td></tr><tr><td>5.4</td></tr><tr><td>6.4</td></tr><tr><td>5.5</td></tr><tr><td>5.4</td></tr><tr><td>6.8</td></tr><tr><td>7.4</td></tr><tr><td>7.4</td></tr><tr><td>5.8</td></tr><tr><td>6</td></tr><tr><td>7.4</td></tr><tr><td>5.9</td></tr><tr><td>7.4</td></tr><tr><td>5.9</td></tr><tr><td>6.3</td></tr><tr><td>6.4</td></tr><tr><td>6.2</td></tr><tr><td>6.2</td></tr><tr><td>5.6</td></tr><tr><td>6.4</td></tr><tr><td>6.2</td></tr><tr><td>5.5</td></tr><tr><td>5.5</td></tr><tr><td>6</td></tr><tr><td>6.2</td></tr><tr><td>6.9</td></tr><tr><td>6.9</td></tr><tr><td>4.6</td></tr><tr><td>7.4</td></tr><tr><td>6.2</td></tr><tr><td>6.5</td></tr><tr><td>5.8</td></tr><tr><td>5.9</td></tr><tr><td>5.3</td></tr><tr><td>5.4</td></tr><tr><td>5.4</td></tr><tr><td>6.4</td></tr><tr><td>7.3</td></tr><tr><td>6</td></tr><tr><td>5.9</td></tr><tr><td>6.1</td></tr><tr><td>6.9</td></tr><tr><td>5.7</td></tr><tr><td>6.4</td></tr><tr><td>6.9</td></tr><tr><td>6.1</td></tr><tr><td>6</td></tr><tr><td>4.9</td></tr><tr><td>4.9</td></tr><tr><td>7.1</td></tr><tr><td>6.7</td></tr><tr><td>6.5</td></tr><tr><td>6.5</td></tr><tr><td>6.1</td></tr><tr><td>6.7</td></tr><tr><td>5.9</td></tr><tr><td>5.7</td></tr><tr><td>6.1</td></tr><tr><td>5.8</td></tr><tr><td>6.9</td></tr><tr><td>5.7</td></tr><tr><td>5.5</td></tr><tr><td>6</td></tr><tr><td>6.5</td></tr><tr><td>6.7</td></tr><tr><td>5.5</td></tr><tr><td>5.7</td></tr><tr><td>6.2</td></tr><tr><td>5.5</td></tr><tr><td>5.9</td></tr><tr><td>6</td></tr><tr><td>7</td></tr><tr><td>7</td></tr><tr><td>5.6</td></tr><tr><td>6</td></tr><tr><td>7.3</td></tr><tr><td>6</td></tr><tr><td>5.7</td></tr><tr><td>6.4</td></tr><tr><td>5.8</td></tr><tr><td>6.5</td></tr><tr><td>6.6</td></tr><tr><td>6.2</td></tr><tr><td>6.9</td></tr><tr><td>6.3</td></tr><tr><td>6.4</td></tr><tr><td>5.7</td></tr><tr><td>5.3</td></tr><tr><td>5.7</td></tr><tr><td>5.5</td></tr><tr><td>6.2</td></tr><tr><td>5.6</td></tr><tr><td>5.2</td></tr><tr><td>5.2</td></tr><tr><td>5.9</td></tr><tr><td>6.5</td></tr><tr><td>5.7</td></tr><tr><td>7.1</td></tr><tr><td>5.5</td></tr><tr><td>5.8</td></tr><tr><td>5.2</td></tr><tr><td>6.5</td></tr><tr><td>6.8</td></tr><tr><td>5.4</td></tr><tr><td>6.4</td></tr><tr><td>6.5</td></tr><tr><td>6.4</td></tr><tr><td>5.4</td></tr><tr><td>6</td></tr><tr><td>6</td></tr><tr><td>5.3</td></tr><tr><td>5.8</td></tr><tr><td>6.8</td></tr><tr><td>6.9</td></tr><tr><td>6.2</td></tr><tr><td>6.4</td></tr><tr><td>5</td></tr><tr><td>6.3</td></tr><tr><td>5.7</td></tr><tr><td>6.5</td></tr><tr><td>6.6</td></tr><tr><td>6.6</td></tr><tr><td>6.3</td></tr><tr><td>5.6</td></tr><tr><td>5.6</td></tr><tr><td>6.3</td></tr><tr><td>6.8</td></tr><tr><td>6.5</td></tr><tr><td>6.4</td></tr><tr><td>4.6</td></tr><tr><td>6.4</td></tr><tr><td>6.1</td></tr><tr><td>6.3</td></tr><tr><td>5.9</td></tr><tr><td>5.4</td></tr><tr><td>4.5</td></tr><tr><td>6</td></tr><tr><td>5.4</td></tr><tr><td>6</td></tr><tr><td>6.6</td></tr><tr><td>5.1</td></tr><tr><td>4.9</td></tr><tr><td>5.2</td></tr><tr><td>5.3</td></tr><tr><td>5.1</td></tr><tr><td>5.1</td></tr><tr><td>4.7</td></tr><tr><td>4.3</td></tr><tr><td>5</td></tr><tr><td>5.8</td></tr><tr><td>5.8</td></tr><tr><td>4.4</td></tr><tr><td>5.3</td></tr><tr><td>4.8</td></tr><tr><td>5.1</td></tr><tr><td>5.5</td></tr><tr><td>5.2</td></tr><tr><td>5.5</td></tr><tr><td>5.2</td></tr><tr><td>5.2</td></tr><tr><td>5.2</td></tr><tr><td>5.1</td></tr><tr><td>5.2</td></tr><tr><td>5.5</td></tr><tr><td>4.2</td></tr><tr><td>5.8</td></tr><tr><td>5.8</td></tr><tr><td>5.4</td></tr><tr><td>4.7</td></tr><tr><td>5.2</td></tr><tr><td>5.9</td></tr><tr><td>5</td></tr><tr><td>5</td></tr><tr><td>5.5</td></tr><tr><td>5.5</td></tr><tr><td>4.9</td></tr><tr><td>5.4</td></tr><tr><td>5</td></tr><tr><td>4.5</td></tr><tr><td>4.5</td></tr><tr><td>5</td></tr><tr><td>5.2</td></tr><tr><td>5</td></tr><tr><td>5</td></tr><tr><td>5.3</td></tr><tr><td>5.2</td></tr><tr><td>4.8</td></tr><tr><td>5.4</td></tr><tr><td>5.3</td></tr><tr><td>5.3</td></tr><tr><td>5.4</td></tr><tr><td>4.4</td></tr><tr><td>5.4</td></tr><tr><td>4.8</td></tr><tr><td>5.5</td></tr><tr><td>5.1</td></tr><tr><td>5.3</td></tr><tr><td>5.2</td></tr><tr><td>5.2</td></tr><tr><td>5</td></tr><tr><td>5</td></tr><tr><td>4.9</td></tr><tr><td>4.5</td></tr><tr><td>4.8</td></tr><tr><td>5.9</td></tr><tr><td>5.9</td></tr><tr><td>5</td></tr><tr><td>5.6</td></tr><tr><td>5.2</td></tr><tr><td>5.2</td></tr><tr><td>6.6</td></tr><tr><td>6.6</td></tr><tr><td>4.8</td></tr><tr><td>5.1</td></tr><tr><td>5.3</td></tr><tr><td>5.3</td></tr><tr><td>5.3</td></tr><tr><td>6.1</td></tr><tr><td>6.1</td></tr><tr><td>6.1</td></tr><tr><td>6.1</td></tr><tr><td>4.6</td></tr><tr><td>4.9</td></tr><tr><td>4.9</td></tr><tr><td>5.8</td></tr><tr><td>5.1</td></tr><tr><td>5.1</td></tr><tr><td>5.1</td></tr><tr><td>4.9</td></tr><tr><td>5.1</td></tr><tr><td>4.4</td></tr><tr><td>5.8</td></tr><tr><td>5.2</td></tr><tr><td>5.2</td></tr><tr><td>5.4</td></tr><tr><td>4.8</td></tr><tr><td>5</td></tr><tr><td>5.1</td></tr><tr><td>4.8</td></tr><tr><td>5.2</td></tr><tr><td>5.2</td></tr><tr><td>5.4</td></tr><tr><td>5.4</td></tr><tr><td>5.1</td></tr><tr><td>5.8</td></tr><tr><td>6.1</td></tr><tr><td>5.5</td></tr><tr><td>5.2</td></tr><tr><td>5.2</td></tr><tr><td>5.2</td></tr><tr><td>5.2</td></tr><tr><td>5.8</td></tr><tr><td>5.4</td></tr><tr><td>5.4</td></tr><tr><td>5.8</td></tr><tr><td>5.3</td></tr><tr><td>5.2</td></tr><tr><td>5.3</td></tr><tr><td>5.1</td></tr><tr><td>5.9</td></tr><tr><td>5.9</td></tr><tr><td>6</td></tr><tr><td>5.1</td></tr><tr><td>5.1</td></tr><tr><td>5</td></tr><tr><td>5.1</td></tr><tr><td>4.9</td></tr><tr><td>4.8</td></tr><tr><td>5</td></tr><tr><td>5.3</td></tr><tr><td>4.8</td></tr><tr><td>5.2</td></tr><tr><td>5.8</td></tr><tr><td>4.9</td></tr><tr><td>5.2</td></tr><tr><td>5.6</td></tr><tr><td>5.7</td></tr><tr><td>5.2</td></tr><tr><td>5.7</td></tr><tr><td>6.2</td></tr><tr><td>6.9</td></tr><tr><td>6.2</td></tr><tr><td>5.8</td></tr><tr><td>6.2</td></tr><tr><td>5.5</td></tr><tr><td>5.8</td></tr><tr><td>6.2</td></tr><tr><td>6.2</td></tr><tr><td>5.6</td></tr><tr><td>5.4</td></tr><tr><td>6</td></tr><tr><td>5.1</td></tr><tr><td>5.8</td></tr><tr><td>5</td></tr><tr><td>4.9</td></tr><tr><td>5.8</td></tr><tr><td>5.8</td></tr><tr><td>4.5</td></tr><tr><td>4.8</td></tr><tr><td>5.4</td></tr><tr><td>5.3</td></tr><tr><td>6.2</td></tr><tr><td>6.2</td></tr><tr><td>5.4</td></tr><tr><td>6.4</td></tr><tr><td>6.4</td></tr><tr><td>5.9</td></tr><tr><td>5.8</td></tr><tr><td>5.9</td></tr><tr><td>5.2</td></tr><tr><td>5.1</td></tr><tr><td>6.2</td></tr><tr><td>6.3</td></tr><tr><td>5.6</td></tr><tr><td>6.1</td></tr><tr><td>5.1</td></tr><tr><td>6.4</td></tr><tr><td>6.2</td></tr><tr><td>6.3</td></tr><tr><td>5.7</td></tr><tr><td>5.4</td></tr><tr><td>5.7</td></tr><tr><td>5.7</td></tr><tr><td>5.7</td></tr><tr><td>5.8</td></tr><tr><td>5.8</td></tr><tr><td>5.9</td></tr><tr><td>5.5</td></tr><tr><td>5.5</td></tr><tr><td>5.2</td></tr><tr><td>5.3</td></tr><tr><td>5.7</td></tr><tr><td>4.9</td></tr><tr><td>4.9</td></tr><tr><td>5.1</td></tr><tr><td>6.9</td></tr><tr><td>6.6</td></tr><tr><td>4.9</td></tr><tr><td>6.1</td></tr><tr><td>5.6</td></tr><tr><td>6.4</td></tr><tr><td>6.4</td></tr><tr><td>6</td></tr><tr><td>6.4</td></tr><tr><td>5.2</td></tr><tr><td>6.8</td></tr><tr><td>5.9</td></tr><tr><td>5.8</td></tr><tr><td>6.3</td></tr><tr><td>5.7</td></tr><tr><td>6.4</td></tr><tr><td>5.7</td></tr><tr><td>5.5</td></tr><tr><td>6.2</td></tr><tr><td>5.6</td></tr><tr><td>6.2</td></tr><tr><td>6.4</td></tr><tr><td>5.7</td></tr><tr><td>5.7</td></tr><tr><td>6.5</td></tr><tr><td>5.5</td></tr><tr><td>5.7</td></tr><tr><td>4.9</td></tr><tr><td>5.7</td></tr><tr><td>6.5</td></tr><tr><td>4.7</td></tr><tr><td>6.5</td></tr><tr><td>5.3</td></tr><tr><td>6</td></tr><tr><td>5</td></tr><tr><td>6.9</td></tr><tr><td>5.1</td></tr><tr><td>5</td></tr><tr><td>4.8</td></tr><tr><td>5.6</td></tr><tr><td>6.4</td></tr><tr><td>5.7</td></tr><tr><td>5.9</td></tr><tr><td>6.5</td></tr><tr><td>4.9</td></tr><tr><td>5.8</td></tr><tr><td>5.3</td></tr><tr><td>5</td></tr><tr><td>5.3</td></tr><tr><td>5.1</td></tr><tr><td>5.5</td></tr><tr><td>4.5</td></tr><tr><td>5.5</td></tr><tr><td>5.4</td></tr><tr><td>5.1</td></tr><tr><td>5.6</td></tr><tr><td>5.6</td></tr><tr><td>5.3</td></tr><tr><td>4.8</td></tr><tr><td>4.2</td></tr><tr><td>6</td></tr><tr><td>5.2</td></tr><tr><td>5.2</td></tr><tr><td>6.1</td></tr><tr><td>5.2</td></tr><tr><td>5</td></tr><tr><td>5.5</td></tr><tr><td>4.5</td></tr><tr><td>5.6</td></tr><tr><td>6</td></tr><tr><td>5.3</td></tr><tr><td>5.8</td></tr><tr><td>4.9</td></tr><tr><td>5.8</td></tr><tr><td>5.9</td></tr><tr><td>4.7</td></tr><tr><td>4.7</td></tr><tr><td>5.2</td></tr><tr><td>5.4</td></tr><tr><td>4.8</td></tr><tr><td>4.8</td></tr><tr><td>5.2</td></tr><tr><td>5</td></tr><tr><td>5.8</td></tr><tr><td>5.8</td></tr><tr><td>5.8</td></tr><tr><td>5.4</td></tr><tr><td>5.4</td></tr><tr><td>5</td></tr><tr><td>5</td></tr><tr><td>4.9</td></tr><tr><td>5.1</td></tr><tr><td>4.9</td></tr><tr><td>5.2</td></tr><tr><td>5.2</td></tr><tr><td>5</td></tr><tr><td>5.2</td></tr><tr><td>5.2</td></tr><tr><td>5</td></tr><tr><td>5.4</td></tr><tr><td>5.2</td></tr><tr><td>5.3</td></tr><tr><td>5.1</td></tr><tr><td>5.6</td></tr><tr><td>5.3</td></tr><tr><td>5.3</td></tr><tr><td>5.8</td></tr><tr><td>5.3</td></tr><tr><td>5.1</td></tr><tr><td>4.9</td></tr><tr><td>5.9</td></tr><tr><td>5.7</td></tr><tr><td>6.4</td></tr><tr><td>5.7</td></tr><tr><td>6.8</td></tr><tr><td>5.3</td></tr><tr><td>5.3</td></tr><tr><td>5.3</td></tr><tr><td>4.5</td></tr><tr><td>4.6</td></tr><tr><td>6.5</td></tr><tr><td>5</td></tr><tr><td>5.2</td></tr><tr><td>6.6</td></tr><tr><td>5.8</td></tr><tr><td>5.2</td></tr><tr><td>4.9</td></tr><tr><td>5.5</td></tr><tr><td>5.2</td></tr><tr><td>5.2</td></tr><tr><td>5.1</td></tr><tr><td>5.5</td></tr><tr><td>6.1</td></tr><tr><td>5.6</td></tr><tr><td>5.6</td></tr><tr><td>6.1</td></tr><tr><td>5.2</td></tr><tr><td>6.1</td></tr><tr><td>5.2</td></tr><tr><td>6.1</td></tr><tr><td>5.3</td></tr><tr><td>5.3</td></tr><tr><td>5.1</td></tr><tr><td>5.9</td></tr><tr><td>5.9</td></tr><tr><td>5.5</td></tr><tr><td>5.5</td></tr><tr><td>5.7</td></tr><tr><td>6</td></tr><tr><td>5.6</td></tr><tr><td>5.6</td></tr><tr><td>4.5</td></tr><tr><td>5.1</td></tr><tr><td>5.6</td></tr><tr><td>5.1</td></tr><tr><td>7</td></tr><tr><td>5.8</td></tr><tr><td>5.3</td></tr><tr><td>5.2</td></tr><tr><td>5.2</td></tr><tr><td>5.5</td></tr><tr><td>6.8</td></tr><tr><td>5</td></tr><tr><td>4.8</td></tr><tr><td>5.3</td></tr><tr><td>5.3</td></tr><tr><td>5.3</td></tr><tr><td>5.3</td></tr><tr><td>5.4</td></tr><tr><td>4.7</td></tr><tr><td>4.7</td></tr><tr><td>6.8</td></tr><tr><td>4.7</td></tr><tr><td>4.8</td></tr><tr><td>5.7</td></tr><tr><td>6.5</td></tr><tr><td>6.5</td></tr><tr><td>5.5</td></tr><tr><td>5.7</td></tr><tr><td>6.6</td></tr><tr><td>5.5</td></tr><tr><td>5.7</td></tr><tr><td>5.1</td></tr><tr><td>5.8</td></tr><tr><td>5.9</td></tr><tr><td>6.7</td></tr><tr><td>4.9</td></tr><tr><td>5.1</td></tr><tr><td>5.7</td></tr><tr><td>5.9</td></tr><tr><td>5.9</td></tr><tr><td>5.6</td></tr><tr><td>5.1</td></tr><tr><td>6.1</td></tr><tr><td>5.6</td></tr><tr><td>6.2</td></tr><tr><td>6.2</td></tr><tr><td>5.1</td></tr><tr><td>5.2</td></tr><tr><td>5.1</td></tr><tr><td>5.6</td></tr><tr><td>5.6</td></tr><tr><td>5.6</td></tr><tr><td>5.6</td></tr><tr><td>6.1</td></tr><tr><td>5.6</td></tr><tr><td>5.6</td></tr><tr><td>6.1</td></tr><tr><td>6</td></tr><tr><td>6.2</td></tr><tr><td>6.2</td></tr><tr><td>6.6</td></tr><tr><td>5.9</td></tr><tr><td>7.1</td></tr><tr><td>5.3</td></tr><tr><td>5.3</td></tr><tr><td>5.3</td></tr><tr><td>6.3</td></tr><tr><td>5</td></tr><tr><td>6.5</td></tr><tr><td>5.9</td></tr><tr><td>5.6</td></tr><tr><td>6.7</td></tr><tr><td>5.6</td></tr><tr><td>5.1</td></tr><tr><td>5.5</td></tr><tr><td>6.4</td></tr><tr><td>5.8</td></tr><tr><td>5.5</td></tr><tr><td>6.1</td></tr><tr><td>6.1</td></tr><tr><td>6.4</td></tr><tr><td>6.1</td></tr><tr><td>5.5</td></tr><tr><td>5.5</td></tr><tr><td>5.8</td></tr><tr><td>4.9</td></tr><tr><td>6</td></tr><tr><td>6</td></tr><tr><td>6.9</td></tr><tr><td>5.1</td></tr><tr><td>5.2</td></tr><tr><td>5.2</td></tr><tr><td>6.2</td></tr><tr><td>5.2</td></tr><tr><td>5.2</td></tr><tr><td>6.3</td></tr><tr><td>6.2</td></tr><tr><td>6.2</td></tr><tr><td>6.2</td></tr><tr><td>6.2</td></tr><tr><td>5.4</td></tr><tr><td>4.8</td></tr><tr><td>6.2</td></tr><tr><td>5.4</td></tr><tr><td>6.7</td></tr><tr><td>5.3</td></tr><tr><td>5.4</td></tr><tr><td>4.9</td></tr><tr><td>5.4</td></tr><tr><td>4.9</td></tr><tr><td>5.1</td></tr><tr><td>6</td></tr><tr><td>5.7</td></tr><tr><td>5</td></tr><tr><td>5.7</td></tr><tr><td>5.6</td></tr><tr><td>5.6</td></tr><tr><td>5.3</td></tr><tr><td>4.7</td></tr><tr><td>4.5</td></tr><tr><td>5.8</td></tr><tr><td>5</td></tr><tr><td>5.7</td></tr><tr><td>5.7</td></tr><tr><td>5.7</td></tr><tr><td>7.2</td></tr><tr><td>7.2</td></tr><tr><td>5.5</td></tr><tr><td>5.9</td></tr><tr><td>5</td></tr><tr><td>5.3</td></tr><tr><td>4.9</td></tr><tr><td>5.9</td></tr><tr><td>5.9</td></tr><tr><td>5.5</td></tr><tr><td>5.9</td></tr><tr><td>5.6</td></tr><tr><td>6.5</td></tr><tr><td>5.6</td></tr><tr><td>5.6</td></tr><tr><td>5.4</td></tr><tr><td>6.3</td></tr><tr><td>4.7</td></tr><tr><td>6.1</td></tr><tr><td>5.2</td></tr><tr><td>4.8</td></tr><tr><td>5.4</td></tr><tr><td>5</td></tr><tr><td>5.1</td></tr><tr><td>4.8</td></tr><tr><td>5.1</td></tr><tr><td>5.4</td></tr><tr><td>5.5</td></tr><tr><td>5.1</td></tr><tr><td>4.9</td></tr><tr><td>5.1</td></tr><tr><td>4.9</td></tr><tr><td>5</td></tr><tr><td>5</td></tr><tr><td>4.9</td></tr><tr><td>4.7</td></tr><tr><td>5.5</td></tr><tr><td>5.5</td></tr><tr><td>5.5</td></tr><tr><td>5.3</td></tr><tr><td>5.5</td></tr><tr><td>5.7</td></tr><tr><td>5</td></tr><tr><td>5</td></tr><tr><td>5.1</td></tr><tr><td>5</td></tr><tr><td>5</td></tr><tr><td>5.2</td></tr><tr><td>5.8</td></tr><tr><td>5.1</td></tr><tr><td>5.6</td></tr><tr><td>5.6</td></tr><tr><td>5.3</td></tr><tr><td>5.4</td></tr><tr><td>5.1</td></tr><tr><td>6.1</td></tr><tr><td>5.1</td></tr><tr><td>4.9</td></tr><tr><td>6.1</td></tr><tr><td>5.5</td></tr><tr><td>5.8</td></tr><tr><td>5.8</td></tr><tr><td>5</td></tr><tr><td>5</td></tr><tr><td>5</td></tr><tr><td>4.8</td></tr><tr><td>4.9</td></tr><tr><td>5.4</td></tr><tr><td>5.7</td></tr><tr><td>5.1</td></tr><tr><td>5.1</td></tr><tr><td>6.6</td></tr><tr><td>5.9</td></tr><tr><td>6.4</td></tr><tr><td>6.6</td></tr><tr><td>4.8</td></tr><tr><td>5.1</td></tr><tr><td>4.8</td></tr><tr><td>5.2</td></tr><tr><td>6.3</td></tr><tr><td>6.5</td></tr><tr><td>5.9</td></tr><tr><td>5.6</td></tr><tr><td>6.6</td></tr><tr><td>5.7</td></tr><tr><td>5.2</td></tr><tr><td>5.1</td></tr><tr><td>4.7</td></tr><tr><td>5.2</td></tr><tr><td>6.5</td></tr><tr><td>4.9</td></tr><tr><td>5.2</td></tr><tr><td>4.9</td></tr><tr><td>6.4</td></tr><tr><td>6.5</td></tr><tr><td>6.3</td></tr><tr><td>5.5</td></tr><tr><td>6.4</td></tr><tr><td>5.5</td></tr><tr><td>6.5</td></tr><tr><td>5.5</td></tr><tr><td>5.5</td></tr><tr><td>5.3</td></tr><tr><td>6.1</td></tr><tr><td>5.9</td></tr><tr><td>5.9</td></tr><tr><td>4.5</td></tr><tr><td>4.7</td></tr><tr><td>5</td></tr><tr><td>5.3</td></tr><tr><td>5.1</td></tr><tr><td>6</td></tr><tr><td>5.1</td></tr><tr><td>5.2</td></tr><tr><td>6.1</td></tr><tr><td>5.2</td></tr><tr><td>5.1</td></tr><tr><td>4.9</td></tr><tr><td>5.3</td></tr><tr><td>5</td></tr><tr><td>5</td></tr><tr><td>5.5</td></tr><tr><td>6.5</td></tr><tr><td>5.3</td></tr><tr><td>5.5</td></tr><tr><td>5.9</td></tr><tr><td>5.4</td></tr><tr><td>5.7</td></tr><tr><td>5.5</td></tr><tr><td>5.4</td></tr><tr><td>5.4</td></tr><tr><td>5.8</td></tr><tr><td>6.4</td></tr><tr><td>5.4</td></tr><tr><td>5.7</td></tr><tr><td>5.5</td></tr><tr><td>6.5</td></tr><tr><td>5</td></tr><tr><td>5</td></tr><tr><td>5</td></tr><tr><td>5.9</td></tr><tr><td>4.8</td></tr><tr><td>4.8</td></tr><tr><td>4.8</td></tr><tr><td>5.3</td></tr><tr><td>5.3</td></tr><tr><td>5.3</td></tr><tr><td>5.3</td></tr><tr><td>5.2</td></tr><tr><td>5.1</td></tr><tr><td>5.3</td></tr><tr><td>6</td></tr><tr><td>6.5</td></tr><tr><td>6.6</td></tr><tr><td>6.5</td></tr><tr><td>5.3</td></tr><tr><td>6.4</td></tr><tr><td>5</td></tr><tr><td>5.9</td></tr><tr><td>5.5</td></tr></table>"
                    }
                }
            ],
            "execution_count": 7
        }
    ]
}